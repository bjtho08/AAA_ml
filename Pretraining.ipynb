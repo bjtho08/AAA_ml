{
 "cells": [
  {
   "cell_type": "code",
   "execution_count": 1,
   "metadata": {},
   "outputs": [
    {
     "name": "stdout",
     "output_type": "stream",
     "text": [
      "3.6.8\n",
      "3.6.8 |Anaconda, Inc.| (default, Dec 30 2018, 01:22:34) \n",
      "[GCC 7.3.0]\n"
     ]
    },
    {
     "name": "stderr",
     "output_type": "stream",
     "text": [
      "Using TensorFlow backend.\n"
     ]
    }
   ],
   "source": [
    "import platform\n",
    "import sys\n",
    "import os\n",
    "import os.path as osp\n",
    "import datetime\n",
    "import logging\n",
    "import numpy as np\n",
    "import matplotlib.pyplot as plt\n",
    "from sklearn.metrics import confusion_matrix\n",
    "\n",
    "import traceback\n",
    "\n",
    "print(platform.python_version())\n",
    "print(sys.version)\n",
    "os.environ[\"CUDA_VISIBLE_DEVICES\"] = \"0\"\n",
    "\n",
    "from keras.optimizers import Adam\n",
    "from keras_radam import RAdam\n",
    "from keras.layers.advanced_activations import ReLU\n",
    "from keras_contrib.layers.advanced_activations.swish import Swish\n",
    "from keras import backend as K\n",
    "import tensorflow as tf\n",
    "from keras.callbacks import EarlyStopping, ModelCheckpoint, ReduceLROnPlateau, TensorBoard, CSVLogger\n",
    "from keras.wrappers.scikit_learn import KerasClassifier\n",
    "from keras.losses import categorical_crossentropy\n",
    "from keras.utils import Sequence,to_categorical, plot_model\n",
    "from keras.backend.tensorflow_backend import clear_session\n",
    "from keras.backend.tensorflow_backend import get_session\n",
    "from tqdm import tqdm, tqdm_notebook\n",
    "from keras_tqdm import TQDMNotebookCallback\n",
    "\n",
    "###################################\n",
    "#Clean session\n",
    "sess = get_session()\n",
    "clear_session()\n",
    "sess.close()\n",
    "# TensorFlow wizardry\n",
    "config = tf.ConfigProto(log_device_placement=True)\n",
    "\n",
    "# Don't pre-allocate memory; allocate as-needed\n",
    "config.gpu_options.allow_growth = True\n",
    "\n",
    "# Only allow a total of half the GPU memory to be allocated\n",
    "# config.gpu_options.per_process_gpu_memory_fraction = 0.5\n",
    "\n",
    "# Create a session with the above options specified.\n",
    "K.tensorflow_backend.set_session(tf.Session(config=config))\n",
    "###################################\n",
    "\n",
    "# Magic used by the notebook to show figures inline\n",
    "\n",
    "%matplotlib inline\n",
    "# matplotlib default values\n",
    "plt.rcParams[\"figure.figsize\"] = (20.0, 16.0)\n",
    "plt.rcParams[\"image.interpolation\"] = \"nearest\"\n",
    "plt.rcParams[\"image.cmap\"] = \"jet\"\n",
    "\n",
    "# auto-reloading packages\n",
    "%load_ext autoreload\n",
    "%autoreload 2\n",
    "\n",
    "# local package\n",
    "from mmciad.utils.io import read_samples, load_slides, load_slides_as_dict\n",
    "from mmciad.utils.u_net import u_net\n",
    "#from mmciad.utils.u_resnet import u_resnet\n",
    "from mmciad.utils.custom_loss import weighted_loss, jaccard2_loss, tversky_loss, categorical_focal_loss, get_weighted_categorical_crossentropy\n",
    "from mmciad.utils.preprocessing import calculate_stats, calculate_class_weights\n",
    "from mmciad.utils.callbacks import PatchedModelCheckpoint"
   ]
  },
  {
   "cell_type": "code",
   "execution_count": 2,
   "metadata": {},
   "outputs": [],
   "source": [
    "from skimage.io import imread, imsave\n",
    "from glob import glob\n",
    "\n",
    "data_path = \"./data/ADEChallengeData2016/\"\n",
    "img_path = \"images\"\n",
    "annot_path = \"annotations\"\n",
    "train_path = \"training/\"\n",
    "val_path = \"validation/\"\n",
    "num_class=151\n",
    "np.random.seed(1992)"
   ]
  },
  {
   "cell_type": "code",
   "execution_count": 20,
   "metadata": {},
   "outputs": [
    {
     "name": "stdout",
     "output_type": "stream",
     "text": [
      "20210\n"
     ]
    },
    {
     "ename": "TypeError",
     "evalue": "'list' object cannot be interpreted as an integer",
     "output_type": "error",
     "traceback": [
      "\u001b[0;31m---------------------------------------------------------------------------\u001b[0m",
      "\u001b[0;31mTypeError\u001b[0m                                 Traceback (most recent call last)",
      "\u001b[0;32m<ipython-input-20-600bde9f65c0>\u001b[0m in \u001b[0;36m<module>\u001b[0;34m\u001b[0m\n\u001b[1;32m     59\u001b[0m     \u001b[0mprint\u001b[0m\u001b[0;34m(\u001b[0m\u001b[0;34m\"{} image from {} data created.\"\u001b[0m\u001b[0;34m.\u001b[0m\u001b[0mformat\u001b[0m\u001b[0;34m(\u001b[0m\u001b[0moutput_img_counter\u001b[0m\u001b[0;34m,\u001b[0m \u001b[0mprefix\u001b[0m\u001b[0;34m)\u001b[0m\u001b[0;34m)\u001b[0m\u001b[0;34m\u001b[0m\u001b[0;34m\u001b[0m\u001b[0m\n\u001b[1;32m     60\u001b[0m \u001b[0;34m\u001b[0m\u001b[0m\n\u001b[0;32m---> 61\u001b[0;31m \u001b[0mcreate_samples\u001b[0m\u001b[0;34m(\u001b[0m\u001b[0mdata_path\u001b[0m\u001b[0;34m,\u001b[0m \u001b[0mtrain_path\u001b[0m\u001b[0;34m)\u001b[0m\u001b[0;34m\u001b[0m\u001b[0;34m\u001b[0m\u001b[0m\n\u001b[0m\u001b[1;32m     62\u001b[0m \u001b[0mcreate_samples\u001b[0m\u001b[0;34m(\u001b[0m\u001b[0mdata_path\u001b[0m\u001b[0;34m,\u001b[0m\u001b[0mval_path\u001b[0m\u001b[0;34m)\u001b[0m\u001b[0;34m\u001b[0m\u001b[0;34m\u001b[0m\u001b[0m\n",
      "\u001b[0;32m<ipython-input-20-600bde9f65c0>\u001b[0m in \u001b[0;36mcreate_samples\u001b[0;34m(path, prefix)\u001b[0m\n\u001b[1;32m     20\u001b[0m         \u001b[0mY_batch\u001b[0m \u001b[0;34m=\u001b[0m \u001b[0;34m[\u001b[0m\u001b[0mi\u001b[0m\u001b[0;34m[\u001b[0m\u001b[0;36m1\u001b[0m\u001b[0;34m]\u001b[0m \u001b[0;32mfor\u001b[0m \u001b[0mi\u001b[0m \u001b[0;32min\u001b[0m \u001b[0mXY_batch\u001b[0m\u001b[0;34m]\u001b[0m\u001b[0;34m\u001b[0m\u001b[0;34m\u001b[0m\u001b[0m\n\u001b[1;32m     21\u001b[0m         \u001b[0mX_samples\u001b[0m \u001b[0;34m=\u001b[0m \u001b[0;34m[\u001b[0m\u001b[0mimread\u001b[0m\u001b[0;34m(\u001b[0m\u001b[0mi\u001b[0m\u001b[0;34m)\u001b[0m\u001b[0;34m.\u001b[0m\u001b[0mastype\u001b[0m\u001b[0;34m(\u001b[0m\u001b[0;34m\"float\"\u001b[0m\u001b[0;34m)\u001b[0m \u001b[0;34m/\u001b[0m \u001b[0;36m255.0\u001b[0m \u001b[0;32mfor\u001b[0m \u001b[0mi\u001b[0m \u001b[0;32min\u001b[0m \u001b[0mX_batch\u001b[0m\u001b[0;34m]\u001b[0m\u001b[0;34m\u001b[0m\u001b[0;34m\u001b[0m\u001b[0m\n\u001b[0;32m---> 22\u001b[0;31m         \u001b[0;32mfor\u001b[0m \u001b[0midx\u001b[0m \u001b[0;32min\u001b[0m \u001b[0mrange\u001b[0m\u001b[0;34m(\u001b[0m\u001b[0mX_samples\u001b[0m\u001b[0;34m)\u001b[0m\u001b[0;34m:\u001b[0m\u001b[0;34m\u001b[0m\u001b[0;34m\u001b[0m\u001b[0m\n\u001b[0m\u001b[1;32m     23\u001b[0m             \u001b[0;32mif\u001b[0m \u001b[0mlen\u001b[0m\u001b[0;34m(\u001b[0m\u001b[0mX_samples\u001b[0m\u001b[0;34m[\u001b[0m\u001b[0midx\u001b[0m\u001b[0;34m]\u001b[0m\u001b[0;34m.\u001b[0m\u001b[0mshape\u001b[0m\u001b[0;34m)\u001b[0m \u001b[0;34m!=\u001b[0m \u001b[0;36m3\u001b[0m\u001b[0;34m:\u001b[0m\u001b[0;34m\u001b[0m\u001b[0;34m\u001b[0m\u001b[0m\n\u001b[1;32m     24\u001b[0m                 \u001b[0mX_samples\u001b[0m\u001b[0;34m[\u001b[0m\u001b[0midx\u001b[0m\u001b[0;34m]\u001b[0m \u001b[0;34m=\u001b[0m \u001b[0mnp\u001b[0m\u001b[0;34m.\u001b[0m\u001b[0mstack\u001b[0m\u001b[0;34m(\u001b[0m\u001b[0;34m(\u001b[0m\u001b[0mX_samples\u001b[0m\u001b[0;34m[\u001b[0m\u001b[0midx\u001b[0m\u001b[0;34m]\u001b[0m\u001b[0;34m,\u001b[0m\u001b[0;34m)\u001b[0m\u001b[0;34m*\u001b[0m\u001b[0;36m3\u001b[0m\u001b[0;34m,\u001b[0m \u001b[0maxis\u001b[0m\u001b[0;34m=\u001b[0m\u001b[0;34m-\u001b[0m\u001b[0;36m1\u001b[0m\u001b[0;34m)\u001b[0m\u001b[0;34m\u001b[0m\u001b[0;34m\u001b[0m\u001b[0m\n",
      "\u001b[0;31mTypeError\u001b[0m: 'list' object cannot be interpreted as an integer"
     ]
    }
   ],
   "source": [
    "def batch(iterable, n=1):\n",
    "    l = len(iterable)\n",
    "    counter = 0\n",
    "    for ndx in range(0, l, n):\n",
    "        counter += 1\n",
    "        yield counter, iterable[ndx:min(ndx + n, l)]\n",
    "\n",
    "def create_samples(path, prefix=\"training\"):\n",
    "    size = (208, 208)\n",
    "    X_files = sorted(glob(osp.join(path, img_path, prefix, \"*.jpg\")), key=str.lower)\n",
    "    Y_files = sorted(glob(osp.join(path, annot_path, prefix, \"*.png\")), key=str.lower)\n",
    "    XY_files = list(zip(X_files, Y_files))\n",
    "    num_img = len(X_files)\n",
    "    print(num_img)\n",
    "    Xr = []  # np.zeros(shape=(n_samples*num_img, size[0], size[1], 3), dtype=\"float\")\n",
    "    Yr = []  # np.zeros(shape=(n_samples*num_img, size[0], size[1], num_cls), dtype=\"uint8\")\n",
    "    output_img_counter = 0\n",
    "    for count, XY_batch in batch(XY_files, 50):\n",
    "        X_batch = [i[0] for i in XY_batch]\n",
    "        Y_batch = [i[1] for i in XY_batch]\n",
    "        X_samples = [imread(i).astype(\"float\") / 255.0 for i in X_batch]\n",
    "        for idx in range(len(X_samples)):\n",
    "            if len(X_samples[idx].shape) != 3:\n",
    "                X_samples[idx] = np.stack((X_samples[idx],)*3, axis=-1)\n",
    "        Y_samples = [imread(i) for i in Y_batch]\n",
    "        for x_i, y_i in zip(X_samples, Y_samples):\n",
    "            X_, Y_ = y_i.shape\n",
    "            px, py = np.mgrid[0:X_:160, 0:Y_:160]\n",
    "            points = np.c_[px.ravel(), py.ravel()]\n",
    "            pr = points.shape[0]\n",
    "            for n in range(pr):\n",
    "                x, y = points[n, :]\n",
    "                res_x = x_i[x : x + size[0], y : y + size[1]]\n",
    "                res_y = y_i[x : x + size[0], y : y + size[1]]\n",
    "                change = False\n",
    "                keep = True\n",
    "                if X_ < 208 or Y_ < 208:\n",
    "                    keep = False\n",
    "                if (x + size[0]) > X_:\n",
    "                    x = X_ - size[0]\n",
    "                    change = True\n",
    "                if (y + size[1]) > Y_:\n",
    "                    y = Y_ - size[1]\n",
    "                    change = True\n",
    "                if change:\n",
    "                    res_x = x_i[x : x + size[0], y : y + size[1]]\n",
    "                    res_y = y_i[x : x + size[0], y : y + size[1]]\n",
    "                if keep:\n",
    "                    Xr.append(res_x)\n",
    "                    Yr.append(res_y)\n",
    "        #X = np.vstack(Xr).astype(\"float\")\n",
    "        #Y = np.vstack(Yr).astype(\"uint8\")\n",
    "        for i in range(len(Xr)):  ## Check_contrast will be available from version 0.15\n",
    "            imsave(osp.join(path, img_path, prefix, \"X_{:08d}.tif\".format(output_img_counter)), Xr[i].astype(\"float\"), check_contrast=False)\n",
    "            imsave(osp.join(path, img_path, prefix, \"gt\",\"X_{:08d}.tif\".format(output_img_counter)), Yr[i].astype(\"uint8\"), check_contrast=False)\n",
    "            output_img_counter += 1\n",
    "        del Xr[:]  # np.zeros(shape=(n_samples*num_img, size[0], size[1], 3), dtype=\"float\")\n",
    "        del Yr[:]  # np.zeros(shape=(n_samples*num_img, size[0], size[1], num_cls), dtype=\"uint8\")\n",
    "    print(\"{} image from {} data created.\".format(output_img_counter, prefix))\n",
    "\n",
    "create_samples(data_path, train_path)\n",
    "create_samples(data_path,val_path)"
   ]
  },
  {
   "cell_type": "code",
   "execution_count": null,
   "metadata": {},
   "outputs": [],
   "source": [
    "#train_m, train_s, x_min, x_max = calculate_stats(path=data_path, local=False)"
   ]
  },
  {
   "cell_type": "code",
   "execution_count": 24,
   "metadata": {},
   "outputs": [],
   "source": [
    "from imgaug import augmenters as iaa\n",
    "def augmentor(img, segmap):\n",
    "    seq = iaa.SomeOf((0, None), [\n",
    "        iaa.Fliplr(1),\n",
    "        #iaa.Affine(rotate=(-45, 45), mode=\"reflect\"),\n",
    "        iaa.Affine(scale=(0.9, 1.2), mode=\"reflect\"),\n",
    "    ])\n",
    "    seq_det = seq.to_deterministic()\n",
    "    img_aug = seq_det.augment_images(img)\n",
    "    segmap_aug = seq_det.augment_images(segmap)\n",
    "    return img_aug, segmap_aug\n",
    "\n",
    "class DataGenerator(Sequence):\n",
    "    \"Generates data for Keras\"\n",
    "\n",
    "    def __init__(\n",
    "        self,\n",
    "        path,\n",
    "        #colorvec,\n",
    "        #means,\n",
    "        #stds,\n",
    "        #x_min,\n",
    "        #x_max,\n",
    "        list_IDs=None,\n",
    "        batch_size=32,\n",
    "        dim=(208, 208),\n",
    "        n_channels=3,\n",
    "        n_classes=10,\n",
    "        shuffle=True,\n",
    "        augmenter=True,\n",
    "    ):\n",
    "        \"Initialization\"\n",
    "        self.dim = dim\n",
    "        self.path = path\n",
    "        #self.colorvec = colorvec\n",
    "        #self.means = means\n",
    "        #self.stds = stds\n",
    "        #self.x_min = x_min\n",
    "        #self.x_max = x_max\n",
    "        self.batch_size = batch_size\n",
    "        self.list_IDs = list_IDs\n",
    "        self.n_channels = n_channels\n",
    "        self.n_classes = n_classes\n",
    "        self.shuffle = shuffle\n",
    "        self.augment = augmenter\n",
    "\n",
    "        if self.list_IDs is None:\n",
    "            self.list_IDs = [\n",
    "                osp.splitext(osp.basename(i))[0]\n",
    "                for i in glob(osp.join(self.path, \"*.tif\"))\n",
    "            ]\n",
    "\n",
    "        self.on_epoch_end()\n",
    "\n",
    "    def __len__(self):\n",
    "        \"Denotes the number of batches per epoch\"\n",
    "        return int(np.floor(len(self.list_IDs) / self.batch_size))\n",
    "\n",
    "    def __getitem__(self, index):\n",
    "        \"Generate one batch of data\"\n",
    "        # Generate indexes of the batch\n",
    "        indexes = self.indexes[index * self.batch_size : (index + 1) * self.batch_size]\n",
    "\n",
    "        # Find list of IDs\n",
    "        list_IDs_temp = [self.list_IDs[k] for k in indexes]\n",
    "\n",
    "        # Generate data\n",
    "        X, y = self.__data_generation(list_IDs_temp)\n",
    "\n",
    "        return X, y\n",
    "\n",
    "    def on_epoch_end(self):\n",
    "        \"Updates indexes after each epoch\"\n",
    "        self.indexes = np.arange(len(self.list_IDs))\n",
    "        if self.shuffle == True:\n",
    "            np.random.shuffle(self.indexes)\n",
    "\n",
    "    def __data_generation(self, list_IDs_temp):\n",
    "        \"Generates data containing batch_size samples\"\n",
    "        # X : (n_samples, *dim, n_channels)\n",
    "        # Initialization\n",
    "        X = np.empty((self.batch_size, *self.dim, self.n_channels))\n",
    "        y = np.empty((self.batch_size, *self.dim, 1), dtype=np.uint8)\n",
    "        y_class = [\n",
    "            np.zeros((*self.dim, 1), dtype=np.uint8) for _ in range(self.batch_size)\n",
    "        ]\n",
    "\n",
    "        # Generate data\n",
    "        for i, ID in enumerate(list_IDs_temp):\n",
    "            # Store sample\n",
    "            try:\n",
    "                X[i] = imread(self.path + ID + \".tif\").astype(\"float\")\n",
    "            except ValueError:\n",
    "                x_tmp = imread(self.path + ID + \".tif\").astype(\"float\")\n",
    "                assert len(x_tmp.shape) == 2, \"Something else is wrong\"\n",
    "                X[i] = np.stack((x_tmp,)*3, axis=-1)\n",
    "            #X[i] = (X[i] - self.means) / self.stds\n",
    "            #X[i] = (X[i] - self.x_min)/(self.x_max - self.x_min)\n",
    "            # Store class\n",
    "            y[i,] = np.expand_dims(imread(self.path + \"gt/\" + ID + \".tif\").astype(\"uint8\"), axis=-1)\n",
    "            #for cls_ in range(self.n_classes):\n",
    "            #    color = self.colorvec[cls_, :]\n",
    "            #    y_class[i] += np.expand_dims(\n",
    "            #        np.logical_and.reduce(y[i,] == color, axis=-1) * cls_, axis=-1\n",
    "            #    ).astype(\"uint8\")\n",
    "            y_class[i] = to_categorical(y[i], num_classes=self.n_classes)\n",
    "        if self.augment:\n",
    "            X, y = augmentor(X, y_class)\n",
    "\n",
    "        return np.asarray(X, dtype=\"float\"), np.asarray(y, dtype=\"uint8\")"
   ]
  },
  {
   "cell_type": "code",
   "execution_count": 25,
   "metadata": {},
   "outputs": [],
   "source": [
    "# I/O Params\n",
    "weight_path = \"./weights\"\n",
    "\n",
    "IMG_ROWS, IMG_COLS, IMG_CHANNELS = (None, None, 3)\n",
    "# architecture params\n",
    "NB_FILTERS_0 = 64\n",
    "SIGMA_NOISE = 0.01\n",
    "\n",
    "# ****  deep learning model\n",
    "SHAPE = (IMG_ROWS, IMG_COLS, IMG_CHANNELS)\n",
    "BATCH_SIZE = 12\n",
    "NB_EPOCH = 400\n",
    "NB_FROZEN = 40\n",
    "VERBOSE = 0\n",
    "\n",
    "train_generator = DataGenerator(\n",
    "    osp.join(data_path, img_path, train_path),\n",
    "    batch_size=BATCH_SIZE,\n",
    "    dim=(208, 208),\n",
    "    n_channels=3,\n",
    "    n_classes=num_class,\n",
    "    shuffle=True,\n",
    "    augmenter=True,\n",
    ")\n",
    "\n",
    "val_generator = DataGenerator(\n",
    "    osp.join(data_path, img_path, val_path),\n",
    "    batch_size=BATCH_SIZE,\n",
    "    dim=(208, 208),\n",
    "    n_channels=3,\n",
    "    n_classes=num_class,\n",
    "    shuffle=True,\n",
    "    augmenter=True,\n",
    ")"
   ]
  },
  {
   "cell_type": "code",
   "execution_count": 26,
   "metadata": {
    "scrolled": true
   },
   "outputs": [
    {
     "data": {
      "application/vnd.jupyter.widget-view+json": {
       "model_id": "47fb4a018ed34abbbc1e25dc2dd9c7bc",
       "version_major": 2,
       "version_minor": 0
      },
      "text/plain": [
       "HBox(children=(IntProgress(value=0, description='Training', max=400, style=ProgressStyle(description_width='in…"
      ]
     },
     "metadata": {},
     "output_type": "display_data"
    },
    {
     "data": {
      "application/vnd.jupyter.widget-view+json": {
       "model_id": "04771975d113441ab87f04f47dc70d16",
       "version_major": 2,
       "version_minor": 0
      },
      "text/plain": [
       "HBox(children=(IntProgress(value=0, description='Epoch 0', max=21753, style=ProgressStyle(description_width='i…"
      ]
     },
     "metadata": {},
     "output_type": "display_data"
    },
    {
     "data": {
      "application/vnd.jupyter.widget-view+json": {
       "model_id": "5ff02baf03d84206829b3b896f5c263d",
       "version_major": 2,
       "version_minor": 0
      },
      "text/plain": [
       "HBox(children=(IntProgress(value=0, description='Epoch 1', max=21753, style=ProgressStyle(description_width='i…"
      ]
     },
     "metadata": {},
     "output_type": "display_data"
    },
    {
     "data": {
      "application/vnd.jupyter.widget-view+json": {
       "model_id": "6a6c69b1f7094a059043d33c9cb3f967",
       "version_major": 2,
       "version_minor": 0
      },
      "text/plain": [
       "HBox(children=(IntProgress(value=0, description='Epoch 2', max=21753, style=ProgressStyle(description_width='i…"
      ]
     },
     "metadata": {},
     "output_type": "display_data"
    },
    {
     "data": {
      "application/vnd.jupyter.widget-view+json": {
       "model_id": "bf45de3423ff496abada533b38116ec5",
       "version_major": 2,
       "version_minor": 0
      },
      "text/plain": [
       "HBox(children=(IntProgress(value=0, description='Epoch 3', max=21753, style=ProgressStyle(description_width='i…"
      ]
     },
     "metadata": {},
     "output_type": "display_data"
    },
    {
     "data": {
      "application/vnd.jupyter.widget-view+json": {
       "model_id": "ccdefedb9da34264b60f74d84c11b02b",
       "version_major": 2,
       "version_minor": 0
      },
      "text/plain": [
       "HBox(children=(IntProgress(value=0, description='Epoch 4', max=21753, style=ProgressStyle(description_width='i…"
      ]
     },
     "metadata": {},
     "output_type": "display_data"
    },
    {
     "data": {
      "application/vnd.jupyter.widget-view+json": {
       "model_id": "46d804c15b9747469f872f610418dd1a",
       "version_major": 2,
       "version_minor": 0
      },
      "text/plain": [
       "HBox(children=(IntProgress(value=0, description='Epoch 5', max=21753, style=ProgressStyle(description_width='i…"
      ]
     },
     "metadata": {},
     "output_type": "display_data"
    },
    {
     "data": {
      "application/vnd.jupyter.widget-view+json": {
       "model_id": "78ee3d4d6af2492a8bd474d275130763",
       "version_major": 2,
       "version_minor": 0
      },
      "text/plain": [
       "HBox(children=(IntProgress(value=0, description='Epoch 6', max=21753, style=ProgressStyle(description_width='i…"
      ]
     },
     "metadata": {},
     "output_type": "display_data"
    },
    {
     "data": {
      "application/vnd.jupyter.widget-view+json": {
       "model_id": "bd9af6d3ca6f479f878d6947997846ce",
       "version_major": 2,
       "version_minor": 0
      },
      "text/plain": [
       "HBox(children=(IntProgress(value=0, description='Epoch 7', max=21753, style=ProgressStyle(description_width='i…"
      ]
     },
     "metadata": {},
     "output_type": "display_data"
    },
    {
     "name": "stderr",
     "output_type": "stream",
     "text": [
      "Process ForkPoolWorker-746:\n",
      "Process ForkPoolWorker-758:\n",
      "Process ForkPoolWorker-759:\n",
      "Process ForkPoolWorker-766:\n",
      "Process ForkPoolWorker-733:\n",
      "Process ForkPoolWorker-744:\n",
      "Process ForkPoolWorker-726:\n",
      "Process ForkPoolWorker-727:\n",
      "Process ForkPoolWorker-780:\n",
      "Process ForkPoolWorker-770:\n",
      "Process ForkPoolWorker-763:\n",
      "Process ForkPoolWorker-768:\n",
      "Process ForkPoolWorker-753:\n",
      "Process ForkPoolWorker-730:\n",
      "Process ForkPoolWorker-764:\n",
      "Process ForkPoolWorker-777:\n",
      "Process ForkPoolWorker-761:\n",
      "Process ForkPoolWorker-756:\n",
      "Process ForkPoolWorker-734:\n",
      "Process ForkPoolWorker-747:\n",
      "Process ForkPoolWorker-743:\n",
      "Process ForkPoolWorker-749:\n",
      "Process ForkPoolWorker-781:\n",
      "Process ForkPoolWorker-757:\n",
      "Process ForkPoolWorker-772:\n",
      "Process ForkPoolWorker-755:\n",
      "Process ForkPoolWorker-740:\n",
      "Process ForkPoolWorker-762:\n",
      "Process ForkPoolWorker-750:\n",
      "Process ForkPoolWorker-751:\n",
      "Process ForkPoolWorker-760:\n",
      "Process ForkPoolWorker-739:\n",
      "Process ForkPoolWorker-748:\n",
      "Process ForkPoolWorker-754:\n",
      "Process ForkPoolWorker-738:\n",
      "Process ForkPoolWorker-735:\n",
      "Process ForkPoolWorker-745:\n",
      "Process ForkPoolWorker-779:\n",
      "Process ForkPoolWorker-767:\n",
      "Process ForkPoolWorker-775:\n",
      "Process ForkPoolWorker-782:\n",
      "Process ForkPoolWorker-771:\n",
      "Process ForkPoolWorker-774:\n",
      "Process ForkPoolWorker-765:\n",
      "Process ForkPoolWorker-769:\n",
      "Process ForkPoolWorker-778:\n",
      "Process ForkPoolWorker-776:\n",
      "Process ForkPoolWorker-773:\n",
      "Process ForkPoolWorker-728:\n",
      "Process ForkPoolWorker-725:\n",
      "Process ForkPoolWorker-729:\n",
      "Process ForkPoolWorker-724:\n",
      "Process ForkPoolWorker-731:\n",
      "Process ForkPoolWorker-732:\n",
      "Process ForkPoolWorker-752:\n",
      "Process ForkPoolWorker-737:\n",
      "Process ForkPoolWorker-736:\n",
      "Process ForkPoolWorker-741:\n",
      "Process ForkPoolWorker-742:\n",
      "Traceback (most recent call last):\n",
      "Traceback (most recent call last):\n",
      "Traceback (most recent call last):\n",
      "Traceback (most recent call last):\n",
      "Traceback (most recent call last):\n",
      "Traceback (most recent call last):\n",
      "Traceback (most recent call last):\n",
      "Traceback (most recent call last):\n",
      "Traceback (most recent call last):\n",
      "Traceback (most recent call last):\n",
      "Traceback (most recent call last):\n",
      "Traceback (most recent call last):\n",
      "Traceback (most recent call last):\n",
      "Traceback (most recent call last):\n",
      "Traceback (most recent call last):\n",
      "Traceback (most recent call last):\n",
      "Traceback (most recent call last):\n",
      "Traceback (most recent call last):\n",
      "Traceback (most recent call last):\n",
      "Traceback (most recent call last):\n",
      "Traceback (most recent call last):\n",
      "Traceback (most recent call last):\n",
      "Traceback (most recent call last):\n",
      "Traceback (most recent call last):\n",
      "Traceback (most recent call last):\n",
      "Traceback (most recent call last):\n",
      "Traceback (most recent call last):\n",
      "Traceback (most recent call last):\n",
      "Traceback (most recent call last):\n",
      "Traceback (most recent call last):\n",
      "Traceback (most recent call last):\n",
      "Traceback (most recent call last):\n",
      "Traceback (most recent call last):\n",
      "Traceback (most recent call last):\n",
      "Traceback (most recent call last):\n",
      "  File \"/home/bjarne/.pyenv/versions/miniconda3-4.3.30/envs/tf_gpu/lib/python3.6/multiprocessing/process.py\", line 258, in _bootstrap\n",
      "    self.run()\n",
      "  File \"/home/bjarne/.pyenv/versions/miniconda3-4.3.30/envs/tf_gpu/lib/python3.6/multiprocessing/process.py\", line 258, in _bootstrap\n",
      "    self.run()\n",
      "Traceback (most recent call last):\n",
      "Traceback (most recent call last):\n",
      "Traceback (most recent call last):\n",
      "  File \"/home/bjarne/.pyenv/versions/miniconda3-4.3.30/envs/tf_gpu/lib/python3.6/multiprocessing/process.py\", line 258, in _bootstrap\n",
      "    self.run()\n",
      "Traceback (most recent call last):\n",
      "  File \"/home/bjarne/.pyenv/versions/miniconda3-4.3.30/envs/tf_gpu/lib/python3.6/multiprocessing/process.py\", line 258, in _bootstrap\n",
      "    self.run()\n",
      "Traceback (most recent call last):\n",
      "  File \"/home/bjarne/.pyenv/versions/miniconda3-4.3.30/envs/tf_gpu/lib/python3.6/multiprocessing/process.py\", line 258, in _bootstrap\n",
      "    self.run()\n",
      "  File \"/home/bjarne/.pyenv/versions/miniconda3-4.3.30/envs/tf_gpu/lib/python3.6/multiprocessing/process.py\", line 258, in _bootstrap\n",
      "    self.run()\n",
      "Traceback (most recent call last):\n",
      "Traceback (most recent call last):\n",
      "Traceback (most recent call last):\n",
      "Traceback (most recent call last):\n",
      "  File \"/home/bjarne/.pyenv/versions/miniconda3-4.3.30/envs/tf_gpu/lib/python3.6/multiprocessing/process.py\", line 258, in _bootstrap\n",
      "    self.run()\n",
      "  File \"/home/bjarne/.pyenv/versions/miniconda3-4.3.30/envs/tf_gpu/lib/python3.6/multiprocessing/process.py\", line 258, in _bootstrap\n",
      "    self.run()\n",
      "  File \"/home/bjarne/.pyenv/versions/miniconda3-4.3.30/envs/tf_gpu/lib/python3.6/multiprocessing/process.py\", line 258, in _bootstrap\n",
      "    self.run()\n",
      "  File \"/home/bjarne/.pyenv/versions/miniconda3-4.3.30/envs/tf_gpu/lib/python3.6/multiprocessing/process.py\", line 258, in _bootstrap\n",
      "    self.run()\n",
      "  File \"/home/bjarne/.pyenv/versions/miniconda3-4.3.30/envs/tf_gpu/lib/python3.6/multiprocessing/process.py\", line 258, in _bootstrap\n",
      "    self.run()\n",
      "  File \"/home/bjarne/.pyenv/versions/miniconda3-4.3.30/envs/tf_gpu/lib/python3.6/multiprocessing/process.py\", line 258, in _bootstrap\n",
      "    self.run()\n",
      "Traceback (most recent call last):\n",
      "  File \"/home/bjarne/.pyenv/versions/miniconda3-4.3.30/envs/tf_gpu/lib/python3.6/multiprocessing/process.py\", line 258, in _bootstrap\n",
      "    self.run()\n",
      "  File \"/home/bjarne/.pyenv/versions/miniconda3-4.3.30/envs/tf_gpu/lib/python3.6/multiprocessing/process.py\", line 258, in _bootstrap\n",
      "    self.run()\n",
      "  File \"/home/bjarne/.pyenv/versions/miniconda3-4.3.30/envs/tf_gpu/lib/python3.6/multiprocessing/process.py\", line 258, in _bootstrap\n",
      "    self.run()\n",
      "  File \"/home/bjarne/.pyenv/versions/miniconda3-4.3.30/envs/tf_gpu/lib/python3.6/multiprocessing/process.py\", line 258, in _bootstrap\n",
      "    self.run()\n",
      "  File \"/home/bjarne/.pyenv/versions/miniconda3-4.3.30/envs/tf_gpu/lib/python3.6/multiprocessing/process.py\", line 258, in _bootstrap\n",
      "    self.run()\n",
      "  File \"/home/bjarne/.pyenv/versions/miniconda3-4.3.30/envs/tf_gpu/lib/python3.6/multiprocessing/process.py\", line 258, in _bootstrap\n",
      "    self.run()\n",
      "Traceback (most recent call last):\n",
      "  File \"/home/bjarne/.pyenv/versions/miniconda3-4.3.30/envs/tf_gpu/lib/python3.6/multiprocessing/process.py\", line 258, in _bootstrap\n",
      "    self.run()\n",
      "  File \"/home/bjarne/.pyenv/versions/miniconda3-4.3.30/envs/tf_gpu/lib/python3.6/multiprocessing/process.py\", line 258, in _bootstrap\n",
      "    self.run()\n",
      "  File \"/home/bjarne/.pyenv/versions/miniconda3-4.3.30/envs/tf_gpu/lib/python3.6/multiprocessing/process.py\", line 258, in _bootstrap\n",
      "    self.run()\n",
      "Traceback (most recent call last):\n",
      "  File \"/home/bjarne/.pyenv/versions/miniconda3-4.3.30/envs/tf_gpu/lib/python3.6/multiprocessing/process.py\", line 258, in _bootstrap\n",
      "    self.run()\n",
      "  File \"/home/bjarne/.pyenv/versions/miniconda3-4.3.30/envs/tf_gpu/lib/python3.6/multiprocessing/process.py\", line 258, in _bootstrap\n",
      "    self.run()\n",
      "  File \"/home/bjarne/.pyenv/versions/miniconda3-4.3.30/envs/tf_gpu/lib/python3.6/multiprocessing/process.py\", line 258, in _bootstrap\n",
      "    self.run()\n",
      "Traceback (most recent call last):\n",
      "  File \"/home/bjarne/.pyenv/versions/miniconda3-4.3.30/envs/tf_gpu/lib/python3.6/multiprocessing/process.py\", line 258, in _bootstrap\n",
      "    self.run()\n",
      "  File \"/home/bjarne/.pyenv/versions/miniconda3-4.3.30/envs/tf_gpu/lib/python3.6/multiprocessing/process.py\", line 258, in _bootstrap\n",
      "    self.run()\n",
      "  File \"/home/bjarne/.pyenv/versions/miniconda3-4.3.30/envs/tf_gpu/lib/python3.6/multiprocessing/process.py\", line 258, in _bootstrap\n",
      "    self.run()\n",
      "  File \"/home/bjarne/.pyenv/versions/miniconda3-4.3.30/envs/tf_gpu/lib/python3.6/multiprocessing/process.py\", line 258, in _bootstrap\n",
      "    self.run()\n",
      "  File \"/home/bjarne/.pyenv/versions/miniconda3-4.3.30/envs/tf_gpu/lib/python3.6/multiprocessing/process.py\", line 258, in _bootstrap\n",
      "    self.run()\n",
      "Traceback (most recent call last):\n",
      "  File \"/home/bjarne/.pyenv/versions/miniconda3-4.3.30/envs/tf_gpu/lib/python3.6/multiprocessing/process.py\", line 258, in _bootstrap\n",
      "    self.run()\n",
      "  File \"/home/bjarne/.pyenv/versions/miniconda3-4.3.30/envs/tf_gpu/lib/python3.6/multiprocessing/process.py\", line 258, in _bootstrap\n",
      "    self.run()\n",
      "  File \"/home/bjarne/.pyenv/versions/miniconda3-4.3.30/envs/tf_gpu/lib/python3.6/multiprocessing/process.py\", line 258, in _bootstrap\n",
      "    self.run()\n",
      "  File \"/home/bjarne/.pyenv/versions/miniconda3-4.3.30/envs/tf_gpu/lib/python3.6/multiprocessing/process.py\", line 258, in _bootstrap\n",
      "    self.run()\n",
      "  File \"/home/bjarne/.pyenv/versions/miniconda3-4.3.30/envs/tf_gpu/lib/python3.6/multiprocessing/process.py\", line 258, in _bootstrap\n",
      "    self.run()\n",
      "  File \"/home/bjarne/.pyenv/versions/miniconda3-4.3.30/envs/tf_gpu/lib/python3.6/multiprocessing/process.py\", line 93, in run\n",
      "    self._target(*self._args, **self._kwargs)\n",
      "Traceback (most recent call last):\n",
      "  File \"/home/bjarne/.pyenv/versions/miniconda3-4.3.30/envs/tf_gpu/lib/python3.6/multiprocessing/process.py\", line 258, in _bootstrap\n",
      "    self.run()\n",
      "  File \"/home/bjarne/.pyenv/versions/miniconda3-4.3.30/envs/tf_gpu/lib/python3.6/multiprocessing/process.py\", line 258, in _bootstrap\n",
      "    self.run()\n",
      "Traceback (most recent call last):\n",
      "Traceback (most recent call last):\n",
      "Traceback (most recent call last):\n",
      "Traceback (most recent call last):\n",
      "  File \"/home/bjarne/.pyenv/versions/miniconda3-4.3.30/envs/tf_gpu/lib/python3.6/multiprocessing/process.py\", line 93, in run\n",
      "    self._target(*self._args, **self._kwargs)\n",
      "Traceback (most recent call last):\n",
      "Traceback (most recent call last):\n",
      "  File \"/home/bjarne/.pyenv/versions/miniconda3-4.3.30/envs/tf_gpu/lib/python3.6/multiprocessing/process.py\", line 258, in _bootstrap\n",
      "    self.run()\n",
      "  File \"/home/bjarne/.pyenv/versions/miniconda3-4.3.30/envs/tf_gpu/lib/python3.6/multiprocessing/process.py\", line 93, in run\n",
      "    self._target(*self._args, **self._kwargs)\n",
      "  File \"/home/bjarne/.pyenv/versions/miniconda3-4.3.30/envs/tf_gpu/lib/python3.6/multiprocessing/process.py\", line 258, in _bootstrap\n",
      "    self.run()\n",
      "  File \"/home/bjarne/.pyenv/versions/miniconda3-4.3.30/envs/tf_gpu/lib/python3.6/multiprocessing/process.py\", line 93, in run\n",
      "    self._target(*self._args, **self._kwargs)\n",
      "  File \"/home/bjarne/.pyenv/versions/miniconda3-4.3.30/envs/tf_gpu/lib/python3.6/multiprocessing/process.py\", line 93, in run\n",
      "    self._target(*self._args, **self._kwargs)\n",
      "  File \"/home/bjarne/.pyenv/versions/miniconda3-4.3.30/envs/tf_gpu/lib/python3.6/multiprocessing/process.py\", line 258, in _bootstrap\n",
      "    self.run()\n",
      "  File \"/home/bjarne/.pyenv/versions/miniconda3-4.3.30/envs/tf_gpu/lib/python3.6/multiprocessing/process.py\", line 93, in run\n",
      "    self._target(*self._args, **self._kwargs)\n",
      "  File \"/home/bjarne/.pyenv/versions/miniconda3-4.3.30/envs/tf_gpu/lib/python3.6/multiprocessing/process.py\", line 258, in _bootstrap\n",
      "    self.run()\n",
      "  File \"/home/bjarne/.pyenv/versions/miniconda3-4.3.30/envs/tf_gpu/lib/python3.6/multiprocessing/process.py\", line 258, in _bootstrap\n",
      "    self.run()\n",
      "  File \"/home/bjarne/.pyenv/versions/miniconda3-4.3.30/envs/tf_gpu/lib/python3.6/multiprocessing/process.py\", line 258, in _bootstrap\n",
      "    self.run()\n",
      "  File \"/home/bjarne/.pyenv/versions/miniconda3-4.3.30/envs/tf_gpu/lib/python3.6/multiprocessing/process.py\", line 258, in _bootstrap\n",
      "    self.run()\n",
      "  File \"/home/bjarne/.pyenv/versions/miniconda3-4.3.30/envs/tf_gpu/lib/python3.6/multiprocessing/process.py\", line 93, in run\n",
      "    self._target(*self._args, **self._kwargs)\n",
      "  File \"/home/bjarne/.pyenv/versions/miniconda3-4.3.30/envs/tf_gpu/lib/python3.6/multiprocessing/process.py\", line 93, in run\n",
      "    self._target(*self._args, **self._kwargs)\n",
      "  File \"/home/bjarne/.pyenv/versions/miniconda3-4.3.30/envs/tf_gpu/lib/python3.6/multiprocessing/process.py\", line 93, in run\n",
      "    self._target(*self._args, **self._kwargs)\n",
      "  File \"/home/bjarne/.pyenv/versions/miniconda3-4.3.30/envs/tf_gpu/lib/python3.6/multiprocessing/process.py\", line 93, in run\n",
      "    self._target(*self._args, **self._kwargs)\n",
      "  File \"/home/bjarne/.pyenv/versions/miniconda3-4.3.30/envs/tf_gpu/lib/python3.6/multiprocessing/process.py\", line 93, in run\n",
      "    self._target(*self._args, **self._kwargs)\n",
      "  File \"/home/bjarne/.pyenv/versions/miniconda3-4.3.30/envs/tf_gpu/lib/python3.6/multiprocessing/process.py\", line 258, in _bootstrap\n",
      "    self.run()\n",
      "  File \"/home/bjarne/.pyenv/versions/miniconda3-4.3.30/envs/tf_gpu/lib/python3.6/multiprocessing/process.py\", line 93, in run\n",
      "    self._target(*self._args, **self._kwargs)\n",
      "  File \"/home/bjarne/.pyenv/versions/miniconda3-4.3.30/envs/tf_gpu/lib/python3.6/multiprocessing/process.py\", line 93, in run\n",
      "    self._target(*self._args, **self._kwargs)\n",
      "  File \"/home/bjarne/.pyenv/versions/miniconda3-4.3.30/envs/tf_gpu/lib/python3.6/multiprocessing/process.py\", line 258, in _bootstrap\n",
      "    self.run()\n",
      "  File \"/home/bjarne/.pyenv/versions/miniconda3-4.3.30/envs/tf_gpu/lib/python3.6/multiprocessing/process.py\", line 93, in run\n",
      "    self._target(*self._args, **self._kwargs)\n",
      "  File \"/home/bjarne/.pyenv/versions/miniconda3-4.3.30/envs/tf_gpu/lib/python3.6/multiprocessing/process.py\", line 258, in _bootstrap\n",
      "    self.run()\n",
      "  File \"/home/bjarne/.pyenv/versions/miniconda3-4.3.30/envs/tf_gpu/lib/python3.6/multiprocessing/process.py\", line 93, in run\n",
      "    self._target(*self._args, **self._kwargs)\n",
      "  File \"/home/bjarne/.pyenv/versions/miniconda3-4.3.30/envs/tf_gpu/lib/python3.6/multiprocessing/process.py\", line 93, in run\n",
      "    self._target(*self._args, **self._kwargs)\n",
      "  File \"/home/bjarne/.pyenv/versions/miniconda3-4.3.30/envs/tf_gpu/lib/python3.6/multiprocessing/process.py\", line 93, in run\n",
      "    self._target(*self._args, **self._kwargs)\n",
      "  File \"/home/bjarne/.pyenv/versions/miniconda3-4.3.30/envs/tf_gpu/lib/python3.6/multiprocessing/process.py\", line 93, in run\n",
      "    self._target(*self._args, **self._kwargs)\n",
      "  File \"/home/bjarne/.pyenv/versions/miniconda3-4.3.30/envs/tf_gpu/lib/python3.6/multiprocessing/process.py\", line 93, in run\n",
      "    self._target(*self._args, **self._kwargs)\n",
      "  File \"/home/bjarne/.pyenv/versions/miniconda3-4.3.30/envs/tf_gpu/lib/python3.6/multiprocessing/process.py\", line 93, in run\n",
      "    self._target(*self._args, **self._kwargs)\n",
      "  File \"/home/bjarne/.pyenv/versions/miniconda3-4.3.30/envs/tf_gpu/lib/python3.6/multiprocessing/process.py\", line 93, in run\n",
      "    self._target(*self._args, **self._kwargs)\n",
      "  File \"/home/bjarne/.pyenv/versions/miniconda3-4.3.30/envs/tf_gpu/lib/python3.6/multiprocessing/process.py\", line 93, in run\n",
      "    self._target(*self._args, **self._kwargs)\n",
      "  File \"/home/bjarne/.pyenv/versions/miniconda3-4.3.30/envs/tf_gpu/lib/python3.6/multiprocessing/process.py\", line 258, in _bootstrap\n",
      "    self.run()\n",
      "  File \"/home/bjarne/.pyenv/versions/miniconda3-4.3.30/envs/tf_gpu/lib/python3.6/multiprocessing/process.py\", line 258, in _bootstrap\n",
      "    self.run()\n",
      "  File \"/home/bjarne/.pyenv/versions/miniconda3-4.3.30/envs/tf_gpu/lib/python3.6/multiprocessing/process.py\", line 93, in run\n",
      "    self._target(*self._args, **self._kwargs)\n",
      "  File \"/home/bjarne/.pyenv/versions/miniconda3-4.3.30/envs/tf_gpu/lib/python3.6/multiprocessing/process.py\", line 93, in run\n",
      "    self._target(*self._args, **self._kwargs)\n",
      "  File \"/home/bjarne/.pyenv/versions/miniconda3-4.3.30/envs/tf_gpu/lib/python3.6/multiprocessing/process.py\", line 93, in run\n",
      "    self._target(*self._args, **self._kwargs)\n",
      "  File \"/home/bjarne/.pyenv/versions/miniconda3-4.3.30/envs/tf_gpu/lib/python3.6/multiprocessing/process.py\", line 93, in run\n",
      "    self._target(*self._args, **self._kwargs)\n",
      "  File \"/home/bjarne/.pyenv/versions/miniconda3-4.3.30/envs/tf_gpu/lib/python3.6/multiprocessing/process.py\", line 93, in run\n",
      "    self._target(*self._args, **self._kwargs)\n",
      "  File \"/home/bjarne/.pyenv/versions/miniconda3-4.3.30/envs/tf_gpu/lib/python3.6/multiprocessing/process.py\", line 93, in run\n",
      "    self._target(*self._args, **self._kwargs)\n",
      "  File \"/home/bjarne/.pyenv/versions/miniconda3-4.3.30/envs/tf_gpu/lib/python3.6/multiprocessing/process.py\", line 258, in _bootstrap\n",
      "    self.run()\n",
      "  File \"/home/bjarne/.pyenv/versions/miniconda3-4.3.30/envs/tf_gpu/lib/python3.6/multiprocessing/process.py\", line 93, in run\n",
      "    self._target(*self._args, **self._kwargs)\n",
      "  File \"/home/bjarne/.pyenv/versions/miniconda3-4.3.30/envs/tf_gpu/lib/python3.6/multiprocessing/process.py\", line 93, in run\n",
      "    self._target(*self._args, **self._kwargs)\n",
      "  File \"/home/bjarne/.pyenv/versions/miniconda3-4.3.30/envs/tf_gpu/lib/python3.6/multiprocessing/process.py\", line 93, in run\n",
      "    self._target(*self._args, **self._kwargs)\n",
      "  File \"/home/bjarne/.pyenv/versions/miniconda3-4.3.30/envs/tf_gpu/lib/python3.6/multiprocessing/process.py\", line 93, in run\n",
      "    self._target(*self._args, **self._kwargs)\n",
      "  File \"/home/bjarne/.pyenv/versions/miniconda3-4.3.30/envs/tf_gpu/lib/python3.6/multiprocessing/process.py\", line 258, in _bootstrap\n",
      "    self.run()\n",
      "  File \"/home/bjarne/.pyenv/versions/miniconda3-4.3.30/envs/tf_gpu/lib/python3.6/multiprocessing/process.py\", line 93, in run\n",
      "    self._target(*self._args, **self._kwargs)\n",
      "  File \"/home/bjarne/.pyenv/versions/miniconda3-4.3.30/envs/tf_gpu/lib/python3.6/multiprocessing/pool.py\", line 108, in worker\n",
      "    task = get()\n",
      "  File \"/home/bjarne/.pyenv/versions/miniconda3-4.3.30/envs/tf_gpu/lib/python3.6/multiprocessing/process.py\", line 93, in run\n",
      "    self._target(*self._args, **self._kwargs)\n",
      "  File \"/home/bjarne/.pyenv/versions/miniconda3-4.3.30/envs/tf_gpu/lib/python3.6/multiprocessing/process.py\", line 93, in run\n",
      "    self._target(*self._args, **self._kwargs)\n",
      "  File \"/home/bjarne/.pyenv/versions/miniconda3-4.3.30/envs/tf_gpu/lib/python3.6/multiprocessing/process.py\", line 258, in _bootstrap\n",
      "    self.run()\n",
      "  File \"/home/bjarne/.pyenv/versions/miniconda3-4.3.30/envs/tf_gpu/lib/python3.6/multiprocessing/process.py\", line 93, in run\n",
      "    self._target(*self._args, **self._kwargs)\n",
      "  File \"/home/bjarne/.pyenv/versions/miniconda3-4.3.30/envs/tf_gpu/lib/python3.6/multiprocessing/process.py\", line 258, in _bootstrap\n",
      "    self.run()\n",
      "  File \"/home/bjarne/.pyenv/versions/miniconda3-4.3.30/envs/tf_gpu/lib/python3.6/multiprocessing/process.py\", line 258, in _bootstrap\n",
      "    self.run()\n",
      "  File \"/home/bjarne/.pyenv/versions/miniconda3-4.3.30/envs/tf_gpu/lib/python3.6/multiprocessing/pool.py\", line 108, in worker\n",
      "    task = get()\n",
      "  File \"/home/bjarne/.pyenv/versions/miniconda3-4.3.30/envs/tf_gpu/lib/python3.6/multiprocessing/process.py\", line 258, in _bootstrap\n",
      "    self.run()\n",
      "  File \"/home/bjarne/.pyenv/versions/miniconda3-4.3.30/envs/tf_gpu/lib/python3.6/multiprocessing/process.py\", line 93, in run\n",
      "    self._target(*self._args, **self._kwargs)\n",
      "  File \"/home/bjarne/.pyenv/versions/miniconda3-4.3.30/envs/tf_gpu/lib/python3.6/multiprocessing/process.py\", line 258, in _bootstrap\n",
      "    self.run()\n",
      "  File \"/home/bjarne/.pyenv/versions/miniconda3-4.3.30/envs/tf_gpu/lib/python3.6/multiprocessing/process.py\", line 258, in _bootstrap\n",
      "    self.run()\n",
      "  File \"/home/bjarne/.pyenv/versions/miniconda3-4.3.30/envs/tf_gpu/lib/python3.6/multiprocessing/pool.py\", line 108, in worker\n",
      "    task = get()\n",
      "  File \"/home/bjarne/.pyenv/versions/miniconda3-4.3.30/envs/tf_gpu/lib/python3.6/multiprocessing/process.py\", line 93, in run\n",
      "    self._target(*self._args, **self._kwargs)\n",
      "  File \"/home/bjarne/.pyenv/versions/miniconda3-4.3.30/envs/tf_gpu/lib/python3.6/multiprocessing/pool.py\", line 108, in worker\n",
      "    task = get()\n",
      "  File \"/home/bjarne/.pyenv/versions/miniconda3-4.3.30/envs/tf_gpu/lib/python3.6/multiprocessing/pool.py\", line 108, in worker\n",
      "    task = get()\n",
      "  File \"/home/bjarne/.pyenv/versions/miniconda3-4.3.30/envs/tf_gpu/lib/python3.6/multiprocessing/pool.py\", line 108, in worker\n",
      "    task = get()\n",
      "  File \"/home/bjarne/.pyenv/versions/miniconda3-4.3.30/envs/tf_gpu/lib/python3.6/multiprocessing/process.py\", line 93, in run\n",
      "    self._target(*self._args, **self._kwargs)\n",
      "  File \"/home/bjarne/.pyenv/versions/miniconda3-4.3.30/envs/tf_gpu/lib/python3.6/multiprocessing/process.py\", line 93, in run\n",
      "    self._target(*self._args, **self._kwargs)\n",
      "  File \"/home/bjarne/.pyenv/versions/miniconda3-4.3.30/envs/tf_gpu/lib/python3.6/multiprocessing/process.py\", line 93, in run\n",
      "    self._target(*self._args, **self._kwargs)\n",
      "  File \"/home/bjarne/.pyenv/versions/miniconda3-4.3.30/envs/tf_gpu/lib/python3.6/multiprocessing/process.py\", line 93, in run\n",
      "    self._target(*self._args, **self._kwargs)\n",
      "  File \"/home/bjarne/.pyenv/versions/miniconda3-4.3.30/envs/tf_gpu/lib/python3.6/multiprocessing/pool.py\", line 108, in worker\n",
      "    task = get()\n",
      "  File \"/home/bjarne/.pyenv/versions/miniconda3-4.3.30/envs/tf_gpu/lib/python3.6/multiprocessing/process.py\", line 93, in run\n",
      "    self._target(*self._args, **self._kwargs)\n",
      "  File \"/home/bjarne/.pyenv/versions/miniconda3-4.3.30/envs/tf_gpu/lib/python3.6/multiprocessing/pool.py\", line 108, in worker\n",
      "    task = get()\n",
      "  File \"/home/bjarne/.pyenv/versions/miniconda3-4.3.30/envs/tf_gpu/lib/python3.6/multiprocessing/pool.py\", line 108, in worker\n",
      "    task = get()\n",
      "  File \"/home/bjarne/.pyenv/versions/miniconda3-4.3.30/envs/tf_gpu/lib/python3.6/multiprocessing/pool.py\", line 108, in worker\n",
      "    task = get()\n",
      "  File \"/home/bjarne/.pyenv/versions/miniconda3-4.3.30/envs/tf_gpu/lib/python3.6/multiprocessing/pool.py\", line 108, in worker\n",
      "    task = get()\n",
      "  File \"/home/bjarne/.pyenv/versions/miniconda3-4.3.30/envs/tf_gpu/lib/python3.6/multiprocessing/process.py\", line 93, in run\n",
      "    self._target(*self._args, **self._kwargs)\n",
      "  File \"/home/bjarne/.pyenv/versions/miniconda3-4.3.30/envs/tf_gpu/lib/python3.6/multiprocessing/pool.py\", line 108, in worker\n",
      "    task = get()\n",
      "  File \"/home/bjarne/.pyenv/versions/miniconda3-4.3.30/envs/tf_gpu/lib/python3.6/multiprocessing/pool.py\", line 108, in worker\n",
      "    task = get()\n",
      "  File \"/home/bjarne/.pyenv/versions/miniconda3-4.3.30/envs/tf_gpu/lib/python3.6/multiprocessing/pool.py\", line 108, in worker\n",
      "    task = get()\n",
      "  File \"/home/bjarne/.pyenv/versions/miniconda3-4.3.30/envs/tf_gpu/lib/python3.6/multiprocessing/process.py\", line 93, in run\n",
      "    self._target(*self._args, **self._kwargs)\n",
      "  File \"/home/bjarne/.pyenv/versions/miniconda3-4.3.30/envs/tf_gpu/lib/python3.6/multiprocessing/pool.py\", line 108, in worker\n",
      "    task = get()\n",
      "  File \"/home/bjarne/.pyenv/versions/miniconda3-4.3.30/envs/tf_gpu/lib/python3.6/multiprocessing/process.py\", line 93, in run\n",
      "    self._target(*self._args, **self._kwargs)\n",
      "  File \"/home/bjarne/.pyenv/versions/miniconda3-4.3.30/envs/tf_gpu/lib/python3.6/multiprocessing/pool.py\", line 108, in worker\n",
      "    task = get()\n",
      "  File \"/home/bjarne/.pyenv/versions/miniconda3-4.3.30/envs/tf_gpu/lib/python3.6/multiprocessing/pool.py\", line 108, in worker\n",
      "    task = get()\n",
      "  File \"/home/bjarne/.pyenv/versions/miniconda3-4.3.30/envs/tf_gpu/lib/python3.6/multiprocessing/pool.py\", line 108, in worker\n",
      "    task = get()\n",
      "  File \"/home/bjarne/.pyenv/versions/miniconda3-4.3.30/envs/tf_gpu/lib/python3.6/multiprocessing/pool.py\", line 108, in worker\n",
      "    task = get()\n",
      "  File \"/home/bjarne/.pyenv/versions/miniconda3-4.3.30/envs/tf_gpu/lib/python3.6/multiprocessing/pool.py\", line 108, in worker\n",
      "    task = get()\n",
      "  File \"/home/bjarne/.pyenv/versions/miniconda3-4.3.30/envs/tf_gpu/lib/python3.6/multiprocessing/pool.py\", line 108, in worker\n",
      "    task = get()\n",
      "  File \"/home/bjarne/.pyenv/versions/miniconda3-4.3.30/envs/tf_gpu/lib/python3.6/multiprocessing/pool.py\", line 108, in worker\n",
      "    task = get()\n",
      "  File \"/home/bjarne/.pyenv/versions/miniconda3-4.3.30/envs/tf_gpu/lib/python3.6/multiprocessing/process.py\", line 93, in run\n",
      "    self._target(*self._args, **self._kwargs)\n",
      "  File \"/home/bjarne/.pyenv/versions/miniconda3-4.3.30/envs/tf_gpu/lib/python3.6/multiprocessing/pool.py\", line 108, in worker\n",
      "    task = get()\n",
      "  File \"/home/bjarne/.pyenv/versions/miniconda3-4.3.30/envs/tf_gpu/lib/python3.6/multiprocessing/process.py\", line 93, in run\n",
      "    self._target(*self._args, **self._kwargs)\n",
      "  File \"/home/bjarne/.pyenv/versions/miniconda3-4.3.30/envs/tf_gpu/lib/python3.6/multiprocessing/pool.py\", line 108, in worker\n",
      "    task = get()\n",
      "  File \"/home/bjarne/.pyenv/versions/miniconda3-4.3.30/envs/tf_gpu/lib/python3.6/multiprocessing/pool.py\", line 108, in worker\n",
      "    task = get()\n",
      "  File \"/home/bjarne/.pyenv/versions/miniconda3-4.3.30/envs/tf_gpu/lib/python3.6/multiprocessing/pool.py\", line 108, in worker\n",
      "    task = get()\n",
      "  File \"/home/bjarne/.pyenv/versions/miniconda3-4.3.30/envs/tf_gpu/lib/python3.6/multiprocessing/pool.py\", line 108, in worker\n",
      "    task = get()\n",
      "  File \"/home/bjarne/.pyenv/versions/miniconda3-4.3.30/envs/tf_gpu/lib/python3.6/multiprocessing/pool.py\", line 108, in worker\n",
      "    task = get()\n",
      "  File \"/home/bjarne/.pyenv/versions/miniconda3-4.3.30/envs/tf_gpu/lib/python3.6/multiprocessing/pool.py\", line 108, in worker\n",
      "    task = get()\n",
      "  File \"/home/bjarne/.pyenv/versions/miniconda3-4.3.30/envs/tf_gpu/lib/python3.6/multiprocessing/pool.py\", line 108, in worker\n",
      "    task = get()\n",
      "  File \"/home/bjarne/.pyenv/versions/miniconda3-4.3.30/envs/tf_gpu/lib/python3.6/multiprocessing/pool.py\", line 108, in worker\n",
      "    task = get()\n",
      "  File \"/home/bjarne/.pyenv/versions/miniconda3-4.3.30/envs/tf_gpu/lib/python3.6/multiprocessing/pool.py\", line 108, in worker\n",
      "    task = get()\n",
      "  File \"/home/bjarne/.pyenv/versions/miniconda3-4.3.30/envs/tf_gpu/lib/python3.6/multiprocessing/pool.py\", line 108, in worker\n",
      "    task = get()\n",
      "  File \"/home/bjarne/.pyenv/versions/miniconda3-4.3.30/envs/tf_gpu/lib/python3.6/multiprocessing/process.py\", line 93, in run\n",
      "    self._target(*self._args, **self._kwargs)\n",
      "  File \"/home/bjarne/.pyenv/versions/miniconda3-4.3.30/envs/tf_gpu/lib/python3.6/multiprocessing/pool.py\", line 108, in worker\n",
      "    task = get()\n",
      "  File \"/home/bjarne/.pyenv/versions/miniconda3-4.3.30/envs/tf_gpu/lib/python3.6/multiprocessing/queues.py\", line 334, in get\n",
      "    with self._rlock:\n",
      "  File \"/home/bjarne/.pyenv/versions/miniconda3-4.3.30/envs/tf_gpu/lib/python3.6/multiprocessing/process.py\", line 93, in run\n",
      "    self._target(*self._args, **self._kwargs)\n",
      "  File \"/home/bjarne/.pyenv/versions/miniconda3-4.3.30/envs/tf_gpu/lib/python3.6/multiprocessing/process.py\", line 93, in run\n",
      "    self._target(*self._args, **self._kwargs)\n",
      "  File \"/home/bjarne/.pyenv/versions/miniconda3-4.3.30/envs/tf_gpu/lib/python3.6/multiprocessing/process.py\", line 93, in run\n",
      "    self._target(*self._args, **self._kwargs)\n",
      "  File \"/home/bjarne/.pyenv/versions/miniconda3-4.3.30/envs/tf_gpu/lib/python3.6/multiprocessing/pool.py\", line 108, in worker\n",
      "    task = get()\n",
      "  File \"/home/bjarne/.pyenv/versions/miniconda3-4.3.30/envs/tf_gpu/lib/python3.6/multiprocessing/process.py\", line 93, in run\n",
      "    self._target(*self._args, **self._kwargs)\n",
      "  File \"/home/bjarne/.pyenv/versions/miniconda3-4.3.30/envs/tf_gpu/lib/python3.6/multiprocessing/queues.py\", line 334, in get\n",
      "    with self._rlock:\n",
      "  File \"/home/bjarne/.pyenv/versions/miniconda3-4.3.30/envs/tf_gpu/lib/python3.6/multiprocessing/pool.py\", line 108, in worker\n",
      "    task = get()\n",
      "  File \"/home/bjarne/.pyenv/versions/miniconda3-4.3.30/envs/tf_gpu/lib/python3.6/multiprocessing/pool.py\", line 108, in worker\n",
      "    task = get()\n",
      "  File \"/home/bjarne/.pyenv/versions/miniconda3-4.3.30/envs/tf_gpu/lib/python3.6/multiprocessing/queues.py\", line 334, in get\n",
      "    with self._rlock:\n",
      "  File \"/home/bjarne/.pyenv/versions/miniconda3-4.3.30/envs/tf_gpu/lib/python3.6/multiprocessing/process.py\", line 93, in run\n",
      "    self._target(*self._args, **self._kwargs)\n",
      "  File \"/home/bjarne/.pyenv/versions/miniconda3-4.3.30/envs/tf_gpu/lib/python3.6/multiprocessing/process.py\", line 93, in run\n",
      "    self._target(*self._args, **self._kwargs)\n",
      "  File \"/home/bjarne/.pyenv/versions/miniconda3-4.3.30/envs/tf_gpu/lib/python3.6/multiprocessing/pool.py\", line 108, in worker\n",
      "    task = get()\n",
      "  File \"/home/bjarne/.pyenv/versions/miniconda3-4.3.30/envs/tf_gpu/lib/python3.6/multiprocessing/queues.py\", line 334, in get\n",
      "    with self._rlock:\n",
      "  File \"/home/bjarne/.pyenv/versions/miniconda3-4.3.30/envs/tf_gpu/lib/python3.6/multiprocessing/queues.py\", line 334, in get\n",
      "    with self._rlock:\n",
      "  File \"/home/bjarne/.pyenv/versions/miniconda3-4.3.30/envs/tf_gpu/lib/python3.6/multiprocessing/process.py\", line 93, in run\n",
      "    self._target(*self._args, **self._kwargs)\n",
      "  File \"/home/bjarne/.pyenv/versions/miniconda3-4.3.30/envs/tf_gpu/lib/python3.6/multiprocessing/queues.py\", line 334, in get\n",
      "    with self._rlock:\n",
      "  File \"/home/bjarne/.pyenv/versions/miniconda3-4.3.30/envs/tf_gpu/lib/python3.6/multiprocessing/pool.py\", line 108, in worker\n",
      "    task = get()\n",
      "  File \"/home/bjarne/.pyenv/versions/miniconda3-4.3.30/envs/tf_gpu/lib/python3.6/multiprocessing/pool.py\", line 108, in worker\n",
      "    task = get()\n",
      "  File \"/home/bjarne/.pyenv/versions/miniconda3-4.3.30/envs/tf_gpu/lib/python3.6/multiprocessing/pool.py\", line 108, in worker\n",
      "    task = get()\n",
      "  File \"/home/bjarne/.pyenv/versions/miniconda3-4.3.30/envs/tf_gpu/lib/python3.6/multiprocessing/queues.py\", line 334, in get\n",
      "    with self._rlock:\n",
      "  File \"/home/bjarne/.pyenv/versions/miniconda3-4.3.30/envs/tf_gpu/lib/python3.6/multiprocessing/pool.py\", line 108, in worker\n",
      "    task = get()\n",
      "  File \"/home/bjarne/.pyenv/versions/miniconda3-4.3.30/envs/tf_gpu/lib/python3.6/multiprocessing/pool.py\", line 108, in worker\n",
      "    task = get()\n",
      "Process ForkPoolWorker-723:\n",
      "  File \"/home/bjarne/.pyenv/versions/miniconda3-4.3.30/envs/tf_gpu/lib/python3.6/multiprocessing/queues.py\", line 334, in get\n",
      "    with self._rlock:\n",
      "  File \"/home/bjarne/.pyenv/versions/miniconda3-4.3.30/envs/tf_gpu/lib/python3.6/multiprocessing/queues.py\", line 334, in get\n",
      "    with self._rlock:\n",
      "  File \"/home/bjarne/.pyenv/versions/miniconda3-4.3.30/envs/tf_gpu/lib/python3.6/multiprocessing/queues.py\", line 334, in get\n",
      "    with self._rlock:\n",
      "  File \"/home/bjarne/.pyenv/versions/miniconda3-4.3.30/envs/tf_gpu/lib/python3.6/multiprocessing/pool.py\", line 108, in worker\n",
      "    task = get()\n",
      "  File \"/home/bjarne/.pyenv/versions/miniconda3-4.3.30/envs/tf_gpu/lib/python3.6/multiprocessing/queues.py\", line 334, in get\n",
      "    with self._rlock:\n",
      "  File \"/home/bjarne/.pyenv/versions/miniconda3-4.3.30/envs/tf_gpu/lib/python3.6/multiprocessing/queues.py\", line 334, in get\n",
      "    with self._rlock:\n",
      "  File \"/home/bjarne/.pyenv/versions/miniconda3-4.3.30/envs/tf_gpu/lib/python3.6/multiprocessing/queues.py\", line 334, in get\n",
      "    with self._rlock:\n",
      "  File \"/home/bjarne/.pyenv/versions/miniconda3-4.3.30/envs/tf_gpu/lib/python3.6/multiprocessing/queues.py\", line 334, in get\n",
      "    with self._rlock:\n",
      "  File \"/home/bjarne/.pyenv/versions/miniconda3-4.3.30/envs/tf_gpu/lib/python3.6/multiprocessing/queues.py\", line 334, in get\n",
      "    with self._rlock:\n",
      "  File \"/home/bjarne/.pyenv/versions/miniconda3-4.3.30/envs/tf_gpu/lib/python3.6/multiprocessing/pool.py\", line 108, in worker\n",
      "    task = get()\n",
      "  File \"/home/bjarne/.pyenv/versions/miniconda3-4.3.30/envs/tf_gpu/lib/python3.6/multiprocessing/pool.py\", line 108, in worker\n",
      "    task = get()\n",
      "  File \"/home/bjarne/.pyenv/versions/miniconda3-4.3.30/envs/tf_gpu/lib/python3.6/multiprocessing/queues.py\", line 334, in get\n",
      "    with self._rlock:\n",
      "  File \"/home/bjarne/.pyenv/versions/miniconda3-4.3.30/envs/tf_gpu/lib/python3.6/multiprocessing/queues.py\", line 334, in get\n",
      "    with self._rlock:\n",
      "  File \"/home/bjarne/.pyenv/versions/miniconda3-4.3.30/envs/tf_gpu/lib/python3.6/multiprocessing/queues.py\", line 334, in get\n",
      "    with self._rlock:\n",
      "  File \"/home/bjarne/.pyenv/versions/miniconda3-4.3.30/envs/tf_gpu/lib/python3.6/multiprocessing/queues.py\", line 334, in get\n",
      "    with self._rlock:\n",
      "  File \"/home/bjarne/.pyenv/versions/miniconda3-4.3.30/envs/tf_gpu/lib/python3.6/multiprocessing/queues.py\", line 334, in get\n",
      "    with self._rlock:\n",
      "  File \"/home/bjarne/.pyenv/versions/miniconda3-4.3.30/envs/tf_gpu/lib/python3.6/multiprocessing/queues.py\", line 334, in get\n",
      "    with self._rlock:\n",
      "  File \"/home/bjarne/.pyenv/versions/miniconda3-4.3.30/envs/tf_gpu/lib/python3.6/multiprocessing/queues.py\", line 334, in get\n",
      "    with self._rlock:\n",
      "  File \"/home/bjarne/.pyenv/versions/miniconda3-4.3.30/envs/tf_gpu/lib/python3.6/multiprocessing/pool.py\", line 108, in worker\n",
      "    task = get()\n",
      "  File \"/home/bjarne/.pyenv/versions/miniconda3-4.3.30/envs/tf_gpu/lib/python3.6/multiprocessing/pool.py\", line 108, in worker\n",
      "    task = get()\n",
      "  File \"/home/bjarne/.pyenv/versions/miniconda3-4.3.30/envs/tf_gpu/lib/python3.6/multiprocessing/queues.py\", line 334, in get\n",
      "    with self._rlock:\n",
      "  File \"/home/bjarne/.pyenv/versions/miniconda3-4.3.30/envs/tf_gpu/lib/python3.6/multiprocessing/queues.py\", line 334, in get\n",
      "    with self._rlock:\n",
      "  File \"/home/bjarne/.pyenv/versions/miniconda3-4.3.30/envs/tf_gpu/lib/python3.6/multiprocessing/queues.py\", line 334, in get\n",
      "    with self._rlock:\n",
      "  File \"/home/bjarne/.pyenv/versions/miniconda3-4.3.30/envs/tf_gpu/lib/python3.6/multiprocessing/queues.py\", line 334, in get\n",
      "    with self._rlock:\n",
      "  File \"/home/bjarne/.pyenv/versions/miniconda3-4.3.30/envs/tf_gpu/lib/python3.6/multiprocessing/queues.py\", line 334, in get\n",
      "    with self._rlock:\n",
      "  File \"/home/bjarne/.pyenv/versions/miniconda3-4.3.30/envs/tf_gpu/lib/python3.6/multiprocessing/queues.py\", line 334, in get\n",
      "    with self._rlock:\n",
      "  File \"/home/bjarne/.pyenv/versions/miniconda3-4.3.30/envs/tf_gpu/lib/python3.6/multiprocessing/queues.py\", line 334, in get\n",
      "    with self._rlock:\n",
      "  File \"/home/bjarne/.pyenv/versions/miniconda3-4.3.30/envs/tf_gpu/lib/python3.6/multiprocessing/queues.py\", line 334, in get\n",
      "    with self._rlock:\n",
      "  File \"/home/bjarne/.pyenv/versions/miniconda3-4.3.30/envs/tf_gpu/lib/python3.6/multiprocessing/queues.py\", line 334, in get\n",
      "    with self._rlock:\n",
      "  File \"/home/bjarne/.pyenv/versions/miniconda3-4.3.30/envs/tf_gpu/lib/python3.6/multiprocessing/queues.py\", line 335, in get\n",
      "    res = self._reader.recv_bytes()\n",
      "  File \"/home/bjarne/.pyenv/versions/miniconda3-4.3.30/envs/tf_gpu/lib/python3.6/multiprocessing/queues.py\", line 334, in get\n",
      "    with self._rlock:\n",
      "  File \"/home/bjarne/.pyenv/versions/miniconda3-4.3.30/envs/tf_gpu/lib/python3.6/multiprocessing/queues.py\", line 334, in get\n",
      "    with self._rlock:\n",
      "  File \"/home/bjarne/.pyenv/versions/miniconda3-4.3.30/envs/tf_gpu/lib/python3.6/multiprocessing/pool.py\", line 108, in worker\n",
      "    task = get()\n",
      "  File \"/home/bjarne/.pyenv/versions/miniconda3-4.3.30/envs/tf_gpu/lib/python3.6/multiprocessing/synchronize.py\", line 95, in __enter__\n",
      "    return self._semlock.__enter__()\n",
      "  File \"/home/bjarne/.pyenv/versions/miniconda3-4.3.30/envs/tf_gpu/lib/python3.6/multiprocessing/pool.py\", line 108, in worker\n",
      "    task = get()\n",
      "  File \"/home/bjarne/.pyenv/versions/miniconda3-4.3.30/envs/tf_gpu/lib/python3.6/multiprocessing/pool.py\", line 108, in worker\n",
      "    task = get()\n",
      "  File \"/home/bjarne/.pyenv/versions/miniconda3-4.3.30/envs/tf_gpu/lib/python3.6/multiprocessing/pool.py\", line 108, in worker\n",
      "    task = get()\n",
      "  File \"/home/bjarne/.pyenv/versions/miniconda3-4.3.30/envs/tf_gpu/lib/python3.6/multiprocessing/queues.py\", line 334, in get\n",
      "    with self._rlock:\n",
      "  File \"/home/bjarne/.pyenv/versions/miniconda3-4.3.30/envs/tf_gpu/lib/python3.6/multiprocessing/queues.py\", line 335, in get\n",
      "    res = self._reader.recv_bytes()\n",
      "  File \"/home/bjarne/.pyenv/versions/miniconda3-4.3.30/envs/tf_gpu/lib/python3.6/multiprocessing/queues.py\", line 334, in get\n",
      "    with self._rlock:\n",
      "  File \"/home/bjarne/.pyenv/versions/miniconda3-4.3.30/envs/tf_gpu/lib/python3.6/multiprocessing/pool.py\", line 108, in worker\n",
      "    task = get()\n",
      "  File \"/home/bjarne/.pyenv/versions/miniconda3-4.3.30/envs/tf_gpu/lib/python3.6/multiprocessing/synchronize.py\", line 95, in __enter__\n",
      "    return self._semlock.__enter__()\n",
      "  File \"/home/bjarne/.pyenv/versions/miniconda3-4.3.30/envs/tf_gpu/lib/python3.6/multiprocessing/pool.py\", line 108, in worker\n",
      "    task = get()\n",
      "  File \"/home/bjarne/.pyenv/versions/miniconda3-4.3.30/envs/tf_gpu/lib/python3.6/multiprocessing/synchronize.py\", line 95, in __enter__\n",
      "    return self._semlock.__enter__()\n",
      "  File \"/home/bjarne/.pyenv/versions/miniconda3-4.3.30/envs/tf_gpu/lib/python3.6/multiprocessing/synchronize.py\", line 95, in __enter__\n",
      "    return self._semlock.__enter__()\n",
      "  File \"/home/bjarne/.pyenv/versions/miniconda3-4.3.30/envs/tf_gpu/lib/python3.6/multiprocessing/pool.py\", line 108, in worker\n",
      "    task = get()\n",
      "  File \"/home/bjarne/.pyenv/versions/miniconda3-4.3.30/envs/tf_gpu/lib/python3.6/multiprocessing/synchronize.py\", line 95, in __enter__\n",
      "    return self._semlock.__enter__()\n",
      "  File \"/home/bjarne/.pyenv/versions/miniconda3-4.3.30/envs/tf_gpu/lib/python3.6/multiprocessing/queues.py\", line 334, in get\n",
      "    with self._rlock:\n",
      "  File \"/home/bjarne/.pyenv/versions/miniconda3-4.3.30/envs/tf_gpu/lib/python3.6/multiprocessing/synchronize.py\", line 95, in __enter__\n",
      "    return self._semlock.__enter__()\n",
      "  File \"/home/bjarne/.pyenv/versions/miniconda3-4.3.30/envs/tf_gpu/lib/python3.6/multiprocessing/pool.py\", line 108, in worker\n",
      "    task = get()\n",
      "  File \"/home/bjarne/.pyenv/versions/miniconda3-4.3.30/envs/tf_gpu/lib/python3.6/multiprocessing/queues.py\", line 334, in get\n",
      "    with self._rlock:\n",
      "  File \"/home/bjarne/.pyenv/versions/miniconda3-4.3.30/envs/tf_gpu/lib/python3.6/multiprocessing/queues.py\", line 334, in get\n",
      "    with self._rlock:\n",
      "  File \"/home/bjarne/.pyenv/versions/miniconda3-4.3.30/envs/tf_gpu/lib/python3.6/multiprocessing/queues.py\", line 334, in get\n",
      "    with self._rlock:\n",
      "  File \"/home/bjarne/.pyenv/versions/miniconda3-4.3.30/envs/tf_gpu/lib/python3.6/multiprocessing/synchronize.py\", line 95, in __enter__\n",
      "    return self._semlock.__enter__()\n",
      "  File \"/home/bjarne/.pyenv/versions/miniconda3-4.3.30/envs/tf_gpu/lib/python3.6/multiprocessing/queues.py\", line 334, in get\n",
      "    with self._rlock:\n",
      "  File \"/home/bjarne/.pyenv/versions/miniconda3-4.3.30/envs/tf_gpu/lib/python3.6/multiprocessing/synchronize.py\", line 95, in __enter__\n",
      "    return self._semlock.__enter__()\n",
      "  File \"/home/bjarne/.pyenv/versions/miniconda3-4.3.30/envs/tf_gpu/lib/python3.6/multiprocessing/synchronize.py\", line 95, in __enter__\n",
      "    return self._semlock.__enter__()\n",
      "  File \"/home/bjarne/.pyenv/versions/miniconda3-4.3.30/envs/tf_gpu/lib/python3.6/multiprocessing/queues.py\", line 334, in get\n",
      "    with self._rlock:\n",
      "  File \"/home/bjarne/.pyenv/versions/miniconda3-4.3.30/envs/tf_gpu/lib/python3.6/multiprocessing/queues.py\", line 334, in get\n",
      "    with self._rlock:\n",
      "  File \"/home/bjarne/.pyenv/versions/miniconda3-4.3.30/envs/tf_gpu/lib/python3.6/multiprocessing/synchronize.py\", line 95, in __enter__\n",
      "    return self._semlock.__enter__()\n",
      "  File \"/home/bjarne/.pyenv/versions/miniconda3-4.3.30/envs/tf_gpu/lib/python3.6/multiprocessing/synchronize.py\", line 95, in __enter__\n",
      "    return self._semlock.__enter__()\n",
      "  File \"/home/bjarne/.pyenv/versions/miniconda3-4.3.30/envs/tf_gpu/lib/python3.6/multiprocessing/synchronize.py\", line 95, in __enter__\n",
      "    return self._semlock.__enter__()\n",
      "  File \"/home/bjarne/.pyenv/versions/miniconda3-4.3.30/envs/tf_gpu/lib/python3.6/multiprocessing/synchronize.py\", line 95, in __enter__\n",
      "    return self._semlock.__enter__()\n",
      "  File \"/home/bjarne/.pyenv/versions/miniconda3-4.3.30/envs/tf_gpu/lib/python3.6/multiprocessing/queues.py\", line 334, in get\n",
      "    with self._rlock:\n",
      "  File \"/home/bjarne/.pyenv/versions/miniconda3-4.3.30/envs/tf_gpu/lib/python3.6/multiprocessing/synchronize.py\", line 95, in __enter__\n",
      "    return self._semlock.__enter__()\n",
      "  File \"/home/bjarne/.pyenv/versions/miniconda3-4.3.30/envs/tf_gpu/lib/python3.6/multiprocessing/synchronize.py\", line 95, in __enter__\n",
      "    return self._semlock.__enter__()\n",
      "  File \"/home/bjarne/.pyenv/versions/miniconda3-4.3.30/envs/tf_gpu/lib/python3.6/multiprocessing/queues.py\", line 334, in get\n",
      "    with self._rlock:\n",
      "  File \"/home/bjarne/.pyenv/versions/miniconda3-4.3.30/envs/tf_gpu/lib/python3.6/multiprocessing/synchronize.py\", line 95, in __enter__\n",
      "    return self._semlock.__enter__()\n",
      "  File \"/home/bjarne/.pyenv/versions/miniconda3-4.3.30/envs/tf_gpu/lib/python3.6/multiprocessing/synchronize.py\", line 95, in __enter__\n",
      "    return self._semlock.__enter__()\n",
      "  File \"/home/bjarne/.pyenv/versions/miniconda3-4.3.30/envs/tf_gpu/lib/python3.6/multiprocessing/synchronize.py\", line 95, in __enter__\n",
      "    return self._semlock.__enter__()\n",
      "  File \"/home/bjarne/.pyenv/versions/miniconda3-4.3.30/envs/tf_gpu/lib/python3.6/multiprocessing/synchronize.py\", line 95, in __enter__\n",
      "    return self._semlock.__enter__()\n",
      "  File \"/home/bjarne/.pyenv/versions/miniconda3-4.3.30/envs/tf_gpu/lib/python3.6/multiprocessing/synchronize.py\", line 95, in __enter__\n",
      "    return self._semlock.__enter__()\n",
      "  File \"/home/bjarne/.pyenv/versions/miniconda3-4.3.30/envs/tf_gpu/lib/python3.6/multiprocessing/synchronize.py\", line 95, in __enter__\n",
      "    return self._semlock.__enter__()\n",
      "  File \"/home/bjarne/.pyenv/versions/miniconda3-4.3.30/envs/tf_gpu/lib/python3.6/multiprocessing/synchronize.py\", line 95, in __enter__\n",
      "    return self._semlock.__enter__()\n",
      "  File \"/home/bjarne/.pyenv/versions/miniconda3-4.3.30/envs/tf_gpu/lib/python3.6/multiprocessing/queues.py\", line 334, in get\n",
      "    with self._rlock:\n",
      "  File \"/home/bjarne/.pyenv/versions/miniconda3-4.3.30/envs/tf_gpu/lib/python3.6/multiprocessing/queues.py\", line 334, in get\n",
      "    with self._rlock:\n",
      "  File \"/home/bjarne/.pyenv/versions/miniconda3-4.3.30/envs/tf_gpu/lib/python3.6/multiprocessing/synchronize.py\", line 95, in __enter__\n",
      "    return self._semlock.__enter__()\n",
      "  File \"/home/bjarne/.pyenv/versions/miniconda3-4.3.30/envs/tf_gpu/lib/python3.6/multiprocessing/synchronize.py\", line 95, in __enter__\n",
      "    return self._semlock.__enter__()\n",
      "  File \"/home/bjarne/.pyenv/versions/miniconda3-4.3.30/envs/tf_gpu/lib/python3.6/multiprocessing/synchronize.py\", line 95, in __enter__\n",
      "    return self._semlock.__enter__()\n",
      "  File \"/home/bjarne/.pyenv/versions/miniconda3-4.3.30/envs/tf_gpu/lib/python3.6/multiprocessing/synchronize.py\", line 95, in __enter__\n",
      "    return self._semlock.__enter__()\n",
      "  File \"/home/bjarne/.pyenv/versions/miniconda3-4.3.30/envs/tf_gpu/lib/python3.6/multiprocessing/synchronize.py\", line 95, in __enter__\n",
      "    return self._semlock.__enter__()\n",
      "  File \"/home/bjarne/.pyenv/versions/miniconda3-4.3.30/envs/tf_gpu/lib/python3.6/multiprocessing/synchronize.py\", line 95, in __enter__\n",
      "    return self._semlock.__enter__()\n",
      "  File \"/home/bjarne/.pyenv/versions/miniconda3-4.3.30/envs/tf_gpu/lib/python3.6/multiprocessing/synchronize.py\", line 95, in __enter__\n",
      "    return self._semlock.__enter__()\n",
      "  File \"/home/bjarne/.pyenv/versions/miniconda3-4.3.30/envs/tf_gpu/lib/python3.6/multiprocessing/synchronize.py\", line 95, in __enter__\n",
      "    return self._semlock.__enter__()\n",
      "  File \"/home/bjarne/.pyenv/versions/miniconda3-4.3.30/envs/tf_gpu/lib/python3.6/multiprocessing/connection.py\", line 216, in recv_bytes\n",
      "    buf = self._recv_bytes(maxlength)\n",
      "  File \"/home/bjarne/.pyenv/versions/miniconda3-4.3.30/envs/tf_gpu/lib/python3.6/multiprocessing/synchronize.py\", line 95, in __enter__\n",
      "    return self._semlock.__enter__()\n",
      "  File \"/home/bjarne/.pyenv/versions/miniconda3-4.3.30/envs/tf_gpu/lib/python3.6/multiprocessing/synchronize.py\", line 95, in __enter__\n",
      "    return self._semlock.__enter__()\n",
      "  File \"/home/bjarne/.pyenv/versions/miniconda3-4.3.30/envs/tf_gpu/lib/python3.6/multiprocessing/synchronize.py\", line 95, in __enter__\n",
      "    return self._semlock.__enter__()\n",
      "KeyboardInterrupt\n",
      "  File \"/home/bjarne/.pyenv/versions/miniconda3-4.3.30/envs/tf_gpu/lib/python3.6/multiprocessing/queues.py\", line 334, in get\n",
      "    with self._rlock:\n",
      "Traceback (most recent call last):\n",
      "  File \"/home/bjarne/.pyenv/versions/miniconda3-4.3.30/envs/tf_gpu/lib/python3.6/multiprocessing/queues.py\", line 334, in get\n",
      "    with self._rlock:\n",
      "  File \"/home/bjarne/.pyenv/versions/miniconda3-4.3.30/envs/tf_gpu/lib/python3.6/multiprocessing/queues.py\", line 334, in get\n",
      "    with self._rlock:\n",
      "  File \"/home/bjarne/.pyenv/versions/miniconda3-4.3.30/envs/tf_gpu/lib/python3.6/multiprocessing/queues.py\", line 334, in get\n",
      "    with self._rlock:\n",
      "  File \"/home/bjarne/.pyenv/versions/miniconda3-4.3.30/envs/tf_gpu/lib/python3.6/multiprocessing/queues.py\", line 334, in get\n",
      "    with self._rlock:\n",
      "  File \"/home/bjarne/.pyenv/versions/miniconda3-4.3.30/envs/tf_gpu/lib/python3.6/multiprocessing/connection.py\", line 216, in recv_bytes\n",
      "    buf = self._recv_bytes(maxlength)\n",
      "KeyboardInterrupt\n",
      "  File \"/home/bjarne/.pyenv/versions/miniconda3-4.3.30/envs/tf_gpu/lib/python3.6/multiprocessing/queues.py\", line 334, in get\n",
      "    with self._rlock:\n",
      "KeyboardInterrupt\n",
      "  File \"/home/bjarne/.pyenv/versions/miniconda3-4.3.30/envs/tf_gpu/lib/python3.6/multiprocessing/synchronize.py\", line 95, in __enter__\n",
      "    return self._semlock.__enter__()\n",
      "  File \"/home/bjarne/.pyenv/versions/miniconda3-4.3.30/envs/tf_gpu/lib/python3.6/multiprocessing/synchronize.py\", line 95, in __enter__\n",
      "    return self._semlock.__enter__()\n",
      "  File \"/home/bjarne/.pyenv/versions/miniconda3-4.3.30/envs/tf_gpu/lib/python3.6/multiprocessing/queues.py\", line 334, in get\n",
      "    with self._rlock:\n",
      "  File \"/home/bjarne/.pyenv/versions/miniconda3-4.3.30/envs/tf_gpu/lib/python3.6/multiprocessing/synchronize.py\", line 95, in __enter__\n",
      "    return self._semlock.__enter__()\n",
      "KeyboardInterrupt\n",
      "KeyboardInterrupt\n",
      "  File \"/home/bjarne/.pyenv/versions/miniconda3-4.3.30/envs/tf_gpu/lib/python3.6/multiprocessing/queues.py\", line 334, in get\n",
      "    with self._rlock:\n",
      "  File \"/home/bjarne/.pyenv/versions/miniconda3-4.3.30/envs/tf_gpu/lib/python3.6/multiprocessing/synchronize.py\", line 95, in __enter__\n",
      "    return self._semlock.__enter__()\n",
      "  File \"/home/bjarne/.pyenv/versions/miniconda3-4.3.30/envs/tf_gpu/lib/python3.6/multiprocessing/synchronize.py\", line 95, in __enter__\n",
      "    return self._semlock.__enter__()\n",
      "  File \"/home/bjarne/.pyenv/versions/miniconda3-4.3.30/envs/tf_gpu/lib/python3.6/multiprocessing/synchronize.py\", line 95, in __enter__\n",
      "    return self._semlock.__enter__()\n",
      "KeyboardInterrupt\n",
      "KeyboardInterrupt\n",
      "  File \"/home/bjarne/.pyenv/versions/miniconda3-4.3.30/envs/tf_gpu/lib/python3.6/multiprocessing/synchronize.py\", line 95, in __enter__\n",
      "    return self._semlock.__enter__()\n",
      "  File \"/home/bjarne/.pyenv/versions/miniconda3-4.3.30/envs/tf_gpu/lib/python3.6/multiprocessing/synchronize.py\", line 95, in __enter__\n",
      "    return self._semlock.__enter__()\n",
      "  File \"/home/bjarne/.pyenv/versions/miniconda3-4.3.30/envs/tf_gpu/lib/python3.6/multiprocessing/synchronize.py\", line 95, in __enter__\n",
      "    return self._semlock.__enter__()\n",
      "KeyboardInterrupt\n",
      "KeyboardInterrupt\n",
      "KeyboardInterrupt\n",
      "KeyboardInterrupt\n",
      "KeyboardInterrupt\n",
      "KeyboardInterrupt\n",
      "  File \"/home/bjarne/.pyenv/versions/miniconda3-4.3.30/envs/tf_gpu/lib/python3.6/multiprocessing/synchronize.py\", line 95, in __enter__\n",
      "    return self._semlock.__enter__()\n",
      "KeyboardInterrupt\n",
      "  File \"/home/bjarne/.pyenv/versions/miniconda3-4.3.30/envs/tf_gpu/lib/python3.6/multiprocessing/synchronize.py\", line 95, in __enter__\n",
      "    return self._semlock.__enter__()\n",
      "KeyboardInterrupt\n",
      "KeyboardInterrupt\n",
      "KeyboardInterrupt\n",
      "KeyboardInterrupt\n",
      "KeyboardInterrupt\n",
      "KeyboardInterrupt\n",
      "KeyboardInterrupt\n",
      "KeyboardInterrupt\n",
      "KeyboardInterrupt\n",
      "  File \"/home/bjarne/.pyenv/versions/miniconda3-4.3.30/envs/tf_gpu/lib/python3.6/multiprocessing/synchronize.py\", line 95, in __enter__\n",
      "    return self._semlock.__enter__()\n",
      "KeyboardInterrupt\n",
      "KeyboardInterrupt\n",
      "KeyboardInterrupt\n",
      "KeyboardInterrupt\n",
      "KeyboardInterrupt\n",
      "  File \"/home/bjarne/.pyenv/versions/miniconda3-4.3.30/envs/tf_gpu/lib/python3.6/multiprocessing/connection.py\", line 407, in _recv_bytes\n",
      "    buf = self._recv(4)\n",
      "KeyboardInterrupt\n",
      "KeyboardInterrupt\n",
      "KeyboardInterrupt\n",
      "  File \"/home/bjarne/.pyenv/versions/miniconda3-4.3.30/envs/tf_gpu/lib/python3.6/multiprocessing/synchronize.py\", line 95, in __enter__\n",
      "    return self._semlock.__enter__()\n",
      "  File \"/home/bjarne/.pyenv/versions/miniconda3-4.3.30/envs/tf_gpu/lib/python3.6/multiprocessing/synchronize.py\", line 95, in __enter__\n",
      "    return self._semlock.__enter__()\n",
      "  File \"/home/bjarne/.pyenv/versions/miniconda3-4.3.30/envs/tf_gpu/lib/python3.6/multiprocessing/process.py\", line 258, in _bootstrap\n",
      "    self.run()\n",
      "  File \"/home/bjarne/.pyenv/versions/miniconda3-4.3.30/envs/tf_gpu/lib/python3.6/multiprocessing/synchronize.py\", line 95, in __enter__\n",
      "    return self._semlock.__enter__()\n",
      "  File \"/home/bjarne/.pyenv/versions/miniconda3-4.3.30/envs/tf_gpu/lib/python3.6/multiprocessing/connection.py\", line 407, in _recv_bytes\n",
      "    buf = self._recv(4)\n",
      "KeyboardInterrupt\n",
      "KeyboardInterrupt\n",
      "  File \"/home/bjarne/.pyenv/versions/miniconda3-4.3.30/envs/tf_gpu/lib/python3.6/multiprocessing/synchronize.py\", line 95, in __enter__\n",
      "    return self._semlock.__enter__()\n",
      "KeyboardInterrupt\n",
      "  File \"/home/bjarne/.pyenv/versions/miniconda3-4.3.30/envs/tf_gpu/lib/python3.6/multiprocessing/synchronize.py\", line 95, in __enter__\n",
      "    return self._semlock.__enter__()\n",
      "  File \"/home/bjarne/.pyenv/versions/miniconda3-4.3.30/envs/tf_gpu/lib/python3.6/multiprocessing/synchronize.py\", line 95, in __enter__\n",
      "    return self._semlock.__enter__()\n",
      "KeyboardInterrupt\n",
      "KeyboardInterrupt\n",
      "  File \"/home/bjarne/.pyenv/versions/miniconda3-4.3.30/envs/tf_gpu/lib/python3.6/multiprocessing/synchronize.py\", line 95, in __enter__\n",
      "    return self._semlock.__enter__()\n",
      "KeyboardInterrupt\n",
      "  File \"/home/bjarne/.pyenv/versions/miniconda3-4.3.30/envs/tf_gpu/lib/python3.6/multiprocessing/synchronize.py\", line 95, in __enter__\n",
      "    return self._semlock.__enter__()\n",
      "KeyboardInterrupt\n",
      "KeyboardInterrupt\n",
      "KeyboardInterrupt\n",
      "  File \"/home/bjarne/.pyenv/versions/miniconda3-4.3.30/envs/tf_gpu/lib/python3.6/multiprocessing/connection.py\", line 379, in _recv\n",
      "    chunk = read(handle, remaining)\n",
      "  File \"/home/bjarne/.pyenv/versions/miniconda3-4.3.30/envs/tf_gpu/lib/python3.6/multiprocessing/process.py\", line 93, in run\n",
      "    self._target(*self._args, **self._kwargs)\n",
      "KeyboardInterrupt\n",
      "  File \"/home/bjarne/.pyenv/versions/miniconda3-4.3.30/envs/tf_gpu/lib/python3.6/multiprocessing/connection.py\", line 379, in _recv\n",
      "    chunk = read(handle, remaining)\n",
      "KeyboardInterrupt\n",
      "KeyboardInterrupt\n",
      "KeyboardInterrupt\n",
      "  File \"/home/bjarne/.pyenv/versions/miniconda3-4.3.30/envs/tf_gpu/lib/python3.6/multiprocessing/pool.py\", line 119, in worker\n",
      "    result = (True, func(*args, **kwds))\n",
      "KeyboardInterrupt\n",
      "  File \"/home/bjarne/.pyenv/versions/miniconda3-4.3.30/envs/tf_gpu/lib/python3.6/site-packages/keras/utils/data_utils.py\", line 401, in get_index\n",
      "    return _SHARED_SEQUENCES[uid][i]\n",
      "  File \"<ipython-input-24-4499c21f8be6>\", line 68, in __getitem__\n",
      "    X, y = self.__data_generation(list_IDs_temp)\n",
      "  File \"<ipython-input-24-4499c21f8be6>\", line 110, in __data_generation\n",
      "    return np.asarray(X, dtype=\"float\"), np.asarray(y, dtype=\"uint8\")\n",
      "  File \"/home/bjarne/.pyenv/versions/miniconda3-4.3.30/envs/tf_gpu/lib/python3.6/site-packages/numpy/core/numeric.py\", line 538, in asarray\n",
      "    return array(a, dtype, copy=False, order=order)\n",
      "KeyboardInterrupt\n",
      "KeyboardInterrupt\n",
      "KeyboardInterrupt\n",
      "KeyboardInterrupt\n",
      "  File \"/home/bjarne/.pyenv/versions/miniconda3-4.3.30/envs/tf_gpu/lib/python3.6/multiprocessing/synchronize.py\", line 95, in __enter__\n",
      "    return self._semlock.__enter__()\n",
      "KeyboardInterrupt\n",
      "KeyboardInterrupt\n",
      "KeyboardInterrupt\n",
      "KeyboardInterrupt\n",
      "KeyboardInterrupt\n",
      "KeyboardInterrupt\n",
      "KeyboardInterrupt\n",
      "KeyboardInterrupt\n",
      "Traceback (most recent call last):\n",
      "Traceback (most recent call last):\n",
      "  File \"/home/bjarne/.pyenv/versions/miniconda3-4.3.30/envs/tf_gpu/lib/python3.6/multiprocessing/process.py\", line 258, in _bootstrap\n",
      "    self.run()\n",
      "Traceback (most recent call last):\n",
      "  File \"/home/bjarne/.pyenv/versions/miniconda3-4.3.30/envs/tf_gpu/lib/python3.6/multiprocessing/process.py\", line 258, in _bootstrap\n",
      "    self.run()\n",
      "  File \"/home/bjarne/.pyenv/versions/miniconda3-4.3.30/envs/tf_gpu/lib/python3.6/multiprocessing/process.py\", line 93, in run\n",
      "    self._target(*self._args, **self._kwargs)\n",
      "  File \"/home/bjarne/.pyenv/versions/miniconda3-4.3.30/envs/tf_gpu/lib/python3.6/multiprocessing/process.py\", line 93, in run\n",
      "    self._target(*self._args, **self._kwargs)\n",
      "  File \"/home/bjarne/.pyenv/versions/miniconda3-4.3.30/envs/tf_gpu/lib/python3.6/multiprocessing/process.py\", line 258, in _bootstrap\n",
      "    self.run()\n",
      "  File \"/home/bjarne/.pyenv/versions/miniconda3-4.3.30/envs/tf_gpu/lib/python3.6/multiprocessing/pool.py\", line 119, in worker\n",
      "    result = (True, func(*args, **kwds))\n",
      "  File \"/home/bjarne/.pyenv/versions/miniconda3-4.3.30/envs/tf_gpu/lib/python3.6/multiprocessing/pool.py\", line 119, in worker\n",
      "    result = (True, func(*args, **kwds))\n",
      "  File \"/home/bjarne/.pyenv/versions/miniconda3-4.3.30/envs/tf_gpu/lib/python3.6/multiprocessing/process.py\", line 93, in run\n",
      "    self._target(*self._args, **self._kwargs)\n",
      "  File \"/home/bjarne/.pyenv/versions/miniconda3-4.3.30/envs/tf_gpu/lib/python3.6/site-packages/keras/utils/data_utils.py\", line 401, in get_index\n",
      "    return _SHARED_SEQUENCES[uid][i]\n",
      "  File \"<ipython-input-24-4499c21f8be6>\", line 68, in __getitem__\n",
      "    X, y = self.__data_generation(list_IDs_temp)\n",
      "  File \"<ipython-input-24-4499c21f8be6>\", line 108, in __data_generation\n",
      "    X, y = augmentor(X, y_class)\n",
      "  File \"<ipython-input-24-4499c21f8be6>\", line 10, in augmentor\n",
      "    segmap_aug = seq_det.augment_images(segmap)\n",
      "  File \"/home/bjarne/.pyenv/versions/miniconda3-4.3.30/envs/tf_gpu/lib/python3.6/site-packages/keras/utils/data_utils.py\", line 401, in get_index\n",
      "    return _SHARED_SEQUENCES[uid][i]\n",
      "  File \"/home/bjarne/.pyenv/versions/miniconda3-4.3.30/envs/tf_gpu/lib/python3.6/multiprocessing/pool.py\", line 119, in worker\n",
      "    result = (True, func(*args, **kwds))\n",
      "  File \"/home/bjarne/.pyenv/versions/miniconda3-4.3.30/envs/tf_gpu/lib/python3.6/site-packages/imgaug/augmenters/meta.py\", line 603, in augment_images\n",
      "    hooks=hooks\n",
      "  File \"<ipython-input-24-4499c21f8be6>\", line 68, in __getitem__\n",
      "    X, y = self.__data_generation(list_IDs_temp)\n"
     ]
    },
    {
     "ename": "KeyboardInterrupt",
     "evalue": "",
     "output_type": "error",
     "traceback": [
      "\u001b[0;31m---------------------------------------------------------------------------\u001b[0m",
      "\u001b[0;31mKeyboardInterrupt\u001b[0m                         Traceback (most recent call last)",
      "\u001b[0;32m<ipython-input-26-15d23d7605e1>\u001b[0m in \u001b[0;36m<module>\u001b[0;34m\u001b[0m\n\u001b[1;32m     84\u001b[0m     \u001b[0mworkers\u001b[0m\u001b[0;34m=\u001b[0m\u001b[0;36m30\u001b[0m\u001b[0;34m,\u001b[0m\u001b[0;34m\u001b[0m\u001b[0;34m\u001b[0m\u001b[0m\n\u001b[1;32m     85\u001b[0m     \u001b[0mverbose\u001b[0m\u001b[0;34m=\u001b[0m\u001b[0mVERBOSE\u001b[0m\u001b[0;34m,\u001b[0m\u001b[0;34m\u001b[0m\u001b[0;34m\u001b[0m\u001b[0m\n\u001b[0;32m---> 86\u001b[0;31m     \u001b[0mcallbacks\u001b[0m\u001b[0;34m=\u001b[0m\u001b[0mmodel_callbacks\u001b[0m\u001b[0;34m,\u001b[0m\u001b[0;34m\u001b[0m\u001b[0;34m\u001b[0m\u001b[0m\n\u001b[0m\u001b[1;32m     87\u001b[0m )\n",
      "\u001b[0;32m~/.pyenv/versions/miniconda3-4.3.30/envs/tf_gpu/lib/python3.6/site-packages/keras/legacy/interfaces.py\u001b[0m in \u001b[0;36mwrapper\u001b[0;34m(*args, **kwargs)\u001b[0m\n\u001b[1;32m     89\u001b[0m                 warnings.warn('Update your `' + object_name + '` call to the ' +\n\u001b[1;32m     90\u001b[0m                               'Keras 2 API: ' + signature, stacklevel=2)\n\u001b[0;32m---> 91\u001b[0;31m             \u001b[0;32mreturn\u001b[0m \u001b[0mfunc\u001b[0m\u001b[0;34m(\u001b[0m\u001b[0;34m*\u001b[0m\u001b[0margs\u001b[0m\u001b[0;34m,\u001b[0m \u001b[0;34m**\u001b[0m\u001b[0mkwargs\u001b[0m\u001b[0;34m)\u001b[0m\u001b[0;34m\u001b[0m\u001b[0;34m\u001b[0m\u001b[0m\n\u001b[0m\u001b[1;32m     92\u001b[0m         \u001b[0mwrapper\u001b[0m\u001b[0;34m.\u001b[0m\u001b[0m_original_function\u001b[0m \u001b[0;34m=\u001b[0m \u001b[0mfunc\u001b[0m\u001b[0;34m\u001b[0m\u001b[0;34m\u001b[0m\u001b[0m\n\u001b[1;32m     93\u001b[0m         \u001b[0;32mreturn\u001b[0m \u001b[0mwrapper\u001b[0m\u001b[0;34m\u001b[0m\u001b[0;34m\u001b[0m\u001b[0m\n",
      "\u001b[0;32m~/.pyenv/versions/miniconda3-4.3.30/envs/tf_gpu/lib/python3.6/site-packages/keras/engine/training.py\u001b[0m in \u001b[0;36mfit_generator\u001b[0;34m(self, generator, steps_per_epoch, epochs, verbose, callbacks, validation_data, validation_steps, class_weight, max_queue_size, workers, use_multiprocessing, shuffle, initial_epoch)\u001b[0m\n\u001b[1;32m   1416\u001b[0m             \u001b[0muse_multiprocessing\u001b[0m\u001b[0;34m=\u001b[0m\u001b[0muse_multiprocessing\u001b[0m\u001b[0;34m,\u001b[0m\u001b[0;34m\u001b[0m\u001b[0;34m\u001b[0m\u001b[0m\n\u001b[1;32m   1417\u001b[0m             \u001b[0mshuffle\u001b[0m\u001b[0;34m=\u001b[0m\u001b[0mshuffle\u001b[0m\u001b[0;34m,\u001b[0m\u001b[0;34m\u001b[0m\u001b[0;34m\u001b[0m\u001b[0m\n\u001b[0;32m-> 1418\u001b[0;31m             initial_epoch=initial_epoch)\n\u001b[0m\u001b[1;32m   1419\u001b[0m \u001b[0;34m\u001b[0m\u001b[0m\n\u001b[1;32m   1420\u001b[0m     \u001b[0;34m@\u001b[0m\u001b[0minterfaces\u001b[0m\u001b[0;34m.\u001b[0m\u001b[0mlegacy_generator_methods_support\u001b[0m\u001b[0;34m\u001b[0m\u001b[0;34m\u001b[0m\u001b[0m\n",
      "\u001b[0;32m~/.pyenv/versions/miniconda3-4.3.30/envs/tf_gpu/lib/python3.6/site-packages/keras/engine/training_generator.py\u001b[0m in \u001b[0;36mfit_generator\u001b[0;34m(model, generator, steps_per_epoch, epochs, verbose, callbacks, validation_data, validation_steps, class_weight, max_queue_size, workers, use_multiprocessing, shuffle, initial_epoch)\u001b[0m\n\u001b[1;32m    215\u001b[0m                 outs = model.train_on_batch(x, y,\n\u001b[1;32m    216\u001b[0m                                             \u001b[0msample_weight\u001b[0m\u001b[0;34m=\u001b[0m\u001b[0msample_weight\u001b[0m\u001b[0;34m,\u001b[0m\u001b[0;34m\u001b[0m\u001b[0;34m\u001b[0m\u001b[0m\n\u001b[0;32m--> 217\u001b[0;31m                                             class_weight=class_weight)\n\u001b[0m\u001b[1;32m    218\u001b[0m \u001b[0;34m\u001b[0m\u001b[0m\n\u001b[1;32m    219\u001b[0m                 \u001b[0mouts\u001b[0m \u001b[0;34m=\u001b[0m \u001b[0mto_list\u001b[0m\u001b[0;34m(\u001b[0m\u001b[0mouts\u001b[0m\u001b[0;34m)\u001b[0m\u001b[0;34m\u001b[0m\u001b[0;34m\u001b[0m\u001b[0m\n",
      "\u001b[0;32m~/.pyenv/versions/miniconda3-4.3.30/envs/tf_gpu/lib/python3.6/site-packages/keras/engine/training.py\u001b[0m in \u001b[0;36mtrain_on_batch\u001b[0;34m(self, x, y, sample_weight, class_weight)\u001b[0m\n\u001b[1;32m   1215\u001b[0m             \u001b[0mins\u001b[0m \u001b[0;34m=\u001b[0m \u001b[0mx\u001b[0m \u001b[0;34m+\u001b[0m \u001b[0my\u001b[0m \u001b[0;34m+\u001b[0m \u001b[0msample_weights\u001b[0m\u001b[0;34m\u001b[0m\u001b[0;34m\u001b[0m\u001b[0m\n\u001b[1;32m   1216\u001b[0m         \u001b[0mself\u001b[0m\u001b[0;34m.\u001b[0m\u001b[0m_make_train_function\u001b[0m\u001b[0;34m(\u001b[0m\u001b[0;34m)\u001b[0m\u001b[0;34m\u001b[0m\u001b[0;34m\u001b[0m\u001b[0m\n\u001b[0;32m-> 1217\u001b[0;31m         \u001b[0moutputs\u001b[0m \u001b[0;34m=\u001b[0m \u001b[0mself\u001b[0m\u001b[0;34m.\u001b[0m\u001b[0mtrain_function\u001b[0m\u001b[0;34m(\u001b[0m\u001b[0mins\u001b[0m\u001b[0;34m)\u001b[0m\u001b[0;34m\u001b[0m\u001b[0;34m\u001b[0m\u001b[0m\n\u001b[0m\u001b[1;32m   1218\u001b[0m         \u001b[0;32mreturn\u001b[0m \u001b[0munpack_singleton\u001b[0m\u001b[0;34m(\u001b[0m\u001b[0moutputs\u001b[0m\u001b[0;34m)\u001b[0m\u001b[0;34m\u001b[0m\u001b[0;34m\u001b[0m\u001b[0m\n\u001b[1;32m   1219\u001b[0m \u001b[0;34m\u001b[0m\u001b[0m\n",
      "\u001b[0;32m~/.pyenv/versions/miniconda3-4.3.30/envs/tf_gpu/lib/python3.6/site-packages/keras/backend/tensorflow_backend.py\u001b[0m in \u001b[0;36m__call__\u001b[0;34m(self, inputs)\u001b[0m\n\u001b[1;32m   2713\u001b[0m                 \u001b[0;32mreturn\u001b[0m \u001b[0mself\u001b[0m\u001b[0;34m.\u001b[0m\u001b[0m_legacy_call\u001b[0m\u001b[0;34m(\u001b[0m\u001b[0minputs\u001b[0m\u001b[0;34m)\u001b[0m\u001b[0;34m\u001b[0m\u001b[0;34m\u001b[0m\u001b[0m\n\u001b[1;32m   2714\u001b[0m \u001b[0;34m\u001b[0m\u001b[0m\n\u001b[0;32m-> 2715\u001b[0;31m             \u001b[0;32mreturn\u001b[0m \u001b[0mself\u001b[0m\u001b[0;34m.\u001b[0m\u001b[0m_call\u001b[0m\u001b[0;34m(\u001b[0m\u001b[0minputs\u001b[0m\u001b[0;34m)\u001b[0m\u001b[0;34m\u001b[0m\u001b[0;34m\u001b[0m\u001b[0m\n\u001b[0m\u001b[1;32m   2716\u001b[0m         \u001b[0;32melse\u001b[0m\u001b[0;34m:\u001b[0m\u001b[0;34m\u001b[0m\u001b[0;34m\u001b[0m\u001b[0m\n\u001b[1;32m   2717\u001b[0m             \u001b[0;32mif\u001b[0m \u001b[0mpy_any\u001b[0m\u001b[0;34m(\u001b[0m\u001b[0mis_tensor\u001b[0m\u001b[0;34m(\u001b[0m\u001b[0mx\u001b[0m\u001b[0;34m)\u001b[0m \u001b[0;32mfor\u001b[0m \u001b[0mx\u001b[0m \u001b[0;32min\u001b[0m \u001b[0minputs\u001b[0m\u001b[0;34m)\u001b[0m\u001b[0;34m:\u001b[0m\u001b[0;34m\u001b[0m\u001b[0;34m\u001b[0m\u001b[0m\n",
      "\u001b[0;32m~/.pyenv/versions/miniconda3-4.3.30/envs/tf_gpu/lib/python3.6/site-packages/keras/backend/tensorflow_backend.py\u001b[0m in \u001b[0;36m_call\u001b[0;34m(self, inputs)\u001b[0m\n\u001b[1;32m   2653\u001b[0m                 array_vals.append(\n\u001b[1;32m   2654\u001b[0m                     np.asarray(value,\n\u001b[0;32m-> 2655\u001b[0;31m                                dtype=tf.as_dtype(tensor.dtype).as_numpy_dtype))\n\u001b[0m\u001b[1;32m   2656\u001b[0m         \u001b[0;32mif\u001b[0m \u001b[0mself\u001b[0m\u001b[0;34m.\u001b[0m\u001b[0mfeed_dict\u001b[0m\u001b[0;34m:\u001b[0m\u001b[0;34m\u001b[0m\u001b[0;34m\u001b[0m\u001b[0m\n\u001b[1;32m   2657\u001b[0m             \u001b[0;32mfor\u001b[0m \u001b[0mkey\u001b[0m \u001b[0;32min\u001b[0m \u001b[0msorted\u001b[0m\u001b[0;34m(\u001b[0m\u001b[0mself\u001b[0m\u001b[0;34m.\u001b[0m\u001b[0mfeed_dict\u001b[0m\u001b[0;34m.\u001b[0m\u001b[0mkeys\u001b[0m\u001b[0;34m(\u001b[0m\u001b[0;34m)\u001b[0m\u001b[0;34m)\u001b[0m\u001b[0;34m:\u001b[0m\u001b[0;34m\u001b[0m\u001b[0;34m\u001b[0m\u001b[0m\n",
      "\u001b[0;32m~/.pyenv/versions/miniconda3-4.3.30/envs/tf_gpu/lib/python3.6/site-packages/numpy/core/numeric.py\u001b[0m in \u001b[0;36masarray\u001b[0;34m(a, dtype, order)\u001b[0m\n\u001b[1;32m    536\u001b[0m \u001b[0;34m\u001b[0m\u001b[0m\n\u001b[1;32m    537\u001b[0m     \"\"\"\n\u001b[0;32m--> 538\u001b[0;31m     \u001b[0;32mreturn\u001b[0m \u001b[0marray\u001b[0m\u001b[0;34m(\u001b[0m\u001b[0ma\u001b[0m\u001b[0;34m,\u001b[0m \u001b[0mdtype\u001b[0m\u001b[0;34m,\u001b[0m \u001b[0mcopy\u001b[0m\u001b[0;34m=\u001b[0m\u001b[0;32mFalse\u001b[0m\u001b[0;34m,\u001b[0m \u001b[0morder\u001b[0m\u001b[0;34m=\u001b[0m\u001b[0morder\u001b[0m\u001b[0;34m)\u001b[0m\u001b[0;34m\u001b[0m\u001b[0;34m\u001b[0m\u001b[0m\n\u001b[0m\u001b[1;32m    539\u001b[0m \u001b[0;34m\u001b[0m\u001b[0m\n\u001b[1;32m    540\u001b[0m \u001b[0;34m\u001b[0m\u001b[0m\n",
      "\u001b[0;31mKeyboardInterrupt\u001b[0m: "
     ]
    },
    {
     "name": "stderr",
     "output_type": "stream",
     "text": [
      "  File \"/home/bjarne/.pyenv/versions/miniconda3-4.3.30/envs/tf_gpu/lib/python3.6/site-packages/keras/utils/data_utils.py\", line 401, in get_index\n",
      "    return _SHARED_SEQUENCES[uid][i]\n",
      "  File \"<ipython-input-24-4499c21f8be6>\", line 108, in __data_generation\n",
      "    X, y = augmentor(X, y_class)\n",
      "  File \"/home/bjarne/.pyenv/versions/miniconda3-4.3.30/envs/tf_gpu/lib/python3.6/site-packages/imgaug/augmenters/meta.py\", line 3118, in _augment_images\n",
      "    hooks=hooks\n",
      "  File \"<ipython-input-24-4499c21f8be6>\", line 10, in augmentor\n",
      "    segmap_aug = seq_det.augment_images(segmap)\n",
      "  File \"<ipython-input-24-4499c21f8be6>\", line 68, in __getitem__\n",
      "    X, y = self.__data_generation(list_IDs_temp)\n",
      "  File \"/home/bjarne/.pyenv/versions/miniconda3-4.3.30/envs/tf_gpu/lib/python3.6/site-packages/imgaug/augmenters/meta.py\", line 515, in augment_images\n",
      "    hooks=hooks\n",
      "  File \"/home/bjarne/.pyenv/versions/miniconda3-4.3.30/envs/tf_gpu/lib/python3.6/site-packages/imgaug/augmenters/meta.py\", line 603, in augment_images\n",
      "    hooks=hooks\n",
      "  File \"<ipython-input-24-4499c21f8be6>\", line 100, in __data_generation\n",
      "    y[i,] = np.expand_dims(imread(self.path + \"gt/\" + ID + \".tif\").astype(\"uint8\"), axis=-1)\n",
      "  File \"/home/bjarne/.pyenv/versions/miniconda3-4.3.30/envs/tf_gpu/lib/python3.6/site-packages/imgaug/augmenters/geometric.py\", line 620, in _augment_images\n",
      "    shear_samples, cval_samples, mode_samples, order_samples)\n",
      "  File \"/home/bjarne/.pyenv/versions/miniconda3-4.3.30/envs/tf_gpu/lib/python3.6/site-packages/imgaug/augmenters/meta.py\", line 3118, in _augment_images\n",
      "    hooks=hooks\n",
      "  File \"/home/bjarne/.pyenv/versions/miniconda3-4.3.30/envs/tf_gpu/lib/python3.6/site-packages/imgaug/augmenters/meta.py\", line 515, in augment_images\n",
      "    hooks=hooks\n",
      "  File \"/home/bjarne/.pyenv/versions/miniconda3-4.3.30/envs/tf_gpu/lib/python3.6/site-packages/imgaug/augmenters/geometric.py\", line 674, in _augment_images_by_samples\n",
      "    return_matrix=return_matrices,\n",
      "  File \"/home/bjarne/.pyenv/versions/miniconda3-4.3.30/envs/tf_gpu/lib/python3.6/site-packages/skimage/io/_io.py\", line 61, in imread\n",
      "    img = call_plugin('imread', fname, plugin=plugin, **plugin_args)\n",
      "  File \"/home/bjarne/.pyenv/versions/miniconda3-4.3.30/envs/tf_gpu/lib/python3.6/site-packages/imgaug/augmenters/geometric.py\", line 620, in _augment_images\n",
      "    shear_samples, cval_samples, mode_samples, order_samples)\n",
      "  File \"/home/bjarne/.pyenv/versions/miniconda3-4.3.30/envs/tf_gpu/lib/python3.6/site-packages/imgaug/augmenters/geometric.py\", line 896, in _warp_skimage\n",
      "    output_shape=output_shape,\n",
      "  File \"/home/bjarne/.pyenv/versions/miniconda3-4.3.30/envs/tf_gpu/lib/python3.6/site-packages/skimage/io/manage_plugins.py\", line 210, in call_plugin\n",
      "    return func(*args, **kwargs)\n",
      "  File \"/home/bjarne/.pyenv/versions/miniconda3-4.3.30/envs/tf_gpu/lib/python3.6/site-packages/imgaug/augmenters/geometric.py\", line 674, in _augment_images_by_samples\n",
      "    return_matrix=return_matrices,\n",
      "  File \"/home/bjarne/.pyenv/versions/miniconda3-4.3.30/envs/tf_gpu/lib/python3.6/site-packages/skimage/transform/_warps.py\", line 872, in warp\n",
      "    warped = np.dstack(dims)\n",
      "  File \"/home/bjarne/.pyenv/versions/miniconda3-4.3.30/envs/tf_gpu/lib/python3.6/site-packages/imgaug/augmenters/geometric.py\", line 896, in _warp_skimage\n",
      "    output_shape=output_shape,\n",
      "  File \"/home/bjarne/.pyenv/versions/miniconda3-4.3.30/envs/tf_gpu/lib/python3.6/site-packages/skimage/io/_plugins/tifffile_plugin.py\", line 37, in imread\n",
      "    with TiffFile(fname, **kwargs_tiff) as tif:\n",
      "  File \"/home/bjarne/.pyenv/versions/miniconda3-4.3.30/envs/tf_gpu/lib/python3.6/site-packages/numpy/lib/shape_base.py\", line 699, in dstack\n",
      "    return _nx.concatenate([atleast_3d(_m) for _m in tup], 2)\n",
      "KeyboardInterrupt\n",
      "  File \"/home/bjarne/.pyenv/versions/miniconda3-4.3.30/envs/tf_gpu/lib/python3.6/site-packages/skimage/transform/_warps.py\", line 872, in warp\n",
      "    warped = np.dstack(dims)\n",
      "  File \"/home/bjarne/.pyenv/versions/miniconda3-4.3.30/envs/tf_gpu/lib/python3.6/site-packages/skimage/external/tifffile/tifffile.py\", line 1336, in __init__\n",
      "    self._fromfile(pages, fastij)\n",
      "  File \"/home/bjarne/.pyenv/versions/miniconda3-4.3.30/envs/tf_gpu/lib/python3.6/site-packages/numpy/lib/shape_base.py\", line 699, in dstack\n",
      "    return _nx.concatenate([atleast_3d(_m) for _m in tup], 2)\n",
      "  File \"/home/bjarne/.pyenv/versions/miniconda3-4.3.30/envs/tf_gpu/lib/python3.6/site-packages/skimage/external/tifffile/tifffile.py\", line 1361, in _fromfile\n",
      "    self.byteorder = {b'II': '<', b'MM': '>'}[self._fh.read(2)]\n",
      "KeyboardInterrupt\n",
      "  File \"/home/bjarne/.pyenv/versions/miniconda3-4.3.30/envs/tf_gpu/lib/python3.6/site-packages/skimage/external/tifffile/tifffile.py\", line 3591, in read\n",
      "    return self._fh.read(size)\n",
      "KeyboardInterrupt\n",
      "Process ForkPoolWorker-785:\n",
      "Process ForkPoolWorker-784:\n",
      "Process ForkPoolWorker-787:\n",
      "Process ForkPoolWorker-786:\n",
      "Process ForkPoolWorker-788:\n",
      "Process ForkPoolWorker-789:\n",
      "Process ForkPoolWorker-783:\n",
      "Traceback (most recent call last):\n",
      "Traceback (most recent call last):\n",
      "Traceback (most recent call last):\n",
      "Traceback (most recent call last):\n",
      "Traceback (most recent call last):\n",
      "Traceback (most recent call last):\n",
      "Traceback (most recent call last):\n",
      "  File \"/home/bjarne/.pyenv/versions/miniconda3-4.3.30/envs/tf_gpu/lib/python3.6/multiprocessing/process.py\", line 258, in _bootstrap\n",
      "    self.run()\n",
      "  File \"/home/bjarne/.pyenv/versions/miniconda3-4.3.30/envs/tf_gpu/lib/python3.6/multiprocessing/process.py\", line 258, in _bootstrap\n",
      "    self.run()\n",
      "  File \"/home/bjarne/.pyenv/versions/miniconda3-4.3.30/envs/tf_gpu/lib/python3.6/multiprocessing/process.py\", line 258, in _bootstrap\n",
      "    self.run()\n",
      "  File \"/home/bjarne/.pyenv/versions/miniconda3-4.3.30/envs/tf_gpu/lib/python3.6/multiprocessing/process.py\", line 258, in _bootstrap\n",
      "    self.run()\n",
      "  File \"/home/bjarne/.pyenv/versions/miniconda3-4.3.30/envs/tf_gpu/lib/python3.6/multiprocessing/process.py\", line 258, in _bootstrap\n",
      "    self.run()\n",
      "  File \"/home/bjarne/.pyenv/versions/miniconda3-4.3.30/envs/tf_gpu/lib/python3.6/multiprocessing/process.py\", line 258, in _bootstrap\n",
      "    self.run()\n",
      "  File \"/home/bjarne/.pyenv/versions/miniconda3-4.3.30/envs/tf_gpu/lib/python3.6/multiprocessing/process.py\", line 258, in _bootstrap\n",
      "    self.run()\n",
      "  File \"/home/bjarne/.pyenv/versions/miniconda3-4.3.30/envs/tf_gpu/lib/python3.6/multiprocessing/process.py\", line 93, in run\n",
      "    self._target(*self._args, **self._kwargs)\n",
      "  File \"/home/bjarne/.pyenv/versions/miniconda3-4.3.30/envs/tf_gpu/lib/python3.6/multiprocessing/process.py\", line 93, in run\n",
      "    self._target(*self._args, **self._kwargs)\n",
      "  File \"/home/bjarne/.pyenv/versions/miniconda3-4.3.30/envs/tf_gpu/lib/python3.6/multiprocessing/process.py\", line 93, in run\n",
      "    self._target(*self._args, **self._kwargs)\n",
      "  File \"/home/bjarne/.pyenv/versions/miniconda3-4.3.30/envs/tf_gpu/lib/python3.6/multiprocessing/process.py\", line 93, in run\n",
      "    self._target(*self._args, **self._kwargs)\n",
      "  File \"/home/bjarne/.pyenv/versions/miniconda3-4.3.30/envs/tf_gpu/lib/python3.6/multiprocessing/process.py\", line 93, in run\n",
      "    self._target(*self._args, **self._kwargs)\n",
      "  File \"/home/bjarne/.pyenv/versions/miniconda3-4.3.30/envs/tf_gpu/lib/python3.6/multiprocessing/process.py\", line 93, in run\n",
      "    self._target(*self._args, **self._kwargs)\n",
      "  File \"/home/bjarne/.pyenv/versions/miniconda3-4.3.30/envs/tf_gpu/lib/python3.6/multiprocessing/process.py\", line 93, in run\n",
      "    self._target(*self._args, **self._kwargs)\n",
      "  File \"/home/bjarne/.pyenv/versions/miniconda3-4.3.30/envs/tf_gpu/lib/python3.6/multiprocessing/pool.py\", line 108, in worker\n",
      "    task = get()\n",
      "  File \"/home/bjarne/.pyenv/versions/miniconda3-4.3.30/envs/tf_gpu/lib/python3.6/multiprocessing/pool.py\", line 108, in worker\n",
      "    task = get()\n",
      "  File \"/home/bjarne/.pyenv/versions/miniconda3-4.3.30/envs/tf_gpu/lib/python3.6/multiprocessing/pool.py\", line 108, in worker\n",
      "    task = get()\n",
      "  File \"/home/bjarne/.pyenv/versions/miniconda3-4.3.30/envs/tf_gpu/lib/python3.6/multiprocessing/pool.py\", line 108, in worker\n",
      "    task = get()\n",
      "  File \"/home/bjarne/.pyenv/versions/miniconda3-4.3.30/envs/tf_gpu/lib/python3.6/multiprocessing/pool.py\", line 108, in worker\n",
      "    task = get()\n",
      "  File \"/home/bjarne/.pyenv/versions/miniconda3-4.3.30/envs/tf_gpu/lib/python3.6/multiprocessing/pool.py\", line 108, in worker\n",
      "    task = get()\n",
      "  File \"/home/bjarne/.pyenv/versions/miniconda3-4.3.30/envs/tf_gpu/lib/python3.6/multiprocessing/pool.py\", line 108, in worker\n",
      "    task = get()\n",
      "  File \"/home/bjarne/.pyenv/versions/miniconda3-4.3.30/envs/tf_gpu/lib/python3.6/multiprocessing/queues.py\", line 334, in get\n",
      "    with self._rlock:\n",
      "  File \"/home/bjarne/.pyenv/versions/miniconda3-4.3.30/envs/tf_gpu/lib/python3.6/multiprocessing/queues.py\", line 334, in get\n",
      "    with self._rlock:\n",
      "  File \"/home/bjarne/.pyenv/versions/miniconda3-4.3.30/envs/tf_gpu/lib/python3.6/multiprocessing/queues.py\", line 334, in get\n",
      "    with self._rlock:\n",
      "  File \"/home/bjarne/.pyenv/versions/miniconda3-4.3.30/envs/tf_gpu/lib/python3.6/multiprocessing/queues.py\", line 334, in get\n",
      "    with self._rlock:\n",
      "  File \"/home/bjarne/.pyenv/versions/miniconda3-4.3.30/envs/tf_gpu/lib/python3.6/multiprocessing/queues.py\", line 334, in get\n",
      "    with self._rlock:\n",
      "  File \"/home/bjarne/.pyenv/versions/miniconda3-4.3.30/envs/tf_gpu/lib/python3.6/multiprocessing/queues.py\", line 334, in get\n",
      "    with self._rlock:\n",
      "  File \"/home/bjarne/.pyenv/versions/miniconda3-4.3.30/envs/tf_gpu/lib/python3.6/multiprocessing/queues.py\", line 334, in get\n",
      "    with self._rlock:\n",
      "  File \"/home/bjarne/.pyenv/versions/miniconda3-4.3.30/envs/tf_gpu/lib/python3.6/multiprocessing/synchronize.py\", line 95, in __enter__\n",
      "    return self._semlock.__enter__()\n",
      "  File \"/home/bjarne/.pyenv/versions/miniconda3-4.3.30/envs/tf_gpu/lib/python3.6/multiprocessing/synchronize.py\", line 95, in __enter__\n",
      "    return self._semlock.__enter__()\n",
      "  File \"/home/bjarne/.pyenv/versions/miniconda3-4.3.30/envs/tf_gpu/lib/python3.6/multiprocessing/synchronize.py\", line 95, in __enter__\n",
      "    return self._semlock.__enter__()\n",
      "  File \"/home/bjarne/.pyenv/versions/miniconda3-4.3.30/envs/tf_gpu/lib/python3.6/multiprocessing/synchronize.py\", line 95, in __enter__\n",
      "    return self._semlock.__enter__()\n",
      "  File \"/home/bjarne/.pyenv/versions/miniconda3-4.3.30/envs/tf_gpu/lib/python3.6/multiprocessing/synchronize.py\", line 95, in __enter__\n",
      "    return self._semlock.__enter__()\n",
      "  File \"/home/bjarne/.pyenv/versions/miniconda3-4.3.30/envs/tf_gpu/lib/python3.6/multiprocessing/synchronize.py\", line 95, in __enter__\n",
      "    return self._semlock.__enter__()\n",
      "  File \"/home/bjarne/.pyenv/versions/miniconda3-4.3.30/envs/tf_gpu/lib/python3.6/multiprocessing/synchronize.py\", line 95, in __enter__\n",
      "    return self._semlock.__enter__()\n",
      "KeyboardInterrupt\n",
      "KeyboardInterrupt\n",
      "KeyboardInterrupt\n",
      "KeyboardInterrupt\n",
      "KeyboardInterrupt\n",
      "KeyboardInterrupt\n",
      "KeyboardInterrupt\n"
     ]
    }
   ],
   "source": [
    "###################################\n",
    "#Clean session\n",
    "sess = get_session()\n",
    "clear_session()\n",
    "sess.close()\n",
    "# TensorFlow wizardry\n",
    "config = tf.ConfigProto(log_device_placement=True)\n",
    "\n",
    "# Don't pre-allocate memory; allocate as-needed\n",
    "config.gpu_options.allow_growth = True\n",
    "\n",
    "# Only allow a total of half the GPU memory to be allocated\n",
    "# config.gpu_options.per_process_gpu_memory_fraction = 0.5\n",
    "\n",
    "# Create a session with the above options specified.\n",
    "K.tensorflow_backend.set_session(tf.Session(config=config))\n",
    "###################################\n",
    "RUN_DATE = \"2019-10-17\"\n",
    "modelpath = osp.join(\n",
    "    weight_path, RUN_DATE,\"pretrain_U-net_model.h5\"\n",
    ")\n",
    "log_path = osp.join(\n",
    "    \"./logs\",\n",
    "    RUN_DATE,\n",
    "    \"pretrain_U-net\",\n",
    "    ''\n",
    ")\n",
    "model_kwargs = {\n",
    "    \"shape\": SHAPE,\n",
    "    \"nb_filters\": NB_FILTERS_0,\n",
    "    \"sigma_noise\": SIGMA_NOISE,\n",
    "    \"depth\": 4,\n",
    "    \"maxpool\": False,\n",
    "    \"initialization\": \"he_normal\",\n",
    "    \"activation\": Swish,\n",
    "    \"dropout\": 0,\n",
    "    \"output_channels\": 151,\n",
    "    \"batchnorm\": True,\n",
    "    \"pretrain\": 0,\n",
    "    \"arch\": \"U-Net\",\n",
    "}\n",
    "\n",
    "#if not os.path.exists(modelpath):\n",
    "#    os.makedirs(modelpath, exist_ok=True)\n",
    "\n",
    "csv_logger = CSVLogger(\"pretraincsvlog.csv\", append=True)\n",
    "tqdm_progress = TQDMNotebookCallback(\n",
    "    metric_format=\"{name}: {value:0.4f}\", leave_inner=True, leave_outer=True\n",
    ")\n",
    "tb_callback = TensorBoard(\n",
    "    log_dir=log_path,\n",
    "    histogram_freq=0,\n",
    "    batch_size=BATCH_SIZE,\n",
    "    write_graph=True,\n",
    "    write_grads=False,\n",
    "    write_images=True,\n",
    "    embeddings_freq=0,\n",
    "    update_freq=\"epoch\",\n",
    ")\n",
    "early_stopping = EarlyStopping(\n",
    "    monitor=\"loss\", min_delta=0.0001, patience=15, verbose=0, mode=\"auto\"\n",
    ")\n",
    "reduce_lr_on_plateau = ReduceLROnPlateau(\n",
    "    monitor=\"loss\", factor=0.1, patience=5, min_lr=1e-8, verbose=1\n",
    ")\n",
    "model_checkpoint = PatchedModelCheckpoint(\n",
    "    modelpath, verbose=0, monitor=\"loss\", save_best_only=True\n",
    ")\n",
    "\n",
    "model_callbacks = [csv_logger, tb_callback, tqdm_progress]\n",
    "opti_callbacks = [early_stopping, reduce_lr_on_plateau, model_checkpoint]\n",
    "model = u_net(**model_kwargs)\n",
    "model.compile(\n",
    "    loss=categorical_crossentropy,\n",
    "    optimizer=Adam(1e-4),\n",
    "    metrics=[\"acc\"],\n",
    "    # weighted_metrics=[\"acc\"],\n",
    ")\n",
    "\n",
    "history = model.fit_generator(\n",
    "    generator=train_generator,\n",
    "    epochs=NB_EPOCH,\n",
    "    validation_data=val_generator,\n",
    "    use_multiprocessing=True,\n",
    "    workers=30,\n",
    "    verbose=VERBOSE,\n",
    "    callbacks=model_callbacks + opti_callbacks,\n",
    ")"
   ]
  },
  {
   "cell_type": "code",
   "execution_count": 32,
   "metadata": {
    "jupyter": {
     "source_hidden": true
    },
    "scrolled": true
   },
   "outputs": [
    {
     "data": {
      "application/vnd.jupyter.widget-view+json": {
       "model_id": "9cdd4c05bf9a48d5ba6a0fdcfa9fa6f8",
       "version_major": 2,
       "version_minor": 0
      },
      "text/plain": [
       "HBox(children=(IntProgress(value=0, description='Training', max=400, style=ProgressStyle(description_width='in…"
      ]
     },
     "metadata": {},
     "output_type": "display_data"
    },
    {
     "data": {
      "application/vnd.jupyter.widget-view+json": {
       "model_id": "0bd196d093d74b7da02aa1ecd6833481",
       "version_major": 2,
       "version_minor": 0
      },
      "text/plain": [
       "HBox(children=(IntProgress(value=0, description='Epoch 7', max=21753, style=ProgressStyle(description_width='i…"
      ]
     },
     "metadata": {},
     "output_type": "display_data"
    },
    {
     "data": {
      "application/vnd.jupyter.widget-view+json": {
       "model_id": "16dc82b3b759437ba1d053d5a63b37d9",
       "version_major": 2,
       "version_minor": 0
      },
      "text/plain": [
       "HBox(children=(IntProgress(value=0, description='Epoch 8', max=21753, style=ProgressStyle(description_width='i…"
      ]
     },
     "metadata": {},
     "output_type": "display_data"
    },
    {
     "data": {
      "application/vnd.jupyter.widget-view+json": {
       "model_id": "0903dea544d647ba98eadf45ea175323",
       "version_major": 2,
       "version_minor": 0
      },
      "text/plain": [
       "HBox(children=(IntProgress(value=0, description='Epoch 9', max=21753, style=ProgressStyle(description_width='i…"
      ]
     },
     "metadata": {},
     "output_type": "display_data"
    },
    {
     "data": {
      "application/vnd.jupyter.widget-view+json": {
       "model_id": "d892d088659e488a96d3e18a94574ef7",
       "version_major": 2,
       "version_minor": 0
      },
      "text/plain": [
       "HBox(children=(IntProgress(value=0, description='Epoch 10', max=21753, style=ProgressStyle(description_width='…"
      ]
     },
     "metadata": {},
     "output_type": "display_data"
    },
    {
     "data": {
      "application/vnd.jupyter.widget-view+json": {
       "model_id": "52177bdd16fe47b5ab7e0d745716956a",
       "version_major": 2,
       "version_minor": 0
      },
      "text/plain": [
       "HBox(children=(IntProgress(value=0, description='Epoch 11', max=21753, style=ProgressStyle(description_width='…"
      ]
     },
     "metadata": {},
     "output_type": "display_data"
    },
    {
     "name": "stderr",
     "output_type": "stream",
     "text": [
      "Process ForkPoolWorker-1135:\n",
      "Process ForkPoolWorker-1117:\n",
      "Process ForkPoolWorker-1140:\n",
      "Process ForkPoolWorker-1100:\n",
      "Process ForkPoolWorker-1091:\n",
      "Process ForkPoolWorker-1124:\n",
      "Process ForkPoolWorker-1093:\n",
      "Process ForkPoolWorker-1110:\n",
      "Process ForkPoolWorker-1083:\n",
      "Process ForkPoolWorker-1129:\n",
      "Process ForkPoolWorker-1125:\n",
      "Process ForkPoolWorker-1126:\n",
      "Process ForkPoolWorker-1121:\n",
      "Process ForkPoolWorker-1127:\n",
      "Process ForkPoolWorker-1115:\n",
      "Process ForkPoolWorker-1098:\n",
      "Process ForkPoolWorker-1085:\n",
      "Process ForkPoolWorker-1128:\n",
      "Process ForkPoolWorker-1138:\n",
      "Process ForkPoolWorker-1133:\n",
      "Process ForkPoolWorker-1139:\n",
      "Process ForkPoolWorker-1136:\n",
      "Process ForkPoolWorker-1122:\n",
      "Process ForkPoolWorker-1134:\n",
      "Process ForkPoolWorker-1119:\n",
      "Process ForkPoolWorker-1095:\n",
      "Process ForkPoolWorker-1112:\n",
      "Process ForkPoolWorker-1123:\n",
      "Process ForkPoolWorker-1116:\n",
      "Process ForkPoolWorker-1132:\n",
      "Process ForkPoolWorker-1131:\n",
      "Process ForkPoolWorker-1120:\n",
      "Process ForkPoolWorker-1103:\n",
      "Process ForkPoolWorker-1118:\n",
      "Process ForkPoolWorker-1130:\n",
      "Process ForkPoolWorker-1113:\n",
      "Process ForkPoolWorker-1090:\n",
      "Process ForkPoolWorker-1089:\n",
      "Process ForkPoolWorker-1087:\n",
      "Process ForkPoolWorker-1096:\n",
      "Process ForkPoolWorker-1092:\n",
      "Process ForkPoolWorker-1137:\n",
      "Process ForkPoolWorker-1086:\n",
      "Process ForkPoolWorker-1105:\n",
      "Process ForkPoolWorker-1108:\n",
      "Process ForkPoolWorker-1101:\n",
      "Process ForkPoolWorker-1114:\n",
      "Process ForkPoolWorker-1088:\n",
      "Process ForkPoolWorker-1082:\n",
      "Process ForkPoolWorker-1084:\n",
      "Process ForkPoolWorker-1081:\n",
      "Process ForkPoolWorker-1104:\n",
      "Process ForkPoolWorker-1106:\n",
      "Process ForkPoolWorker-1094:\n",
      "Process ForkPoolWorker-1111:\n",
      "Traceback (most recent call last):\n",
      "KeyboardInterrupt\n",
      "  File \"/home/bjarne/.pyenv/versions/miniconda3-4.3.30/envs/tf_gpu/lib/python3.6/site-packages/imgaug/augmenters/meta.py\", line 603, in augment_images\n",
      "    hooks=hooks\n",
      "Process ForkPoolWorker-1109:\n",
      "Traceback (most recent call last):\n",
      "Traceback (most recent call last):\n",
      "Process ForkPoolWorker-1102:\n",
      "Traceback (most recent call last):\n",
      "Traceback (most recent call last):\n",
      "Traceback (most recent call last):\n",
      "Process ForkPoolWorker-1097:\n",
      "Process ForkPoolWorker-1099:\n",
      "Traceback (most recent call last):\n",
      "Process ForkPoolWorker-1107:\n",
      "Traceback (most recent call last):\n",
      "Traceback (most recent call last):\n",
      "Traceback (most recent call last):\n",
      "Traceback (most recent call last):\n",
      "Traceback (most recent call last):\n",
      "Traceback (most recent call last):\n",
      "Traceback (most recent call last):\n",
      "Traceback (most recent call last):\n",
      "Traceback (most recent call last):\n",
      "Traceback (most recent call last):\n",
      "Traceback (most recent call last):\n",
      "Traceback (most recent call last):\n",
      "Traceback (most recent call last):\n",
      "Traceback (most recent call last):\n",
      "Traceback (most recent call last):\n",
      "Traceback (most recent call last):\n",
      "Traceback (most recent call last):\n",
      "Traceback (most recent call last):\n",
      "Traceback (most recent call last):\n",
      "Traceback (most recent call last):\n",
      "Traceback (most recent call last):\n",
      "Traceback (most recent call last):\n",
      "Traceback (most recent call last):\n",
      "Traceback (most recent call last):\n",
      "Traceback (most recent call last):\n",
      "Traceback (most recent call last):\n",
      "Traceback (most recent call last):\n",
      "Traceback (most recent call last):\n",
      "Traceback (most recent call last):\n",
      "Traceback (most recent call last):\n",
      "Traceback (most recent call last):\n",
      "Traceback (most recent call last):\n",
      "Traceback (most recent call last):\n",
      "Traceback (most recent call last):\n",
      "Traceback (most recent call last):\n",
      "Traceback (most recent call last):\n",
      "Traceback (most recent call last):\n",
      "Traceback (most recent call last):\n",
      "Traceback (most recent call last):\n",
      "Traceback (most recent call last):\n",
      "Traceback (most recent call last):\n",
      "Traceback (most recent call last):\n",
      "Traceback (most recent call last):\n",
      "Traceback (most recent call last):\n",
      "  File \"/home/bjarne/.pyenv/versions/miniconda3-4.3.30/envs/tf_gpu/lib/python3.6/multiprocessing/process.py\", line 258, in _bootstrap\n",
      "    self.run()\n",
      "Traceback (most recent call last):\n",
      "  File \"/home/bjarne/.pyenv/versions/miniconda3-4.3.30/envs/tf_gpu/lib/python3.6/multiprocessing/process.py\", line 258, in _bootstrap\n",
      "    self.run()\n",
      "  File \"/home/bjarne/.pyenv/versions/miniconda3-4.3.30/envs/tf_gpu/lib/python3.6/multiprocessing/process.py\", line 258, in _bootstrap\n",
      "    self.run()\n",
      "  File \"/home/bjarne/.pyenv/versions/miniconda3-4.3.30/envs/tf_gpu/lib/python3.6/multiprocessing/process.py\", line 258, in _bootstrap\n",
      "    self.run()\n",
      "Traceback (most recent call last):\n",
      "  File \"/home/bjarne/.pyenv/versions/miniconda3-4.3.30/envs/tf_gpu/lib/python3.6/multiprocessing/process.py\", line 258, in _bootstrap\n",
      "    self.run()\n",
      "  File \"/home/bjarne/.pyenv/versions/miniconda3-4.3.30/envs/tf_gpu/lib/python3.6/multiprocessing/process.py\", line 258, in _bootstrap\n",
      "    self.run()\n",
      "  File \"/home/bjarne/.pyenv/versions/miniconda3-4.3.30/envs/tf_gpu/lib/python3.6/multiprocessing/process.py\", line 258, in _bootstrap\n",
      "    self.run()\n",
      "Traceback (most recent call last):\n",
      "  File \"/home/bjarne/.pyenv/versions/miniconda3-4.3.30/envs/tf_gpu/lib/python3.6/multiprocessing/process.py\", line 258, in _bootstrap\n",
      "    self.run()\n",
      "  File \"/home/bjarne/.pyenv/versions/miniconda3-4.3.30/envs/tf_gpu/lib/python3.6/multiprocessing/process.py\", line 258, in _bootstrap\n",
      "    self.run()\n",
      "Traceback (most recent call last):\n",
      "  File \"/home/bjarne/.pyenv/versions/miniconda3-4.3.30/envs/tf_gpu/lib/python3.6/multiprocessing/process.py\", line 258, in _bootstrap\n",
      "    self.run()\n",
      "  File \"/home/bjarne/.pyenv/versions/miniconda3-4.3.30/envs/tf_gpu/lib/python3.6/multiprocessing/process.py\", line 258, in _bootstrap\n",
      "    self.run()\n",
      "Traceback (most recent call last):\n",
      "  File \"/home/bjarne/.pyenv/versions/miniconda3-4.3.30/envs/tf_gpu/lib/python3.6/multiprocessing/process.py\", line 258, in _bootstrap\n",
      "    self.run()\n",
      "Traceback (most recent call last):\n",
      "  File \"/home/bjarne/.pyenv/versions/miniconda3-4.3.30/envs/tf_gpu/lib/python3.6/multiprocessing/process.py\", line 258, in _bootstrap\n",
      "    self.run()\n",
      "  File \"/home/bjarne/.pyenv/versions/miniconda3-4.3.30/envs/tf_gpu/lib/python3.6/multiprocessing/process.py\", line 258, in _bootstrap\n",
      "    self.run()\n",
      "  File \"/home/bjarne/.pyenv/versions/miniconda3-4.3.30/envs/tf_gpu/lib/python3.6/multiprocessing/process.py\", line 258, in _bootstrap\n",
      "    self.run()\n",
      "Traceback (most recent call last):\n",
      "Traceback (most recent call last):\n",
      "  File \"/home/bjarne/.pyenv/versions/miniconda3-4.3.30/envs/tf_gpu/lib/python3.6/multiprocessing/process.py\", line 258, in _bootstrap\n",
      "    self.run()\n",
      "  File \"/home/bjarne/.pyenv/versions/miniconda3-4.3.30/envs/tf_gpu/lib/python3.6/multiprocessing/process.py\", line 258, in _bootstrap\n",
      "    self.run()\n",
      "  File \"/home/bjarne/.pyenv/versions/miniconda3-4.3.30/envs/tf_gpu/lib/python3.6/multiprocessing/process.py\", line 258, in _bootstrap\n",
      "    self.run()\n",
      "  File \"/home/bjarne/.pyenv/versions/miniconda3-4.3.30/envs/tf_gpu/lib/python3.6/multiprocessing/process.py\", line 258, in _bootstrap\n",
      "    self.run()\n",
      "  File \"/home/bjarne/.pyenv/versions/miniconda3-4.3.30/envs/tf_gpu/lib/python3.6/multiprocessing/process.py\", line 258, in _bootstrap\n",
      "    self.run()\n",
      "  File \"/home/bjarne/.pyenv/versions/miniconda3-4.3.30/envs/tf_gpu/lib/python3.6/multiprocessing/process.py\", line 258, in _bootstrap\n",
      "    self.run()\n",
      "  File \"/home/bjarne/.pyenv/versions/miniconda3-4.3.30/envs/tf_gpu/lib/python3.6/multiprocessing/process.py\", line 258, in _bootstrap\n",
      "    self.run()\n",
      "  File \"/home/bjarne/.pyenv/versions/miniconda3-4.3.30/envs/tf_gpu/lib/python3.6/multiprocessing/process.py\", line 258, in _bootstrap\n",
      "    self.run()\n",
      "  File \"/home/bjarne/.pyenv/versions/miniconda3-4.3.30/envs/tf_gpu/lib/python3.6/multiprocessing/process.py\", line 258, in _bootstrap\n",
      "    self.run()\n",
      "  File \"/home/bjarne/.pyenv/versions/miniconda3-4.3.30/envs/tf_gpu/lib/python3.6/multiprocessing/process.py\", line 258, in _bootstrap\n",
      "    self.run()\n",
      "  File \"/home/bjarne/.pyenv/versions/miniconda3-4.3.30/envs/tf_gpu/lib/python3.6/multiprocessing/process.py\", line 258, in _bootstrap\n",
      "    self.run()\n",
      "  File \"/home/bjarne/.pyenv/versions/miniconda3-4.3.30/envs/tf_gpu/lib/python3.6/multiprocessing/process.py\", line 258, in _bootstrap\n",
      "    self.run()\n",
      "  File \"/home/bjarne/.pyenv/versions/miniconda3-4.3.30/envs/tf_gpu/lib/python3.6/multiprocessing/process.py\", line 258, in _bootstrap\n",
      "    self.run()\n",
      "  File \"/home/bjarne/.pyenv/versions/miniconda3-4.3.30/envs/tf_gpu/lib/python3.6/multiprocessing/process.py\", line 258, in _bootstrap\n",
      "    self.run()\n",
      "  File \"/home/bjarne/.pyenv/versions/miniconda3-4.3.30/envs/tf_gpu/lib/python3.6/multiprocessing/process.py\", line 258, in _bootstrap\n",
      "    self.run()\n",
      "  File \"/home/bjarne/.pyenv/versions/miniconda3-4.3.30/envs/tf_gpu/lib/python3.6/multiprocessing/process.py\", line 258, in _bootstrap\n",
      "    self.run()\n",
      "  File \"/home/bjarne/.pyenv/versions/miniconda3-4.3.30/envs/tf_gpu/lib/python3.6/multiprocessing/process.py\", line 258, in _bootstrap\n",
      "    self.run()\n",
      "  File \"/home/bjarne/.pyenv/versions/miniconda3-4.3.30/envs/tf_gpu/lib/python3.6/multiprocessing/process.py\", line 258, in _bootstrap\n",
      "    self.run()\n",
      "  File \"/home/bjarne/.pyenv/versions/miniconda3-4.3.30/envs/tf_gpu/lib/python3.6/multiprocessing/process.py\", line 258, in _bootstrap\n",
      "    self.run()\n",
      "  File \"/home/bjarne/.pyenv/versions/miniconda3-4.3.30/envs/tf_gpu/lib/python3.6/multiprocessing/process.py\", line 258, in _bootstrap\n",
      "    self.run()\n",
      "  File \"/home/bjarne/.pyenv/versions/miniconda3-4.3.30/envs/tf_gpu/lib/python3.6/multiprocessing/process.py\", line 258, in _bootstrap\n",
      "    self.run()\n",
      "  File \"/home/bjarne/.pyenv/versions/miniconda3-4.3.30/envs/tf_gpu/lib/python3.6/multiprocessing/process.py\", line 258, in _bootstrap\n",
      "    self.run()\n",
      "  File \"/home/bjarne/.pyenv/versions/miniconda3-4.3.30/envs/tf_gpu/lib/python3.6/multiprocessing/process.py\", line 258, in _bootstrap\n",
      "    self.run()\n",
      "  File \"/home/bjarne/.pyenv/versions/miniconda3-4.3.30/envs/tf_gpu/lib/python3.6/multiprocessing/process.py\", line 258, in _bootstrap\n",
      "    self.run()\n",
      "  File \"/home/bjarne/.pyenv/versions/miniconda3-4.3.30/envs/tf_gpu/lib/python3.6/multiprocessing/process.py\", line 258, in _bootstrap\n",
      "    self.run()\n",
      "  File \"/home/bjarne/.pyenv/versions/miniconda3-4.3.30/envs/tf_gpu/lib/python3.6/multiprocessing/process.py\", line 258, in _bootstrap\n",
      "    self.run()\n",
      "  File \"/home/bjarne/.pyenv/versions/miniconda3-4.3.30/envs/tf_gpu/lib/python3.6/multiprocessing/process.py\", line 258, in _bootstrap\n",
      "    self.run()\n",
      "  File \"/home/bjarne/.pyenv/versions/miniconda3-4.3.30/envs/tf_gpu/lib/python3.6/multiprocessing/process.py\", line 258, in _bootstrap\n",
      "    self.run()\n",
      "  File \"/home/bjarne/.pyenv/versions/miniconda3-4.3.30/envs/tf_gpu/lib/python3.6/multiprocessing/process.py\", line 258, in _bootstrap\n",
      "    self.run()\n",
      "  File \"/home/bjarne/.pyenv/versions/miniconda3-4.3.30/envs/tf_gpu/lib/python3.6/multiprocessing/process.py\", line 258, in _bootstrap\n",
      "    self.run()\n",
      "  File \"/home/bjarne/.pyenv/versions/miniconda3-4.3.30/envs/tf_gpu/lib/python3.6/multiprocessing/process.py\", line 258, in _bootstrap\n",
      "    self.run()\n",
      "  File \"/home/bjarne/.pyenv/versions/miniconda3-4.3.30/envs/tf_gpu/lib/python3.6/multiprocessing/process.py\", line 258, in _bootstrap\n",
      "    self.run()\n",
      "  File \"/home/bjarne/.pyenv/versions/miniconda3-4.3.30/envs/tf_gpu/lib/python3.6/multiprocessing/process.py\", line 258, in _bootstrap\n",
      "    self.run()\n",
      "  File \"/home/bjarne/.pyenv/versions/miniconda3-4.3.30/envs/tf_gpu/lib/python3.6/multiprocessing/process.py\", line 258, in _bootstrap\n",
      "    self.run()\n",
      "  File \"/home/bjarne/.pyenv/versions/miniconda3-4.3.30/envs/tf_gpu/lib/python3.6/multiprocessing/process.py\", line 258, in _bootstrap\n",
      "    self.run()\n",
      "  File \"/home/bjarne/.pyenv/versions/miniconda3-4.3.30/envs/tf_gpu/lib/python3.6/multiprocessing/process.py\", line 258, in _bootstrap\n",
      "    self.run()\n",
      "  File \"/home/bjarne/.pyenv/versions/miniconda3-4.3.30/envs/tf_gpu/lib/python3.6/multiprocessing/process.py\", line 93, in run\n",
      "    self._target(*self._args, **self._kwargs)\n",
      "  File \"/home/bjarne/.pyenv/versions/miniconda3-4.3.30/envs/tf_gpu/lib/python3.6/multiprocessing/process.py\", line 93, in run\n",
      "    self._target(*self._args, **self._kwargs)\n",
      "  File \"/home/bjarne/.pyenv/versions/miniconda3-4.3.30/envs/tf_gpu/lib/python3.6/multiprocessing/process.py\", line 258, in _bootstrap\n",
      "    self.run()\n",
      "  File \"/home/bjarne/.pyenv/versions/miniconda3-4.3.30/envs/tf_gpu/lib/python3.6/multiprocessing/process.py\", line 93, in run\n",
      "    self._target(*self._args, **self._kwargs)\n",
      "  File \"/home/bjarne/.pyenv/versions/miniconda3-4.3.30/envs/tf_gpu/lib/python3.6/multiprocessing/process.py\", line 93, in run\n",
      "    self._target(*self._args, **self._kwargs)\n",
      "  File \"/home/bjarne/.pyenv/versions/miniconda3-4.3.30/envs/tf_gpu/lib/python3.6/multiprocessing/process.py\", line 258, in _bootstrap\n",
      "    self.run()\n",
      "  File \"/home/bjarne/.pyenv/versions/miniconda3-4.3.30/envs/tf_gpu/lib/python3.6/multiprocessing/process.py\", line 93, in run\n",
      "    self._target(*self._args, **self._kwargs)\n",
      "  File \"/home/bjarne/.pyenv/versions/miniconda3-4.3.30/envs/tf_gpu/lib/python3.6/multiprocessing/process.py\", line 93, in run\n",
      "    self._target(*self._args, **self._kwargs)\n",
      "  File \"/home/bjarne/.pyenv/versions/miniconda3-4.3.30/envs/tf_gpu/lib/python3.6/multiprocessing/process.py\", line 93, in run\n",
      "    self._target(*self._args, **self._kwargs)\n",
      "  File \"/home/bjarne/.pyenv/versions/miniconda3-4.3.30/envs/tf_gpu/lib/python3.6/multiprocessing/process.py\", line 93, in run\n",
      "    self._target(*self._args, **self._kwargs)\n",
      "  File \"/home/bjarne/.pyenv/versions/miniconda3-4.3.30/envs/tf_gpu/lib/python3.6/multiprocessing/process.py\", line 258, in _bootstrap\n",
      "    self.run()\n",
      "  File \"/home/bjarne/.pyenv/versions/miniconda3-4.3.30/envs/tf_gpu/lib/python3.6/multiprocessing/process.py\", line 93, in run\n",
      "    self._target(*self._args, **self._kwargs)\n",
      "  File \"/home/bjarne/.pyenv/versions/miniconda3-4.3.30/envs/tf_gpu/lib/python3.6/multiprocessing/process.py\", line 93, in run\n",
      "    self._target(*self._args, **self._kwargs)\n",
      "  File \"/home/bjarne/.pyenv/versions/miniconda3-4.3.30/envs/tf_gpu/lib/python3.6/multiprocessing/process.py\", line 258, in _bootstrap\n",
      "    self.run()\n",
      "  File \"/home/bjarne/.pyenv/versions/miniconda3-4.3.30/envs/tf_gpu/lib/python3.6/multiprocessing/process.py\", line 93, in run\n",
      "    self._target(*self._args, **self._kwargs)\n",
      "  File \"/home/bjarne/.pyenv/versions/miniconda3-4.3.30/envs/tf_gpu/lib/python3.6/multiprocessing/process.py\", line 258, in _bootstrap\n",
      "    self.run()\n",
      "  File \"/home/bjarne/.pyenv/versions/miniconda3-4.3.30/envs/tf_gpu/lib/python3.6/multiprocessing/process.py\", line 93, in run\n",
      "    self._target(*self._args, **self._kwargs)\n",
      "  File \"/home/bjarne/.pyenv/versions/miniconda3-4.3.30/envs/tf_gpu/lib/python3.6/multiprocessing/process.py\", line 258, in _bootstrap\n",
      "    self.run()\n",
      "  File \"/home/bjarne/.pyenv/versions/miniconda3-4.3.30/envs/tf_gpu/lib/python3.6/multiprocessing/process.py\", line 93, in run\n",
      "    self._target(*self._args, **self._kwargs)\n",
      "  File \"/home/bjarne/.pyenv/versions/miniconda3-4.3.30/envs/tf_gpu/lib/python3.6/multiprocessing/process.py\", line 93, in run\n",
      "    self._target(*self._args, **self._kwargs)\n",
      "  File \"/home/bjarne/.pyenv/versions/miniconda3-4.3.30/envs/tf_gpu/lib/python3.6/multiprocessing/process.py\", line 93, in run\n",
      "    self._target(*self._args, **self._kwargs)\n",
      "  File \"/home/bjarne/.pyenv/versions/miniconda3-4.3.30/envs/tf_gpu/lib/python3.6/multiprocessing/process.py\", line 258, in _bootstrap\n",
      "    self.run()\n",
      "  File \"/home/bjarne/.pyenv/versions/miniconda3-4.3.30/envs/tf_gpu/lib/python3.6/multiprocessing/process.py\", line 258, in _bootstrap\n",
      "    self.run()\n",
      "  File \"/home/bjarne/.pyenv/versions/miniconda3-4.3.30/envs/tf_gpu/lib/python3.6/multiprocessing/process.py\", line 93, in run\n",
      "    self._target(*self._args, **self._kwargs)\n",
      "  File \"/home/bjarne/.pyenv/versions/miniconda3-4.3.30/envs/tf_gpu/lib/python3.6/multiprocessing/process.py\", line 93, in run\n",
      "    self._target(*self._args, **self._kwargs)\n",
      "  File \"/home/bjarne/.pyenv/versions/miniconda3-4.3.30/envs/tf_gpu/lib/python3.6/multiprocessing/process.py\", line 93, in run\n",
      "    self._target(*self._args, **self._kwargs)\n",
      "  File \"/home/bjarne/.pyenv/versions/miniconda3-4.3.30/envs/tf_gpu/lib/python3.6/multiprocessing/process.py\", line 93, in run\n",
      "    self._target(*self._args, **self._kwargs)\n",
      "  File \"/home/bjarne/.pyenv/versions/miniconda3-4.3.30/envs/tf_gpu/lib/python3.6/multiprocessing/process.py\", line 93, in run\n",
      "    self._target(*self._args, **self._kwargs)\n",
      "  File \"/home/bjarne/.pyenv/versions/miniconda3-4.3.30/envs/tf_gpu/lib/python3.6/multiprocessing/process.py\", line 93, in run\n",
      "    self._target(*self._args, **self._kwargs)\n",
      "  File \"/home/bjarne/.pyenv/versions/miniconda3-4.3.30/envs/tf_gpu/lib/python3.6/multiprocessing/process.py\", line 93, in run\n",
      "    self._target(*self._args, **self._kwargs)\n",
      "Traceback (most recent call last):\n",
      "  File \"/home/bjarne/.pyenv/versions/miniconda3-4.3.30/envs/tf_gpu/lib/python3.6/multiprocessing/process.py\", line 93, in run\n",
      "    self._target(*self._args, **self._kwargs)\n",
      "  File \"/home/bjarne/.pyenv/versions/miniconda3-4.3.30/envs/tf_gpu/lib/python3.6/multiprocessing/process.py\", line 93, in run\n",
      "    self._target(*self._args, **self._kwargs)\n",
      "  File \"/home/bjarne/.pyenv/versions/miniconda3-4.3.30/envs/tf_gpu/lib/python3.6/multiprocessing/process.py\", line 93, in run\n",
      "    self._target(*self._args, **self._kwargs)\n",
      "  File \"/home/bjarne/.pyenv/versions/miniconda3-4.3.30/envs/tf_gpu/lib/python3.6/multiprocessing/process.py\", line 93, in run\n",
      "    self._target(*self._args, **self._kwargs)\n",
      "  File \"/home/bjarne/.pyenv/versions/miniconda3-4.3.30/envs/tf_gpu/lib/python3.6/multiprocessing/process.py\", line 93, in run\n",
      "    self._target(*self._args, **self._kwargs)\n",
      "  File \"/home/bjarne/.pyenv/versions/miniconda3-4.3.30/envs/tf_gpu/lib/python3.6/multiprocessing/process.py\", line 93, in run\n",
      "    self._target(*self._args, **self._kwargs)\n",
      "  File \"/home/bjarne/.pyenv/versions/miniconda3-4.3.30/envs/tf_gpu/lib/python3.6/multiprocessing/process.py\", line 93, in run\n",
      "    self._target(*self._args, **self._kwargs)\n",
      "  File \"/home/bjarne/.pyenv/versions/miniconda3-4.3.30/envs/tf_gpu/lib/python3.6/multiprocessing/process.py\", line 93, in run\n",
      "    self._target(*self._args, **self._kwargs)\n",
      "  File \"/home/bjarne/.pyenv/versions/miniconda3-4.3.30/envs/tf_gpu/lib/python3.6/multiprocessing/process.py\", line 93, in run\n",
      "    self._target(*self._args, **self._kwargs)\n",
      "  File \"/home/bjarne/.pyenv/versions/miniconda3-4.3.30/envs/tf_gpu/lib/python3.6/multiprocessing/process.py\", line 93, in run\n",
      "    self._target(*self._args, **self._kwargs)\n",
      "  File \"/home/bjarne/.pyenv/versions/miniconda3-4.3.30/envs/tf_gpu/lib/python3.6/multiprocessing/process.py\", line 93, in run\n",
      "    self._target(*self._args, **self._kwargs)\n",
      "  File \"/home/bjarne/.pyenv/versions/miniconda3-4.3.30/envs/tf_gpu/lib/python3.6/multiprocessing/process.py\", line 93, in run\n",
      "    self._target(*self._args, **self._kwargs)\n",
      "  File \"/home/bjarne/.pyenv/versions/miniconda3-4.3.30/envs/tf_gpu/lib/python3.6/multiprocessing/process.py\", line 93, in run\n",
      "    self._target(*self._args, **self._kwargs)\n",
      "  File \"/home/bjarne/.pyenv/versions/miniconda3-4.3.30/envs/tf_gpu/lib/python3.6/multiprocessing/process.py\", line 93, in run\n",
      "    self._target(*self._args, **self._kwargs)\n",
      "  File \"/home/bjarne/.pyenv/versions/miniconda3-4.3.30/envs/tf_gpu/lib/python3.6/multiprocessing/process.py\", line 93, in run\n",
      "    self._target(*self._args, **self._kwargs)\n",
      "  File \"/home/bjarne/.pyenv/versions/miniconda3-4.3.30/envs/tf_gpu/lib/python3.6/multiprocessing/process.py\", line 93, in run\n",
      "    self._target(*self._args, **self._kwargs)\n",
      "  File \"/home/bjarne/.pyenv/versions/miniconda3-4.3.30/envs/tf_gpu/lib/python3.6/multiprocessing/process.py\", line 93, in run\n",
      "    self._target(*self._args, **self._kwargs)\n",
      "  File \"/home/bjarne/.pyenv/versions/miniconda3-4.3.30/envs/tf_gpu/lib/python3.6/multiprocessing/process.py\", line 93, in run\n",
      "    self._target(*self._args, **self._kwargs)\n",
      "  File \"/home/bjarne/.pyenv/versions/miniconda3-4.3.30/envs/tf_gpu/lib/python3.6/multiprocessing/process.py\", line 93, in run\n",
      "    self._target(*self._args, **self._kwargs)\n",
      "  File \"/home/bjarne/.pyenv/versions/miniconda3-4.3.30/envs/tf_gpu/lib/python3.6/multiprocessing/process.py\", line 93, in run\n",
      "    self._target(*self._args, **self._kwargs)\n",
      "  File \"/home/bjarne/.pyenv/versions/miniconda3-4.3.30/envs/tf_gpu/lib/python3.6/multiprocessing/process.py\", line 93, in run\n",
      "    self._target(*self._args, **self._kwargs)\n",
      "  File \"/home/bjarne/.pyenv/versions/miniconda3-4.3.30/envs/tf_gpu/lib/python3.6/multiprocessing/process.py\", line 93, in run\n",
      "    self._target(*self._args, **self._kwargs)\n",
      "  File \"/home/bjarne/.pyenv/versions/miniconda3-4.3.30/envs/tf_gpu/lib/python3.6/multiprocessing/process.py\", line 93, in run\n",
      "    self._target(*self._args, **self._kwargs)\n",
      "  File \"/home/bjarne/.pyenv/versions/miniconda3-4.3.30/envs/tf_gpu/lib/python3.6/multiprocessing/process.py\", line 93, in run\n",
      "    self._target(*self._args, **self._kwargs)\n",
      "  File \"/home/bjarne/.pyenv/versions/miniconda3-4.3.30/envs/tf_gpu/lib/python3.6/multiprocessing/process.py\", line 93, in run\n",
      "    self._target(*self._args, **self._kwargs)\n",
      "  File \"/home/bjarne/.pyenv/versions/miniconda3-4.3.30/envs/tf_gpu/lib/python3.6/multiprocessing/process.py\", line 93, in run\n",
      "    self._target(*self._args, **self._kwargs)\n",
      "  File \"/home/bjarne/.pyenv/versions/miniconda3-4.3.30/envs/tf_gpu/lib/python3.6/multiprocessing/process.py\", line 93, in run\n",
      "    self._target(*self._args, **self._kwargs)\n",
      "  File \"/home/bjarne/.pyenv/versions/miniconda3-4.3.30/envs/tf_gpu/lib/python3.6/multiprocessing/process.py\", line 93, in run\n",
      "    self._target(*self._args, **self._kwargs)\n",
      "  File \"/home/bjarne/.pyenv/versions/miniconda3-4.3.30/envs/tf_gpu/lib/python3.6/multiprocessing/pool.py\", line 108, in worker\n",
      "    task = get()\n",
      "  File \"/home/bjarne/.pyenv/versions/miniconda3-4.3.30/envs/tf_gpu/lib/python3.6/multiprocessing/process.py\", line 93, in run\n",
      "    self._target(*self._args, **self._kwargs)\n",
      "  File \"/home/bjarne/.pyenv/versions/miniconda3-4.3.30/envs/tf_gpu/lib/python3.6/multiprocessing/pool.py\", line 108, in worker\n",
      "    task = get()\n",
      "  File \"/home/bjarne/.pyenv/versions/miniconda3-4.3.30/envs/tf_gpu/lib/python3.6/multiprocessing/pool.py\", line 108, in worker\n",
      "    task = get()\n",
      "  File \"/home/bjarne/.pyenv/versions/miniconda3-4.3.30/envs/tf_gpu/lib/python3.6/multiprocessing/pool.py\", line 108, in worker\n",
      "    task = get()\n",
      "  File \"/home/bjarne/.pyenv/versions/miniconda3-4.3.30/envs/tf_gpu/lib/python3.6/multiprocessing/pool.py\", line 108, in worker\n",
      "    task = get()\n",
      "  File \"/home/bjarne/.pyenv/versions/miniconda3-4.3.30/envs/tf_gpu/lib/python3.6/multiprocessing/process.py\", line 93, in run\n",
      "    self._target(*self._args, **self._kwargs)\n",
      "  File \"/home/bjarne/.pyenv/versions/miniconda3-4.3.30/envs/tf_gpu/lib/python3.6/multiprocessing/pool.py\", line 108, in worker\n",
      "    task = get()\n",
      "  File \"/home/bjarne/.pyenv/versions/miniconda3-4.3.30/envs/tf_gpu/lib/python3.6/multiprocessing/pool.py\", line 108, in worker\n",
      "    task = get()\n",
      "  File \"/home/bjarne/.pyenv/versions/miniconda3-4.3.30/envs/tf_gpu/lib/python3.6/multiprocessing/pool.py\", line 108, in worker\n",
      "    task = get()\n",
      "  File \"/home/bjarne/.pyenv/versions/miniconda3-4.3.30/envs/tf_gpu/lib/python3.6/multiprocessing/process.py\", line 93, in run\n",
      "    self._target(*self._args, **self._kwargs)\n",
      "  File \"/home/bjarne/.pyenv/versions/miniconda3-4.3.30/envs/tf_gpu/lib/python3.6/multiprocessing/pool.py\", line 108, in worker\n",
      "    task = get()\n",
      "  File \"/home/bjarne/.pyenv/versions/miniconda3-4.3.30/envs/tf_gpu/lib/python3.6/multiprocessing/process.py\", line 93, in run\n",
      "    self._target(*self._args, **self._kwargs)\n",
      "  File \"/home/bjarne/.pyenv/versions/miniconda3-4.3.30/envs/tf_gpu/lib/python3.6/multiprocessing/pool.py\", line 108, in worker\n",
      "    task = get()\n",
      "  File \"/home/bjarne/.pyenv/versions/miniconda3-4.3.30/envs/tf_gpu/lib/python3.6/multiprocessing/pool.py\", line 108, in worker\n",
      "    task = get()\n",
      "  File \"/home/bjarne/.pyenv/versions/miniconda3-4.3.30/envs/tf_gpu/lib/python3.6/multiprocessing/process.py\", line 93, in run\n",
      "    self._target(*self._args, **self._kwargs)\n",
      "  File \"/home/bjarne/.pyenv/versions/miniconda3-4.3.30/envs/tf_gpu/lib/python3.6/multiprocessing/pool.py\", line 108, in worker\n",
      "    task = get()\n",
      "  File \"/home/bjarne/.pyenv/versions/miniconda3-4.3.30/envs/tf_gpu/lib/python3.6/multiprocessing/process.py\", line 93, in run\n",
      "    self._target(*self._args, **self._kwargs)\n",
      "  File \"/home/bjarne/.pyenv/versions/miniconda3-4.3.30/envs/tf_gpu/lib/python3.6/multiprocessing/pool.py\", line 108, in worker\n",
      "    task = get()\n",
      "  File \"/home/bjarne/.pyenv/versions/miniconda3-4.3.30/envs/tf_gpu/lib/python3.6/multiprocessing/pool.py\", line 108, in worker\n",
      "    task = get()\n",
      "  File \"/home/bjarne/.pyenv/versions/miniconda3-4.3.30/envs/tf_gpu/lib/python3.6/multiprocessing/process.py\", line 93, in run\n",
      "    self._target(*self._args, **self._kwargs)\n",
      "  File \"/home/bjarne/.pyenv/versions/miniconda3-4.3.30/envs/tf_gpu/lib/python3.6/multiprocessing/pool.py\", line 108, in worker\n",
      "    task = get()\n",
      "  File \"/home/bjarne/.pyenv/versions/miniconda3-4.3.30/envs/tf_gpu/lib/python3.6/multiprocessing/process.py\", line 93, in run\n",
      "    self._target(*self._args, **self._kwargs)\n",
      "  File \"/home/bjarne/.pyenv/versions/miniconda3-4.3.30/envs/tf_gpu/lib/python3.6/multiprocessing/pool.py\", line 108, in worker\n",
      "    task = get()\n",
      "  File \"/home/bjarne/.pyenv/versions/miniconda3-4.3.30/envs/tf_gpu/lib/python3.6/multiprocessing/pool.py\", line 108, in worker\n",
      "    task = get()\n",
      "  File \"/home/bjarne/.pyenv/versions/miniconda3-4.3.30/envs/tf_gpu/lib/python3.6/multiprocessing/pool.py\", line 108, in worker\n",
      "    task = get()\n",
      "  File \"/home/bjarne/.pyenv/versions/miniconda3-4.3.30/envs/tf_gpu/lib/python3.6/multiprocessing/pool.py\", line 108, in worker\n",
      "    task = get()\n",
      "  File \"/home/bjarne/.pyenv/versions/miniconda3-4.3.30/envs/tf_gpu/lib/python3.6/multiprocessing/process.py\", line 258, in _bootstrap\n",
      "    self.run()\n",
      "  File \"/home/bjarne/.pyenv/versions/miniconda3-4.3.30/envs/tf_gpu/lib/python3.6/multiprocessing/pool.py\", line 108, in worker\n",
      "    task = get()\n",
      "  File \"/home/bjarne/.pyenv/versions/miniconda3-4.3.30/envs/tf_gpu/lib/python3.6/multiprocessing/pool.py\", line 108, in worker\n",
      "    task = get()\n",
      "  File \"/home/bjarne/.pyenv/versions/miniconda3-4.3.30/envs/tf_gpu/lib/python3.6/multiprocessing/pool.py\", line 108, in worker\n",
      "    task = get()\n",
      "  File \"/home/bjarne/.pyenv/versions/miniconda3-4.3.30/envs/tf_gpu/lib/python3.6/multiprocessing/pool.py\", line 108, in worker\n",
      "    task = get()\n",
      "  File \"/home/bjarne/.pyenv/versions/miniconda3-4.3.30/envs/tf_gpu/lib/python3.6/multiprocessing/pool.py\", line 108, in worker\n",
      "    task = get()\n",
      "  File \"/home/bjarne/.pyenv/versions/miniconda3-4.3.30/envs/tf_gpu/lib/python3.6/multiprocessing/pool.py\", line 108, in worker\n",
      "    task = get()\n",
      "  File \"/home/bjarne/.pyenv/versions/miniconda3-4.3.30/envs/tf_gpu/lib/python3.6/multiprocessing/process.py\", line 93, in run\n",
      "    self._target(*self._args, **self._kwargs)\n",
      "  File \"/home/bjarne/.pyenv/versions/miniconda3-4.3.30/envs/tf_gpu/lib/python3.6/multiprocessing/pool.py\", line 108, in worker\n",
      "    task = get()\n",
      "  File \"/home/bjarne/.pyenv/versions/miniconda3-4.3.30/envs/tf_gpu/lib/python3.6/multiprocessing/pool.py\", line 108, in worker\n",
      "    task = get()\n",
      "  File \"/home/bjarne/.pyenv/versions/miniconda3-4.3.30/envs/tf_gpu/lib/python3.6/multiprocessing/pool.py\", line 108, in worker\n",
      "    task = get()\n",
      "  File \"/home/bjarne/.pyenv/versions/miniconda3-4.3.30/envs/tf_gpu/lib/python3.6/multiprocessing/pool.py\", line 108, in worker\n",
      "    task = get()\n",
      "  File \"/home/bjarne/.pyenv/versions/miniconda3-4.3.30/envs/tf_gpu/lib/python3.6/multiprocessing/pool.py\", line 108, in worker\n",
      "    task = get()\n",
      "  File \"/home/bjarne/.pyenv/versions/miniconda3-4.3.30/envs/tf_gpu/lib/python3.6/multiprocessing/pool.py\", line 108, in worker\n",
      "    task = get()\n",
      "  File \"/home/bjarne/.pyenv/versions/miniconda3-4.3.30/envs/tf_gpu/lib/python3.6/multiprocessing/pool.py\", line 108, in worker\n",
      "    task = get()\n",
      "  File \"/home/bjarne/.pyenv/versions/miniconda3-4.3.30/envs/tf_gpu/lib/python3.6/multiprocessing/pool.py\", line 108, in worker\n",
      "    task = get()\n",
      "  File \"/home/bjarne/.pyenv/versions/miniconda3-4.3.30/envs/tf_gpu/lib/python3.6/multiprocessing/pool.py\", line 108, in worker\n",
      "    task = get()\n",
      "  File \"/home/bjarne/.pyenv/versions/miniconda3-4.3.30/envs/tf_gpu/lib/python3.6/multiprocessing/pool.py\", line 108, in worker\n",
      "    task = get()\n",
      "  File \"/home/bjarne/.pyenv/versions/miniconda3-4.3.30/envs/tf_gpu/lib/python3.6/multiprocessing/pool.py\", line 108, in worker\n",
      "    task = get()\n",
      "  File \"/home/bjarne/.pyenv/versions/miniconda3-4.3.30/envs/tf_gpu/lib/python3.6/multiprocessing/pool.py\", line 108, in worker\n",
      "    task = get()\n",
      "  File \"/home/bjarne/.pyenv/versions/miniconda3-4.3.30/envs/tf_gpu/lib/python3.6/multiprocessing/pool.py\", line 119, in worker\n",
      "    result = (True, func(*args, **kwds))\n",
      "  File \"/home/bjarne/.pyenv/versions/miniconda3-4.3.30/envs/tf_gpu/lib/python3.6/multiprocessing/pool.py\", line 108, in worker\n",
      "    task = get()\n",
      "  File \"/home/bjarne/.pyenv/versions/miniconda3-4.3.30/envs/tf_gpu/lib/python3.6/multiprocessing/pool.py\", line 108, in worker\n",
      "    task = get()\n",
      "  File \"/home/bjarne/.pyenv/versions/miniconda3-4.3.30/envs/tf_gpu/lib/python3.6/multiprocessing/pool.py\", line 119, in worker\n",
      "    result = (True, func(*args, **kwds))\n",
      "  File \"/home/bjarne/.pyenv/versions/miniconda3-4.3.30/envs/tf_gpu/lib/python3.6/multiprocessing/pool.py\", line 108, in worker\n",
      "    task = get()\n",
      "  File \"/home/bjarne/.pyenv/versions/miniconda3-4.3.30/envs/tf_gpu/lib/python3.6/multiprocessing/pool.py\", line 108, in worker\n",
      "    task = get()\n",
      "  File \"/home/bjarne/.pyenv/versions/miniconda3-4.3.30/envs/tf_gpu/lib/python3.6/multiprocessing/pool.py\", line 108, in worker\n",
      "    task = get()\n",
      "  File \"/home/bjarne/.pyenv/versions/miniconda3-4.3.30/envs/tf_gpu/lib/python3.6/multiprocessing/pool.py\", line 108, in worker\n",
      "    task = get()\n",
      "  File \"/home/bjarne/.pyenv/versions/miniconda3-4.3.30/envs/tf_gpu/lib/python3.6/multiprocessing/pool.py\", line 108, in worker\n",
      "    task = get()\n",
      "  File \"/home/bjarne/.pyenv/versions/miniconda3-4.3.30/envs/tf_gpu/lib/python3.6/multiprocessing/pool.py\", line 108, in worker\n",
      "    task = get()\n",
      "  File \"/home/bjarne/.pyenv/versions/miniconda3-4.3.30/envs/tf_gpu/lib/python3.6/multiprocessing/pool.py\", line 108, in worker\n",
      "    task = get()\n",
      "  File \"/home/bjarne/.pyenv/versions/miniconda3-4.3.30/envs/tf_gpu/lib/python3.6/multiprocessing/pool.py\", line 108, in worker\n",
      "    task = get()\n",
      "  File \"/home/bjarne/.pyenv/versions/miniconda3-4.3.30/envs/tf_gpu/lib/python3.6/multiprocessing/queues.py\", line 334, in get\n",
      "    with self._rlock:\n",
      "  File \"/home/bjarne/.pyenv/versions/miniconda3-4.3.30/envs/tf_gpu/lib/python3.6/multiprocessing/pool.py\", line 108, in worker\n",
      "    task = get()\n",
      "  File \"/home/bjarne/.pyenv/versions/miniconda3-4.3.30/envs/tf_gpu/lib/python3.6/multiprocessing/pool.py\", line 108, in worker\n",
      "    task = get()\n",
      "  File \"/home/bjarne/.pyenv/versions/miniconda3-4.3.30/envs/tf_gpu/lib/python3.6/multiprocessing/queues.py\", line 334, in get\n",
      "    with self._rlock:\n",
      "  File \"/home/bjarne/.pyenv/versions/miniconda3-4.3.30/envs/tf_gpu/lib/python3.6/multiprocessing/queues.py\", line 334, in get\n",
      "    with self._rlock:\n",
      "  File \"/home/bjarne/.pyenv/versions/miniconda3-4.3.30/envs/tf_gpu/lib/python3.6/multiprocessing/queues.py\", line 334, in get\n",
      "    with self._rlock:\n",
      "  File \"/home/bjarne/.pyenv/versions/miniconda3-4.3.30/envs/tf_gpu/lib/python3.6/multiprocessing/queues.py\", line 334, in get\n",
      "    with self._rlock:\n",
      "  File \"/home/bjarne/.pyenv/versions/miniconda3-4.3.30/envs/tf_gpu/lib/python3.6/multiprocessing/pool.py\", line 108, in worker\n",
      "    task = get()\n",
      "  File \"/home/bjarne/.pyenv/versions/miniconda3-4.3.30/envs/tf_gpu/lib/python3.6/multiprocessing/queues.py\", line 334, in get\n",
      "    with self._rlock:\n",
      "  File \"/home/bjarne/.pyenv/versions/miniconda3-4.3.30/envs/tf_gpu/lib/python3.6/multiprocessing/queues.py\", line 334, in get\n",
      "    with self._rlock:\n",
      "  File \"/home/bjarne/.pyenv/versions/miniconda3-4.3.30/envs/tf_gpu/lib/python3.6/multiprocessing/pool.py\", line 108, in worker\n",
      "    task = get()\n",
      "  File \"/home/bjarne/.pyenv/versions/miniconda3-4.3.30/envs/tf_gpu/lib/python3.6/multiprocessing/queues.py\", line 334, in get\n",
      "    with self._rlock:\n",
      "  File \"/home/bjarne/.pyenv/versions/miniconda3-4.3.30/envs/tf_gpu/lib/python3.6/multiprocessing/queues.py\", line 334, in get\n",
      "    with self._rlock:\n",
      "  File \"/home/bjarne/.pyenv/versions/miniconda3-4.3.30/envs/tf_gpu/lib/python3.6/multiprocessing/queues.py\", line 334, in get\n",
      "    with self._rlock:\n",
      "  File \"/home/bjarne/.pyenv/versions/miniconda3-4.3.30/envs/tf_gpu/lib/python3.6/multiprocessing/pool.py\", line 108, in worker\n",
      "    task = get()\n",
      "  File \"/home/bjarne/.pyenv/versions/miniconda3-4.3.30/envs/tf_gpu/lib/python3.6/multiprocessing/queues.py\", line 334, in get\n",
      "    with self._rlock:\n",
      "  File \"/home/bjarne/.pyenv/versions/miniconda3-4.3.30/envs/tf_gpu/lib/python3.6/multiprocessing/pool.py\", line 108, in worker\n",
      "    task = get()\n",
      "  File \"/home/bjarne/.pyenv/versions/miniconda3-4.3.30/envs/tf_gpu/lib/python3.6/multiprocessing/queues.py\", line 334, in get\n",
      "    with self._rlock:\n",
      "  File \"/home/bjarne/.pyenv/versions/miniconda3-4.3.30/envs/tf_gpu/lib/python3.6/multiprocessing/pool.py\", line 108, in worker\n",
      "    task = get()\n",
      "  File \"/home/bjarne/.pyenv/versions/miniconda3-4.3.30/envs/tf_gpu/lib/python3.6/multiprocessing/queues.py\", line 334, in get\n",
      "    with self._rlock:\n",
      "  File \"/home/bjarne/.pyenv/versions/miniconda3-4.3.30/envs/tf_gpu/lib/python3.6/multiprocessing/queues.py\", line 334, in get\n",
      "    with self._rlock:\n",
      "  File \"/home/bjarne/.pyenv/versions/miniconda3-4.3.30/envs/tf_gpu/lib/python3.6/multiprocessing/pool.py\", line 108, in worker\n",
      "    task = get()\n",
      "  File \"/home/bjarne/.pyenv/versions/miniconda3-4.3.30/envs/tf_gpu/lib/python3.6/multiprocessing/queues.py\", line 334, in get\n",
      "    with self._rlock:\n",
      "  File \"/home/bjarne/.pyenv/versions/miniconda3-4.3.30/envs/tf_gpu/lib/python3.6/multiprocessing/pool.py\", line 108, in worker\n",
      "    task = get()\n",
      "  File \"/home/bjarne/.pyenv/versions/miniconda3-4.3.30/envs/tf_gpu/lib/python3.6/multiprocessing/queues.py\", line 334, in get\n",
      "    with self._rlock:\n",
      "  File \"/home/bjarne/.pyenv/versions/miniconda3-4.3.30/envs/tf_gpu/lib/python3.6/multiprocessing/queues.py\", line 334, in get\n",
      "    with self._rlock:\n",
      "  File \"/home/bjarne/.pyenv/versions/miniconda3-4.3.30/envs/tf_gpu/lib/python3.6/multiprocessing/queues.py\", line 334, in get\n",
      "    with self._rlock:\n",
      "  File \"/home/bjarne/.pyenv/versions/miniconda3-4.3.30/envs/tf_gpu/lib/python3.6/multiprocessing/queues.py\", line 334, in get\n",
      "    with self._rlock:\n",
      "  File \"/home/bjarne/.pyenv/versions/miniconda3-4.3.30/envs/tf_gpu/lib/python3.6/multiprocessing/process.py\", line 93, in run\n",
      "    self._target(*self._args, **self._kwargs)\n",
      "  File \"/home/bjarne/.pyenv/versions/miniconda3-4.3.30/envs/tf_gpu/lib/python3.6/multiprocessing/queues.py\", line 334, in get\n",
      "    with self._rlock:\n",
      "  File \"/home/bjarne/.pyenv/versions/miniconda3-4.3.30/envs/tf_gpu/lib/python3.6/multiprocessing/queues.py\", line 334, in get\n",
      "    with self._rlock:\n",
      "  File \"/home/bjarne/.pyenv/versions/miniconda3-4.3.30/envs/tf_gpu/lib/python3.6/multiprocessing/queues.py\", line 334, in get\n",
      "    with self._rlock:\n",
      "  File \"/home/bjarne/.pyenv/versions/miniconda3-4.3.30/envs/tf_gpu/lib/python3.6/multiprocessing/queues.py\", line 334, in get\n",
      "    with self._rlock:\n",
      "  File \"/home/bjarne/.pyenv/versions/miniconda3-4.3.30/envs/tf_gpu/lib/python3.6/multiprocessing/queues.py\", line 335, in get\n",
      "    res = self._reader.recv_bytes()\n",
      "  File \"/home/bjarne/.pyenv/versions/miniconda3-4.3.30/envs/tf_gpu/lib/python3.6/multiprocessing/queues.py\", line 335, in get\n",
      "    res = self._reader.recv_bytes()\n",
      "  File \"/home/bjarne/.pyenv/versions/miniconda3-4.3.30/envs/tf_gpu/lib/python3.6/multiprocessing/queues.py\", line 334, in get\n",
      "    with self._rlock:\n",
      "  File \"/home/bjarne/.pyenv/versions/miniconda3-4.3.30/envs/tf_gpu/lib/python3.6/multiprocessing/pool.py\", line 108, in worker\n",
      "    task = get()\n",
      "  File \"/home/bjarne/.pyenv/versions/miniconda3-4.3.30/envs/tf_gpu/lib/python3.6/multiprocessing/queues.py\", line 334, in get\n",
      "    with self._rlock:\n",
      "  File \"/home/bjarne/.pyenv/versions/miniconda3-4.3.30/envs/tf_gpu/lib/python3.6/multiprocessing/queues.py\", line 334, in get\n",
      "    with self._rlock:\n",
      "  File \"/home/bjarne/.pyenv/versions/miniconda3-4.3.30/envs/tf_gpu/lib/python3.6/multiprocessing/queues.py\", line 334, in get\n",
      "    with self._rlock:\n",
      "  File \"/home/bjarne/.pyenv/versions/miniconda3-4.3.30/envs/tf_gpu/lib/python3.6/multiprocessing/queues.py\", line 334, in get\n",
      "    with self._rlock:\n",
      "  File \"/home/bjarne/.pyenv/versions/miniconda3-4.3.30/envs/tf_gpu/lib/python3.6/multiprocessing/queues.py\", line 334, in get\n",
      "    with self._rlock:\n",
      "  File \"/home/bjarne/.pyenv/versions/miniconda3-4.3.30/envs/tf_gpu/lib/python3.6/multiprocessing/queues.py\", line 334, in get\n",
      "    with self._rlock:\n",
      "  File \"/home/bjarne/.pyenv/versions/miniconda3-4.3.30/envs/tf_gpu/lib/python3.6/multiprocessing/queues.py\", line 334, in get\n",
      "    with self._rlock:\n",
      "  File \"/home/bjarne/.pyenv/versions/miniconda3-4.3.30/envs/tf_gpu/lib/python3.6/multiprocessing/queues.py\", line 334, in get\n",
      "    with self._rlock:\n",
      "  File \"/home/bjarne/.pyenv/versions/miniconda3-4.3.30/envs/tf_gpu/lib/python3.6/multiprocessing/queues.py\", line 334, in get\n",
      "    with self._rlock:\n",
      "  File \"/home/bjarne/.pyenv/versions/miniconda3-4.3.30/envs/tf_gpu/lib/python3.6/multiprocessing/queues.py\", line 334, in get\n",
      "    with self._rlock:\n",
      "  File \"/home/bjarne/.pyenv/versions/miniconda3-4.3.30/envs/tf_gpu/lib/python3.6/multiprocessing/queues.py\", line 334, in get\n",
      "    with self._rlock:\n",
      "  File \"/home/bjarne/.pyenv/versions/miniconda3-4.3.30/envs/tf_gpu/lib/python3.6/site-packages/keras/utils/data_utils.py\", line 401, in get_index\n",
      "    return _SHARED_SEQUENCES[uid][i]\n",
      "  File \"/home/bjarne/.pyenv/versions/miniconda3-4.3.30/envs/tf_gpu/lib/python3.6/multiprocessing/queues.py\", line 334, in get\n",
      "    with self._rlock:\n",
      "  File \"/home/bjarne/.pyenv/versions/miniconda3-4.3.30/envs/tf_gpu/lib/python3.6/multiprocessing/queues.py\", line 334, in get\n",
      "    with self._rlock:\n",
      "  File \"/home/bjarne/.pyenv/versions/miniconda3-4.3.30/envs/tf_gpu/lib/python3.6/multiprocessing/queues.py\", line 334, in get\n",
      "    with self._rlock:\n",
      "  File \"/home/bjarne/.pyenv/versions/miniconda3-4.3.30/envs/tf_gpu/lib/python3.6/site-packages/keras/utils/data_utils.py\", line 401, in get_index\n",
      "    return _SHARED_SEQUENCES[uid][i]\n",
      "  File \"/home/bjarne/.pyenv/versions/miniconda3-4.3.30/envs/tf_gpu/lib/python3.6/multiprocessing/queues.py\", line 334, in get\n",
      "    with self._rlock:\n",
      "  File \"/home/bjarne/.pyenv/versions/miniconda3-4.3.30/envs/tf_gpu/lib/python3.6/multiprocessing/queues.py\", line 334, in get\n",
      "    with self._rlock:\n",
      "  File \"/home/bjarne/.pyenv/versions/miniconda3-4.3.30/envs/tf_gpu/lib/python3.6/multiprocessing/queues.py\", line 334, in get\n",
      "    with self._rlock:\n",
      "  File \"/home/bjarne/.pyenv/versions/miniconda3-4.3.30/envs/tf_gpu/lib/python3.6/multiprocessing/queues.py\", line 334, in get\n",
      "    with self._rlock:\n",
      "  File \"/home/bjarne/.pyenv/versions/miniconda3-4.3.30/envs/tf_gpu/lib/python3.6/multiprocessing/queues.py\", line 334, in get\n",
      "    with self._rlock:\n",
      "  File \"/home/bjarne/.pyenv/versions/miniconda3-4.3.30/envs/tf_gpu/lib/python3.6/multiprocessing/queues.py\", line 334, in get\n",
      "    with self._rlock:\n",
      "  File \"/home/bjarne/.pyenv/versions/miniconda3-4.3.30/envs/tf_gpu/lib/python3.6/multiprocessing/synchronize.py\", line 95, in __enter__\n",
      "    return self._semlock.__enter__()\n",
      "  File \"/home/bjarne/.pyenv/versions/miniconda3-4.3.30/envs/tf_gpu/lib/python3.6/multiprocessing/queues.py\", line 334, in get\n",
      "    with self._rlock:\n",
      "  File \"/home/bjarne/.pyenv/versions/miniconda3-4.3.30/envs/tf_gpu/lib/python3.6/multiprocessing/queues.py\", line 334, in get\n",
      "    with self._rlock:\n",
      "  File \"/home/bjarne/.pyenv/versions/miniconda3-4.3.30/envs/tf_gpu/lib/python3.6/multiprocessing/queues.py\", line 334, in get\n",
      "    with self._rlock:\n",
      "  File \"/home/bjarne/.pyenv/versions/miniconda3-4.3.30/envs/tf_gpu/lib/python3.6/multiprocessing/synchronize.py\", line 95, in __enter__\n",
      "    return self._semlock.__enter__()\n",
      "  File \"/home/bjarne/.pyenv/versions/miniconda3-4.3.30/envs/tf_gpu/lib/python3.6/multiprocessing/synchronize.py\", line 95, in __enter__\n",
      "    return self._semlock.__enter__()\n",
      "  File \"/home/bjarne/.pyenv/versions/miniconda3-4.3.30/envs/tf_gpu/lib/python3.6/multiprocessing/synchronize.py\", line 95, in __enter__\n",
      "    return self._semlock.__enter__()\n",
      "  File \"/home/bjarne/.pyenv/versions/miniconda3-4.3.30/envs/tf_gpu/lib/python3.6/multiprocessing/synchronize.py\", line 95, in __enter__\n",
      "    return self._semlock.__enter__()\n",
      "  File \"/home/bjarne/.pyenv/versions/miniconda3-4.3.30/envs/tf_gpu/lib/python3.6/multiprocessing/queues.py\", line 334, in get\n",
      "    with self._rlock:\n",
      "  File \"/home/bjarne/.pyenv/versions/miniconda3-4.3.30/envs/tf_gpu/lib/python3.6/multiprocessing/synchronize.py\", line 95, in __enter__\n",
      "    return self._semlock.__enter__()\n",
      "  File \"/home/bjarne/.pyenv/versions/miniconda3-4.3.30/envs/tf_gpu/lib/python3.6/multiprocessing/synchronize.py\", line 95, in __enter__\n",
      "    return self._semlock.__enter__()\n",
      "  File \"/home/bjarne/.pyenv/versions/miniconda3-4.3.30/envs/tf_gpu/lib/python3.6/multiprocessing/queues.py\", line 334, in get\n",
      "    with self._rlock:\n",
      "  File \"/home/bjarne/.pyenv/versions/miniconda3-4.3.30/envs/tf_gpu/lib/python3.6/multiprocessing/synchronize.py\", line 95, in __enter__\n",
      "    return self._semlock.__enter__()\n",
      "  File \"/home/bjarne/.pyenv/versions/miniconda3-4.3.30/envs/tf_gpu/lib/python3.6/multiprocessing/synchronize.py\", line 95, in __enter__\n",
      "    return self._semlock.__enter__()\n",
      "  File \"/home/bjarne/.pyenv/versions/miniconda3-4.3.30/envs/tf_gpu/lib/python3.6/multiprocessing/synchronize.py\", line 95, in __enter__\n",
      "    return self._semlock.__enter__()\n",
      "  File \"/home/bjarne/.pyenv/versions/miniconda3-4.3.30/envs/tf_gpu/lib/python3.6/multiprocessing/queues.py\", line 334, in get\n",
      "    with self._rlock:\n",
      "  File \"/home/bjarne/.pyenv/versions/miniconda3-4.3.30/envs/tf_gpu/lib/python3.6/multiprocessing/synchronize.py\", line 95, in __enter__\n",
      "    return self._semlock.__enter__()\n",
      "  File \"/home/bjarne/.pyenv/versions/miniconda3-4.3.30/envs/tf_gpu/lib/python3.6/multiprocessing/queues.py\", line 334, in get\n",
      "    with self._rlock:\n",
      "  File \"/home/bjarne/.pyenv/versions/miniconda3-4.3.30/envs/tf_gpu/lib/python3.6/multiprocessing/synchronize.py\", line 95, in __enter__\n",
      "    return self._semlock.__enter__()\n",
      "  File \"/home/bjarne/.pyenv/versions/miniconda3-4.3.30/envs/tf_gpu/lib/python3.6/multiprocessing/queues.py\", line 334, in get\n",
      "    with self._rlock:\n",
      "  File \"/home/bjarne/.pyenv/versions/miniconda3-4.3.30/envs/tf_gpu/lib/python3.6/multiprocessing/synchronize.py\", line 95, in __enter__\n",
      "    return self._semlock.__enter__()\n",
      "  File \"/home/bjarne/.pyenv/versions/miniconda3-4.3.30/envs/tf_gpu/lib/python3.6/multiprocessing/synchronize.py\", line 95, in __enter__\n",
      "    return self._semlock.__enter__()\n",
      "  File \"/home/bjarne/.pyenv/versions/miniconda3-4.3.30/envs/tf_gpu/lib/python3.6/multiprocessing/queues.py\", line 334, in get\n",
      "    with self._rlock:\n",
      "  File \"/home/bjarne/.pyenv/versions/miniconda3-4.3.30/envs/tf_gpu/lib/python3.6/multiprocessing/synchronize.py\", line 95, in __enter__\n",
      "    return self._semlock.__enter__()\n",
      "  File \"/home/bjarne/.pyenv/versions/miniconda3-4.3.30/envs/tf_gpu/lib/python3.6/multiprocessing/queues.py\", line 334, in get\n",
      "    with self._rlock:\n",
      "  File \"/home/bjarne/.pyenv/versions/miniconda3-4.3.30/envs/tf_gpu/lib/python3.6/multiprocessing/synchronize.py\", line 95, in __enter__\n",
      "    return self._semlock.__enter__()\n",
      "  File \"/home/bjarne/.pyenv/versions/miniconda3-4.3.30/envs/tf_gpu/lib/python3.6/multiprocessing/synchronize.py\", line 95, in __enter__\n",
      "    return self._semlock.__enter__()\n",
      "  File \"/home/bjarne/.pyenv/versions/miniconda3-4.3.30/envs/tf_gpu/lib/python3.6/multiprocessing/synchronize.py\", line 95, in __enter__\n",
      "    return self._semlock.__enter__()\n",
      "  File \"/home/bjarne/.pyenv/versions/miniconda3-4.3.30/envs/tf_gpu/lib/python3.6/multiprocessing/synchronize.py\", line 95, in __enter__\n",
      "    return self._semlock.__enter__()\n",
      "  File \"/home/bjarne/.pyenv/versions/miniconda3-4.3.30/envs/tf_gpu/lib/python3.6/multiprocessing/pool.py\", line 119, in worker\n",
      "    result = (True, func(*args, **kwds))\n",
      "  File \"/home/bjarne/.pyenv/versions/miniconda3-4.3.30/envs/tf_gpu/lib/python3.6/multiprocessing/synchronize.py\", line 95, in __enter__\n",
      "    return self._semlock.__enter__()\n",
      "  File \"/home/bjarne/.pyenv/versions/miniconda3-4.3.30/envs/tf_gpu/lib/python3.6/multiprocessing/synchronize.py\", line 95, in __enter__\n",
      "    return self._semlock.__enter__()\n",
      "  File \"/home/bjarne/.pyenv/versions/miniconda3-4.3.30/envs/tf_gpu/lib/python3.6/multiprocessing/synchronize.py\", line 95, in __enter__\n",
      "    return self._semlock.__enter__()\n",
      "  File \"/home/bjarne/.pyenv/versions/miniconda3-4.3.30/envs/tf_gpu/lib/python3.6/multiprocessing/synchronize.py\", line 95, in __enter__\n",
      "    return self._semlock.__enter__()\n",
      "  File \"/home/bjarne/.pyenv/versions/miniconda3-4.3.30/envs/tf_gpu/lib/python3.6/multiprocessing/connection.py\", line 216, in recv_bytes\n",
      "    buf = self._recv_bytes(maxlength)\n",
      "  File \"/home/bjarne/.pyenv/versions/miniconda3-4.3.30/envs/tf_gpu/lib/python3.6/multiprocessing/connection.py\", line 216, in recv_bytes\n",
      "    buf = self._recv_bytes(maxlength)\n",
      "  File \"/home/bjarne/.pyenv/versions/miniconda3-4.3.30/envs/tf_gpu/lib/python3.6/multiprocessing/synchronize.py\", line 95, in __enter__\n",
      "    return self._semlock.__enter__()\n",
      "  File \"/home/bjarne/.pyenv/versions/miniconda3-4.3.30/envs/tf_gpu/lib/python3.6/multiprocessing/queues.py\", line 334, in get\n",
      "    with self._rlock:\n",
      "  File \"/home/bjarne/.pyenv/versions/miniconda3-4.3.30/envs/tf_gpu/lib/python3.6/multiprocessing/synchronize.py\", line 95, in __enter__\n",
      "    return self._semlock.__enter__()\n",
      "  File \"/home/bjarne/.pyenv/versions/miniconda3-4.3.30/envs/tf_gpu/lib/python3.6/multiprocessing/synchronize.py\", line 95, in __enter__\n",
      "    return self._semlock.__enter__()\n",
      "  File \"/home/bjarne/.pyenv/versions/miniconda3-4.3.30/envs/tf_gpu/lib/python3.6/multiprocessing/synchronize.py\", line 95, in __enter__\n",
      "    return self._semlock.__enter__()\n",
      "  File \"/home/bjarne/.pyenv/versions/miniconda3-4.3.30/envs/tf_gpu/lib/python3.6/multiprocessing/synchronize.py\", line 95, in __enter__\n",
      "    return self._semlock.__enter__()\n",
      "  File \"/home/bjarne/.pyenv/versions/miniconda3-4.3.30/envs/tf_gpu/lib/python3.6/multiprocessing/synchronize.py\", line 95, in __enter__\n",
      "    return self._semlock.__enter__()\n",
      "  File \"/home/bjarne/.pyenv/versions/miniconda3-4.3.30/envs/tf_gpu/lib/python3.6/multiprocessing/synchronize.py\", line 95, in __enter__\n",
      "    return self._semlock.__enter__()\n",
      "  File \"/home/bjarne/.pyenv/versions/miniconda3-4.3.30/envs/tf_gpu/lib/python3.6/multiprocessing/synchronize.py\", line 95, in __enter__\n",
      "    return self._semlock.__enter__()\n",
      "  File \"/home/bjarne/.pyenv/versions/miniconda3-4.3.30/envs/tf_gpu/lib/python3.6/multiprocessing/synchronize.py\", line 95, in __enter__\n",
      "    return self._semlock.__enter__()\n",
      "  File \"/home/bjarne/.pyenv/versions/miniconda3-4.3.30/envs/tf_gpu/lib/python3.6/multiprocessing/synchronize.py\", line 95, in __enter__\n",
      "    return self._semlock.__enter__()\n",
      "  File \"/home/bjarne/.pyenv/versions/miniconda3-4.3.30/envs/tf_gpu/lib/python3.6/multiprocessing/synchronize.py\", line 95, in __enter__\n",
      "    return self._semlock.__enter__()\n",
      "  File \"/home/bjarne/.pyenv/versions/miniconda3-4.3.30/envs/tf_gpu/lib/python3.6/multiprocessing/synchronize.py\", line 95, in __enter__\n",
      "    return self._semlock.__enter__()\n",
      "  File \"/home/bjarne/.pyenv/versions/miniconda3-4.3.30/envs/tf_gpu/lib/python3.6/multiprocessing/synchronize.py\", line 95, in __enter__\n",
      "    return self._semlock.__enter__()\n",
      "  File \"<ipython-input-24-4499c21f8be6>\", line 68, in __getitem__\n",
      "    X, y = self.__data_generation(list_IDs_temp)\n",
      "  File \"/home/bjarne/.pyenv/versions/miniconda3-4.3.30/envs/tf_gpu/lib/python3.6/multiprocessing/synchronize.py\", line 95, in __enter__\n",
      "    return self._semlock.__enter__()\n",
      "  File \"/home/bjarne/.pyenv/versions/miniconda3-4.3.30/envs/tf_gpu/lib/python3.6/multiprocessing/synchronize.py\", line 95, in __enter__\n",
      "    return self._semlock.__enter__()\n",
      "  File \"/home/bjarne/.pyenv/versions/miniconda3-4.3.30/envs/tf_gpu/lib/python3.6/multiprocessing/synchronize.py\", line 95, in __enter__\n",
      "    return self._semlock.__enter__()\n",
      "  File \"<ipython-input-24-4499c21f8be6>\", line 68, in __getitem__\n",
      "    X, y = self.__data_generation(list_IDs_temp)\n",
      "  File \"/home/bjarne/.pyenv/versions/miniconda3-4.3.30/envs/tf_gpu/lib/python3.6/multiprocessing/synchronize.py\", line 95, in __enter__\n",
      "    return self._semlock.__enter__()\n",
      "  File \"/home/bjarne/.pyenv/versions/miniconda3-4.3.30/envs/tf_gpu/lib/python3.6/multiprocessing/synchronize.py\", line 95, in __enter__\n",
      "    return self._semlock.__enter__()\n",
      "  File \"/home/bjarne/.pyenv/versions/miniconda3-4.3.30/envs/tf_gpu/lib/python3.6/multiprocessing/synchronize.py\", line 95, in __enter__\n",
      "    return self._semlock.__enter__()\n",
      "  File \"/home/bjarne/.pyenv/versions/miniconda3-4.3.30/envs/tf_gpu/lib/python3.6/multiprocessing/synchronize.py\", line 95, in __enter__\n",
      "    return self._semlock.__enter__()\n",
      "  File \"/home/bjarne/.pyenv/versions/miniconda3-4.3.30/envs/tf_gpu/lib/python3.6/multiprocessing/synchronize.py\", line 95, in __enter__\n",
      "    return self._semlock.__enter__()\n",
      "KeyboardInterrupt\n",
      "  File \"/home/bjarne/.pyenv/versions/miniconda3-4.3.30/envs/tf_gpu/lib/python3.6/multiprocessing/synchronize.py\", line 95, in __enter__\n",
      "    return self._semlock.__enter__()\n",
      "  File \"/home/bjarne/.pyenv/versions/miniconda3-4.3.30/envs/tf_gpu/lib/python3.6/multiprocessing/synchronize.py\", line 95, in __enter__\n",
      "    return self._semlock.__enter__()\n",
      "  File \"/home/bjarne/.pyenv/versions/miniconda3-4.3.30/envs/tf_gpu/lib/python3.6/multiprocessing/synchronize.py\", line 95, in __enter__\n",
      "    return self._semlock.__enter__()\n",
      "KeyboardInterrupt\n",
      "  File \"/home/bjarne/.pyenv/versions/miniconda3-4.3.30/envs/tf_gpu/lib/python3.6/multiprocessing/synchronize.py\", line 95, in __enter__\n",
      "    return self._semlock.__enter__()\n",
      "  File \"/home/bjarne/.pyenv/versions/miniconda3-4.3.30/envs/tf_gpu/lib/python3.6/multiprocessing/synchronize.py\", line 95, in __enter__\n",
      "    return self._semlock.__enter__()\n",
      "KeyboardInterrupt\n",
      "KeyboardInterrupt\n",
      "KeyboardInterrupt\n",
      "KeyboardInterrupt\n",
      "KeyboardInterrupt\n",
      "KeyboardInterrupt\n",
      "KeyboardInterrupt\n",
      "  File \"/home/bjarne/.pyenv/versions/miniconda3-4.3.30/envs/tf_gpu/lib/python3.6/multiprocessing/synchronize.py\", line 95, in __enter__\n",
      "    return self._semlock.__enter__()\n",
      "KeyboardInterrupt\n",
      "  File \"/home/bjarne/.pyenv/versions/miniconda3-4.3.30/envs/tf_gpu/lib/python3.6/multiprocessing/synchronize.py\", line 95, in __enter__\n",
      "    return self._semlock.__enter__()\n",
      "KeyboardInterrupt\n",
      "  File \"/home/bjarne/.pyenv/versions/miniconda3-4.3.30/envs/tf_gpu/lib/python3.6/multiprocessing/synchronize.py\", line 95, in __enter__\n",
      "    return self._semlock.__enter__()\n",
      "KeyboardInterrupt\n",
      "KeyboardInterrupt\n",
      "  File \"/home/bjarne/.pyenv/versions/miniconda3-4.3.30/envs/tf_gpu/lib/python3.6/multiprocessing/synchronize.py\", line 95, in __enter__\n",
      "    return self._semlock.__enter__()\n",
      "KeyboardInterrupt\n",
      "  File \"/home/bjarne/.pyenv/versions/miniconda3-4.3.30/envs/tf_gpu/lib/python3.6/multiprocessing/synchronize.py\", line 95, in __enter__\n",
      "    return self._semlock.__enter__()\n",
      "KeyboardInterrupt\n",
      "KeyboardInterrupt\n",
      "KeyboardInterrupt\n",
      "KeyboardInterrupt\n",
      "  File \"/home/bjarne/.pyenv/versions/miniconda3-4.3.30/envs/tf_gpu/lib/python3.6/site-packages/keras/utils/data_utils.py\", line 401, in get_index\n",
      "    return _SHARED_SEQUENCES[uid][i]\n",
      "KeyboardInterrupt\n",
      "KeyboardInterrupt\n",
      "KeyboardInterrupt\n",
      "KeyboardInterrupt\n",
      "  File \"/home/bjarne/.pyenv/versions/miniconda3-4.3.30/envs/tf_gpu/lib/python3.6/multiprocessing/connection.py\", line 407, in _recv_bytes\n",
      "    buf = self._recv(4)\n",
      "  File \"/home/bjarne/.pyenv/versions/miniconda3-4.3.30/envs/tf_gpu/lib/python3.6/multiprocessing/connection.py\", line 407, in _recv_bytes\n",
      "    buf = self._recv(4)\n",
      "KeyboardInterrupt\n",
      "  File \"/home/bjarne/.pyenv/versions/miniconda3-4.3.30/envs/tf_gpu/lib/python3.6/multiprocessing/synchronize.py\", line 95, in __enter__\n",
      "    return self._semlock.__enter__()\n",
      "KeyboardInterrupt\n",
      "KeyboardInterrupt\n",
      "KeyboardInterrupt\n",
      "KeyboardInterrupt\n",
      "KeyboardInterrupt\n",
      "KeyboardInterrupt\n",
      "KeyboardInterrupt\n",
      "KeyboardInterrupt\n",
      "KeyboardInterrupt\n",
      "KeyboardInterrupt\n",
      "KeyboardInterrupt\n"
     ]
    },
    {
     "ename": "KeyboardInterrupt",
     "evalue": "",
     "output_type": "error",
     "traceback": [
      "\u001b[0;31m---------------------------------------------------------------------------\u001b[0m",
      "\u001b[0;31mKeyboardInterrupt\u001b[0m                         Traceback (most recent call last)",
      "\u001b[0;32m<ipython-input-32-20e6e06d369e>\u001b[0m in \u001b[0;36m<module>\u001b[0;34m\u001b[0m\n\u001b[1;32m      8\u001b[0m     \u001b[0mworkers\u001b[0m\u001b[0;34m=\u001b[0m\u001b[0;36m30\u001b[0m\u001b[0;34m,\u001b[0m\u001b[0;34m\u001b[0m\u001b[0;34m\u001b[0m\u001b[0m\n\u001b[1;32m      9\u001b[0m     \u001b[0mverbose\u001b[0m\u001b[0;34m=\u001b[0m\u001b[0mVERBOSE\u001b[0m\u001b[0;34m,\u001b[0m\u001b[0;34m\u001b[0m\u001b[0;34m\u001b[0m\u001b[0m\n\u001b[0;32m---> 10\u001b[0;31m     \u001b[0mcallbacks\u001b[0m\u001b[0;34m=\u001b[0m\u001b[0mmodel_callbacks\u001b[0m \u001b[0;34m+\u001b[0m \u001b[0mopti_callbacks\u001b[0m\u001b[0;34m,\u001b[0m\u001b[0;34m\u001b[0m\u001b[0;34m\u001b[0m\u001b[0m\n\u001b[0m\u001b[1;32m     11\u001b[0m )\n",
      "\u001b[0;32m~/.pyenv/versions/miniconda3-4.3.30/envs/tf_gpu/lib/python3.6/site-packages/keras/legacy/interfaces.py\u001b[0m in \u001b[0;36mwrapper\u001b[0;34m(*args, **kwargs)\u001b[0m\n\u001b[1;32m     89\u001b[0m                 warnings.warn('Update your `' + object_name + '` call to the ' +\n\u001b[1;32m     90\u001b[0m                               'Keras 2 API: ' + signature, stacklevel=2)\n\u001b[0;32m---> 91\u001b[0;31m             \u001b[0;32mreturn\u001b[0m \u001b[0mfunc\u001b[0m\u001b[0;34m(\u001b[0m\u001b[0;34m*\u001b[0m\u001b[0margs\u001b[0m\u001b[0;34m,\u001b[0m \u001b[0;34m**\u001b[0m\u001b[0mkwargs\u001b[0m\u001b[0;34m)\u001b[0m\u001b[0;34m\u001b[0m\u001b[0;34m\u001b[0m\u001b[0m\n\u001b[0m\u001b[1;32m     92\u001b[0m         \u001b[0mwrapper\u001b[0m\u001b[0;34m.\u001b[0m\u001b[0m_original_function\u001b[0m \u001b[0;34m=\u001b[0m \u001b[0mfunc\u001b[0m\u001b[0;34m\u001b[0m\u001b[0;34m\u001b[0m\u001b[0m\n\u001b[1;32m     93\u001b[0m         \u001b[0;32mreturn\u001b[0m \u001b[0mwrapper\u001b[0m\u001b[0;34m\u001b[0m\u001b[0;34m\u001b[0m\u001b[0m\n",
      "\u001b[0;32m~/.pyenv/versions/miniconda3-4.3.30/envs/tf_gpu/lib/python3.6/site-packages/keras/engine/training.py\u001b[0m in \u001b[0;36mfit_generator\u001b[0;34m(self, generator, steps_per_epoch, epochs, verbose, callbacks, validation_data, validation_steps, class_weight, max_queue_size, workers, use_multiprocessing, shuffle, initial_epoch)\u001b[0m\n\u001b[1;32m   1416\u001b[0m             \u001b[0muse_multiprocessing\u001b[0m\u001b[0;34m=\u001b[0m\u001b[0muse_multiprocessing\u001b[0m\u001b[0;34m,\u001b[0m\u001b[0;34m\u001b[0m\u001b[0;34m\u001b[0m\u001b[0m\n\u001b[1;32m   1417\u001b[0m             \u001b[0mshuffle\u001b[0m\u001b[0;34m=\u001b[0m\u001b[0mshuffle\u001b[0m\u001b[0;34m,\u001b[0m\u001b[0;34m\u001b[0m\u001b[0;34m\u001b[0m\u001b[0m\n\u001b[0;32m-> 1418\u001b[0;31m             initial_epoch=initial_epoch)\n\u001b[0m\u001b[1;32m   1419\u001b[0m \u001b[0;34m\u001b[0m\u001b[0m\n\u001b[1;32m   1420\u001b[0m     \u001b[0;34m@\u001b[0m\u001b[0minterfaces\u001b[0m\u001b[0;34m.\u001b[0m\u001b[0mlegacy_generator_methods_support\u001b[0m\u001b[0;34m\u001b[0m\u001b[0;34m\u001b[0m\u001b[0m\n",
      "\u001b[0;32m~/.pyenv/versions/miniconda3-4.3.30/envs/tf_gpu/lib/python3.6/site-packages/keras/engine/training_generator.py\u001b[0m in \u001b[0;36mfit_generator\u001b[0;34m(model, generator, steps_per_epoch, epochs, verbose, callbacks, validation_data, validation_steps, class_weight, max_queue_size, workers, use_multiprocessing, shuffle, initial_epoch)\u001b[0m\n\u001b[1;32m    215\u001b[0m                 outs = model.train_on_batch(x, y,\n\u001b[1;32m    216\u001b[0m                                             \u001b[0msample_weight\u001b[0m\u001b[0;34m=\u001b[0m\u001b[0msample_weight\u001b[0m\u001b[0;34m,\u001b[0m\u001b[0;34m\u001b[0m\u001b[0;34m\u001b[0m\u001b[0m\n\u001b[0;32m--> 217\u001b[0;31m                                             class_weight=class_weight)\n\u001b[0m\u001b[1;32m    218\u001b[0m \u001b[0;34m\u001b[0m\u001b[0m\n\u001b[1;32m    219\u001b[0m                 \u001b[0mouts\u001b[0m \u001b[0;34m=\u001b[0m \u001b[0mto_list\u001b[0m\u001b[0;34m(\u001b[0m\u001b[0mouts\u001b[0m\u001b[0;34m)\u001b[0m\u001b[0;34m\u001b[0m\u001b[0;34m\u001b[0m\u001b[0m\n",
      "\u001b[0;32m~/.pyenv/versions/miniconda3-4.3.30/envs/tf_gpu/lib/python3.6/site-packages/keras/engine/training.py\u001b[0m in \u001b[0;36mtrain_on_batch\u001b[0;34m(self, x, y, sample_weight, class_weight)\u001b[0m\n\u001b[1;32m   1215\u001b[0m             \u001b[0mins\u001b[0m \u001b[0;34m=\u001b[0m \u001b[0mx\u001b[0m \u001b[0;34m+\u001b[0m \u001b[0my\u001b[0m \u001b[0;34m+\u001b[0m \u001b[0msample_weights\u001b[0m\u001b[0;34m\u001b[0m\u001b[0;34m\u001b[0m\u001b[0m\n\u001b[1;32m   1216\u001b[0m         \u001b[0mself\u001b[0m\u001b[0;34m.\u001b[0m\u001b[0m_make_train_function\u001b[0m\u001b[0;34m(\u001b[0m\u001b[0;34m)\u001b[0m\u001b[0;34m\u001b[0m\u001b[0;34m\u001b[0m\u001b[0m\n\u001b[0;32m-> 1217\u001b[0;31m         \u001b[0moutputs\u001b[0m \u001b[0;34m=\u001b[0m \u001b[0mself\u001b[0m\u001b[0;34m.\u001b[0m\u001b[0mtrain_function\u001b[0m\u001b[0;34m(\u001b[0m\u001b[0mins\u001b[0m\u001b[0;34m)\u001b[0m\u001b[0;34m\u001b[0m\u001b[0;34m\u001b[0m\u001b[0m\n\u001b[0m\u001b[1;32m   1218\u001b[0m         \u001b[0;32mreturn\u001b[0m \u001b[0munpack_singleton\u001b[0m\u001b[0;34m(\u001b[0m\u001b[0moutputs\u001b[0m\u001b[0;34m)\u001b[0m\u001b[0;34m\u001b[0m\u001b[0;34m\u001b[0m\u001b[0m\n\u001b[1;32m   1219\u001b[0m \u001b[0;34m\u001b[0m\u001b[0m\n",
      "\u001b[0;32m~/.pyenv/versions/miniconda3-4.3.30/envs/tf_gpu/lib/python3.6/site-packages/keras/backend/tensorflow_backend.py\u001b[0m in \u001b[0;36m__call__\u001b[0;34m(self, inputs)\u001b[0m\n\u001b[1;32m   2713\u001b[0m                 \u001b[0;32mreturn\u001b[0m \u001b[0mself\u001b[0m\u001b[0;34m.\u001b[0m\u001b[0m_legacy_call\u001b[0m\u001b[0;34m(\u001b[0m\u001b[0minputs\u001b[0m\u001b[0;34m)\u001b[0m\u001b[0;34m\u001b[0m\u001b[0;34m\u001b[0m\u001b[0m\n\u001b[1;32m   2714\u001b[0m \u001b[0;34m\u001b[0m\u001b[0m\n\u001b[0;32m-> 2715\u001b[0;31m             \u001b[0;32mreturn\u001b[0m \u001b[0mself\u001b[0m\u001b[0;34m.\u001b[0m\u001b[0m_call\u001b[0m\u001b[0;34m(\u001b[0m\u001b[0minputs\u001b[0m\u001b[0;34m)\u001b[0m\u001b[0;34m\u001b[0m\u001b[0;34m\u001b[0m\u001b[0m\n\u001b[0m\u001b[1;32m   2716\u001b[0m         \u001b[0;32melse\u001b[0m\u001b[0;34m:\u001b[0m\u001b[0;34m\u001b[0m\u001b[0;34m\u001b[0m\u001b[0m\n\u001b[1;32m   2717\u001b[0m             \u001b[0;32mif\u001b[0m \u001b[0mpy_any\u001b[0m\u001b[0;34m(\u001b[0m\u001b[0mis_tensor\u001b[0m\u001b[0;34m(\u001b[0m\u001b[0mx\u001b[0m\u001b[0;34m)\u001b[0m \u001b[0;32mfor\u001b[0m \u001b[0mx\u001b[0m \u001b[0;32min\u001b[0m \u001b[0minputs\u001b[0m\u001b[0;34m)\u001b[0m\u001b[0;34m:\u001b[0m\u001b[0;34m\u001b[0m\u001b[0;34m\u001b[0m\u001b[0m\n",
      "\u001b[0;31mKeyboardInterrupt\u001b[0m: "
     ]
    },
    {
     "name": "stderr",
     "output_type": "stream",
     "text": [
      "KeyboardInterrupt\n",
      "KeyboardInterrupt\n",
      "KeyboardInterrupt\n",
      "  File \"<ipython-input-24-4499c21f8be6>\", line 108, in __data_generation\n",
      "    X, y = augmentor(X, y_class)\n",
      "  File \"<ipython-input-24-4499c21f8be6>\", line 108, in __data_generation\n",
      "    X, y = augmentor(X, y_class)\n",
      "KeyboardInterrupt\n",
      "KeyboardInterrupt\n",
      "KeyboardInterrupt\n",
      "KeyboardInterrupt\n",
      "KeyboardInterrupt\n",
      "KeyboardInterrupt\n",
      "KeyboardInterrupt\n",
      "KeyboardInterrupt\n",
      "KeyboardInterrupt\n",
      "KeyboardInterrupt\n",
      "KeyboardInterrupt\n",
      "KeyboardInterrupt\n",
      "KeyboardInterrupt\n",
      "  File \"/home/bjarne/.pyenv/versions/miniconda3-4.3.30/envs/tf_gpu/lib/python3.6/multiprocessing/connection.py\", line 379, in _recv\n",
      "    chunk = read(handle, remaining)\n",
      "KeyboardInterrupt\n",
      "KeyboardInterrupt\n",
      "KeyboardInterrupt\n",
      "  File \"<ipython-input-24-4499c21f8be6>\", line 10, in augmentor\n",
      "    segmap_aug = seq_det.augment_images(segmap)\n",
      "KeyboardInterrupt\n",
      "KeyboardInterrupt\n",
      "KeyboardInterrupt\n",
      "  File \"/home/bjarne/.pyenv/versions/miniconda3-4.3.30/envs/tf_gpu/lib/python3.6/multiprocessing/connection.py\", line 379, in _recv\n",
      "    chunk = read(handle, remaining)\n",
      "  File \"/home/bjarne/.pyenv/versions/miniconda3-4.3.30/envs/tf_gpu/lib/python3.6/site-packages/imgaug/augmenters/meta.py\", line 603, in augment_images\n",
      "    hooks=hooks\n",
      "  File \"<ipython-input-24-4499c21f8be6>\", line 10, in augmentor\n",
      "    segmap_aug = seq_det.augment_images(segmap)\n",
      "  File \"/home/bjarne/.pyenv/versions/miniconda3-4.3.30/envs/tf_gpu/lib/python3.6/site-packages/imgaug/augmenters/meta.py\", line 3118, in _augment_images\n",
      "    hooks=hooks\n",
      "  File \"/home/bjarne/.pyenv/versions/miniconda3-4.3.30/envs/tf_gpu/lib/python3.6/site-packages/imgaug/augmenters/meta.py\", line 515, in augment_images\n",
      "    hooks=hooks\n",
      "  File \"<ipython-input-24-4499c21f8be6>\", line 68, in __getitem__\n",
      "    X, y = self.__data_generation(list_IDs_temp)\n",
      "  File \"/home/bjarne/.pyenv/versions/miniconda3-4.3.30/envs/tf_gpu/lib/python3.6/site-packages/imgaug/augmenters/geometric.py\", line 620, in _augment_images\n",
      "    shear_samples, cval_samples, mode_samples, order_samples)\n",
      "  File \"/home/bjarne/.pyenv/versions/miniconda3-4.3.30/envs/tf_gpu/lib/python3.6/site-packages/imgaug/augmenters/meta.py\", line 3118, in _augment_images\n",
      "    hooks=hooks\n",
      "  File \"/home/bjarne/.pyenv/versions/miniconda3-4.3.30/envs/tf_gpu/lib/python3.6/site-packages/imgaug/augmenters/geometric.py\", line 674, in _augment_images_by_samples\n",
      "    return_matrix=return_matrices,\n",
      "  File \"<ipython-input-24-4499c21f8be6>\", line 108, in __data_generation\n",
      "    X, y = augmentor(X, y_class)\n",
      "  File \"/home/bjarne/.pyenv/versions/miniconda3-4.3.30/envs/tf_gpu/lib/python3.6/site-packages/imgaug/augmenters/meta.py\", line 515, in augment_images\n",
      "    hooks=hooks\n",
      "  File \"/home/bjarne/.pyenv/versions/miniconda3-4.3.30/envs/tf_gpu/lib/python3.6/site-packages/imgaug/augmenters/geometric.py\", line 896, in _warp_skimage\n",
      "    output_shape=output_shape,\n",
      "  File \"<ipython-input-24-4499c21f8be6>\", line 10, in augmentor\n",
      "    segmap_aug = seq_det.augment_images(segmap)\n",
      "  File \"/home/bjarne/.pyenv/versions/miniconda3-4.3.30/envs/tf_gpu/lib/python3.6/site-packages/imgaug/augmenters/meta.py\", line 578, in augment_images\n",
      "    image_copy = np.copy(image)\n",
      "  File \"/home/bjarne/.pyenv/versions/miniconda3-4.3.30/envs/tf_gpu/lib/python3.6/site-packages/imgaug/augmenters/geometric.py\", line 620, in _augment_images\n",
      "    shear_samples, cval_samples, mode_samples, order_samples)\n",
      "  File \"/home/bjarne/.pyenv/versions/miniconda3-4.3.30/envs/tf_gpu/lib/python3.6/site-packages/imgaug/augmenters/geometric.py\", line 674, in _augment_images_by_samples\n",
      "    return_matrix=return_matrices,\n",
      "  File \"/home/bjarne/.pyenv/versions/miniconda3-4.3.30/envs/tf_gpu/lib/python3.6/site-packages/skimage/transform/_warps.py\", line 871, in warp\n",
      "    order=order, mode=mode, cval=cval))\n",
      "  File \"/home/bjarne/.pyenv/versions/miniconda3-4.3.30/envs/tf_gpu/lib/python3.6/site-packages/numpy/lib/function_base.py\", line 792, in copy\n",
      "    return array(a, order=order, copy=True)\n",
      "  File \"skimage/transform/_warps_cy.pyx\", line 174, in skimage.transform._warps_cy._warp_fast\n",
      "  File \"/home/bjarne/.pyenv/versions/miniconda3-4.3.30/envs/tf_gpu/lib/python3.6/site-packages/imgaug/augmenters/geometric.py\", line 896, in _warp_skimage\n",
      "    output_shape=output_shape,\n",
      "KeyboardInterrupt\n",
      "  File \"/home/bjarne/.pyenv/versions/miniconda3-4.3.30/envs/tf_gpu/lib/python3.6/site-packages/skimage/transform/_warps.py\", line 871, in warp\n",
      "    order=order, mode=mode, cval=cval))\n",
      "  File \"/home/bjarne/.pyenv/versions/miniconda3-4.3.30/envs/tf_gpu/lib/python3.6/site-packages/numpy/core/numeric.py\", line 469, in asarray\n",
      "    @set_module('numpy')\n",
      "  File \"skimage/transform/_warps_cy.pyx\", line 174, in skimage.transform._warps_cy._warp_fast\n",
      "KeyboardInterrupt\n",
      "  File \"/home/bjarne/.pyenv/versions/miniconda3-4.3.30/envs/tf_gpu/lib/python3.6/site-packages/numpy/core/numeric.py\", line 469, in asarray\n",
      "    @set_module('numpy')\n",
      "KeyboardInterrupt\n",
      "Process ForkPoolWorker-1149:\n",
      "Process ForkPoolWorker-1142:\n",
      "Process ForkPoolWorker-1141:\n",
      "Process ForkPoolWorker-1147:\n",
      "Process ForkPoolWorker-1144:\n",
      "Process ForkPoolWorker-1145:\n",
      "Process ForkPoolWorker-1143:\n",
      "Process ForkPoolWorker-1148:\n",
      "Process ForkPoolWorker-1146:\n",
      "Traceback (most recent call last):\n",
      "Traceback (most recent call last):\n",
      "Traceback (most recent call last):\n",
      "  File \"/home/bjarne/.pyenv/versions/miniconda3-4.3.30/envs/tf_gpu/lib/python3.6/multiprocessing/process.py\", line 258, in _bootstrap\n",
      "    self.run()\n",
      "  File \"/home/bjarne/.pyenv/versions/miniconda3-4.3.30/envs/tf_gpu/lib/python3.6/multiprocessing/process.py\", line 258, in _bootstrap\n",
      "    self.run()\n",
      "  File \"/home/bjarne/.pyenv/versions/miniconda3-4.3.30/envs/tf_gpu/lib/python3.6/multiprocessing/process.py\", line 93, in run\n",
      "    self._target(*self._args, **self._kwargs)\n",
      "  File \"/home/bjarne/.pyenv/versions/miniconda3-4.3.30/envs/tf_gpu/lib/python3.6/multiprocessing/process.py\", line 258, in _bootstrap\n",
      "    self.run()\n",
      "  File \"/home/bjarne/.pyenv/versions/miniconda3-4.3.30/envs/tf_gpu/lib/python3.6/multiprocessing/process.py\", line 93, in run\n",
      "    self._target(*self._args, **self._kwargs)\n",
      "  File \"/home/bjarne/.pyenv/versions/miniconda3-4.3.30/envs/tf_gpu/lib/python3.6/multiprocessing/process.py\", line 93, in run\n",
      "    self._target(*self._args, **self._kwargs)\n",
      "  File \"/home/bjarne/.pyenv/versions/miniconda3-4.3.30/envs/tf_gpu/lib/python3.6/multiprocessing/pool.py\", line 108, in worker\n",
      "    task = get()\n",
      "  File \"/home/bjarne/.pyenv/versions/miniconda3-4.3.30/envs/tf_gpu/lib/python3.6/multiprocessing/pool.py\", line 108, in worker\n",
      "    task = get()\n",
      "  File \"/home/bjarne/.pyenv/versions/miniconda3-4.3.30/envs/tf_gpu/lib/python3.6/multiprocessing/pool.py\", line 108, in worker\n",
      "    task = get()\n",
      "  File \"/home/bjarne/.pyenv/versions/miniconda3-4.3.30/envs/tf_gpu/lib/python3.6/multiprocessing/queues.py\", line 334, in get\n",
      "    with self._rlock:\n",
      "  File \"/home/bjarne/.pyenv/versions/miniconda3-4.3.30/envs/tf_gpu/lib/python3.6/multiprocessing/queues.py\", line 334, in get\n",
      "    with self._rlock:\n",
      "  File \"/home/bjarne/.pyenv/versions/miniconda3-4.3.30/envs/tf_gpu/lib/python3.6/multiprocessing/queues.py\", line 334, in get\n",
      "    with self._rlock:\n",
      "  File \"/home/bjarne/.pyenv/versions/miniconda3-4.3.30/envs/tf_gpu/lib/python3.6/multiprocessing/synchronize.py\", line 95, in __enter__\n",
      "    return self._semlock.__enter__()\n",
      "  File \"/home/bjarne/.pyenv/versions/miniconda3-4.3.30/envs/tf_gpu/lib/python3.6/multiprocessing/synchronize.py\", line 95, in __enter__\n",
      "    return self._semlock.__enter__()\n",
      "  File \"/home/bjarne/.pyenv/versions/miniconda3-4.3.30/envs/tf_gpu/lib/python3.6/multiprocessing/synchronize.py\", line 95, in __enter__\n",
      "    return self._semlock.__enter__()\n",
      "KeyboardInterrupt\n",
      "KeyboardInterrupt\n",
      "KeyboardInterrupt\n",
      "Traceback (most recent call last):\n",
      "Traceback (most recent call last):\n",
      "Traceback (most recent call last):\n",
      "Traceback (most recent call last):\n",
      "  File \"/home/bjarne/.pyenv/versions/miniconda3-4.3.30/envs/tf_gpu/lib/python3.6/multiprocessing/process.py\", line 258, in _bootstrap\n",
      "    self.run()\n",
      "  File \"/home/bjarne/.pyenv/versions/miniconda3-4.3.30/envs/tf_gpu/lib/python3.6/multiprocessing/process.py\", line 258, in _bootstrap\n",
      "    self.run()\n",
      "  File \"/home/bjarne/.pyenv/versions/miniconda3-4.3.30/envs/tf_gpu/lib/python3.6/multiprocessing/process.py\", line 258, in _bootstrap\n",
      "    self.run()\n",
      "  File \"/home/bjarne/.pyenv/versions/miniconda3-4.3.30/envs/tf_gpu/lib/python3.6/multiprocessing/process.py\", line 258, in _bootstrap\n",
      "    self.run()\n",
      "Traceback (most recent call last):\n",
      "Traceback (most recent call last):\n",
      "  File \"/home/bjarne/.pyenv/versions/miniconda3-4.3.30/envs/tf_gpu/lib/python3.6/multiprocessing/process.py\", line 93, in run\n",
      "    self._target(*self._args, **self._kwargs)\n",
      "  File \"/home/bjarne/.pyenv/versions/miniconda3-4.3.30/envs/tf_gpu/lib/python3.6/multiprocessing/process.py\", line 93, in run\n",
      "    self._target(*self._args, **self._kwargs)\n",
      "  File \"/home/bjarne/.pyenv/versions/miniconda3-4.3.30/envs/tf_gpu/lib/python3.6/multiprocessing/process.py\", line 93, in run\n",
      "    self._target(*self._args, **self._kwargs)\n",
      "  File \"/home/bjarne/.pyenv/versions/miniconda3-4.3.30/envs/tf_gpu/lib/python3.6/multiprocessing/process.py\", line 93, in run\n",
      "    self._target(*self._args, **self._kwargs)\n",
      "  File \"/home/bjarne/.pyenv/versions/miniconda3-4.3.30/envs/tf_gpu/lib/python3.6/multiprocessing/process.py\", line 258, in _bootstrap\n",
      "    self.run()\n",
      "  File \"/home/bjarne/.pyenv/versions/miniconda3-4.3.30/envs/tf_gpu/lib/python3.6/multiprocessing/process.py\", line 258, in _bootstrap\n",
      "    self.run()\n",
      "  File \"/home/bjarne/.pyenv/versions/miniconda3-4.3.30/envs/tf_gpu/lib/python3.6/multiprocessing/pool.py\", line 108, in worker\n",
      "    task = get()\n",
      "  File \"/home/bjarne/.pyenv/versions/miniconda3-4.3.30/envs/tf_gpu/lib/python3.6/multiprocessing/pool.py\", line 108, in worker\n",
      "    task = get()\n",
      "  File \"/home/bjarne/.pyenv/versions/miniconda3-4.3.30/envs/tf_gpu/lib/python3.6/multiprocessing/pool.py\", line 108, in worker\n",
      "    task = get()\n",
      "  File \"/home/bjarne/.pyenv/versions/miniconda3-4.3.30/envs/tf_gpu/lib/python3.6/multiprocessing/pool.py\", line 108, in worker\n",
      "    task = get()\n",
      "  File \"/home/bjarne/.pyenv/versions/miniconda3-4.3.30/envs/tf_gpu/lib/python3.6/multiprocessing/process.py\", line 93, in run\n",
      "    self._target(*self._args, **self._kwargs)\n",
      "  File \"/home/bjarne/.pyenv/versions/miniconda3-4.3.30/envs/tf_gpu/lib/python3.6/multiprocessing/process.py\", line 93, in run\n",
      "    self._target(*self._args, **self._kwargs)\n",
      "  File \"/home/bjarne/.pyenv/versions/miniconda3-4.3.30/envs/tf_gpu/lib/python3.6/multiprocessing/queues.py\", line 334, in get\n",
      "    with self._rlock:\n",
      "  File \"/home/bjarne/.pyenv/versions/miniconda3-4.3.30/envs/tf_gpu/lib/python3.6/multiprocessing/queues.py\", line 334, in get\n",
      "    with self._rlock:\n",
      "  File \"/home/bjarne/.pyenv/versions/miniconda3-4.3.30/envs/tf_gpu/lib/python3.6/multiprocessing/queues.py\", line 334, in get\n",
      "    with self._rlock:\n",
      "  File \"/home/bjarne/.pyenv/versions/miniconda3-4.3.30/envs/tf_gpu/lib/python3.6/multiprocessing/queues.py\", line 334, in get\n",
      "    with self._rlock:\n",
      "  File \"/home/bjarne/.pyenv/versions/miniconda3-4.3.30/envs/tf_gpu/lib/python3.6/multiprocessing/pool.py\", line 108, in worker\n",
      "    task = get()\n",
      "  File \"/home/bjarne/.pyenv/versions/miniconda3-4.3.30/envs/tf_gpu/lib/python3.6/multiprocessing/pool.py\", line 108, in worker\n",
      "    task = get()\n",
      "  File \"/home/bjarne/.pyenv/versions/miniconda3-4.3.30/envs/tf_gpu/lib/python3.6/multiprocessing/synchronize.py\", line 95, in __enter__\n",
      "    return self._semlock.__enter__()\n",
      "  File \"/home/bjarne/.pyenv/versions/miniconda3-4.3.30/envs/tf_gpu/lib/python3.6/multiprocessing/synchronize.py\", line 95, in __enter__\n",
      "    return self._semlock.__enter__()\n",
      "  File \"/home/bjarne/.pyenv/versions/miniconda3-4.3.30/envs/tf_gpu/lib/python3.6/multiprocessing/synchronize.py\", line 95, in __enter__\n",
      "    return self._semlock.__enter__()\n",
      "  File \"/home/bjarne/.pyenv/versions/miniconda3-4.3.30/envs/tf_gpu/lib/python3.6/multiprocessing/synchronize.py\", line 95, in __enter__\n",
      "    return self._semlock.__enter__()\n",
      "  File \"/home/bjarne/.pyenv/versions/miniconda3-4.3.30/envs/tf_gpu/lib/python3.6/multiprocessing/queues.py\", line 334, in get\n",
      "    with self._rlock:\n",
      "  File \"/home/bjarne/.pyenv/versions/miniconda3-4.3.30/envs/tf_gpu/lib/python3.6/multiprocessing/queues.py\", line 334, in get\n",
      "    with self._rlock:\n",
      "KeyboardInterrupt\n",
      "KeyboardInterrupt\n",
      "KeyboardInterrupt\n",
      "KeyboardInterrupt\n",
      "  File \"/home/bjarne/.pyenv/versions/miniconda3-4.3.30/envs/tf_gpu/lib/python3.6/multiprocessing/synchronize.py\", line 95, in __enter__\n",
      "    return self._semlock.__enter__()\n",
      "  File \"/home/bjarne/.pyenv/versions/miniconda3-4.3.30/envs/tf_gpu/lib/python3.6/multiprocessing/synchronize.py\", line 95, in __enter__\n",
      "    return self._semlock.__enter__()\n",
      "KeyboardInterrupt\n",
      "KeyboardInterrupt\n"
     ]
    }
   ],
   "source": [
    "#model.save_weights(modelpath)\n",
    "history = model.fit_generator(\n",
    "    generator=train_generator,\n",
    "    epochs=NB_EPOCH,\n",
    "    initial_epoch=7,\n",
    "    validation_data=val_generator,\n",
    "    use_multiprocessing=True,\n",
    "    workers=30,\n",
    "    verbose=VERBOSE,\n",
    "    callbacks=model_callbacks + opti_callbacks,\n",
    ")"
   ]
  },
  {
   "cell_type": "code",
   "execution_count": 35,
   "metadata": {
    "collapsed": true,
    "jupyter": {
     "outputs_hidden": true,
     "source_hidden": true
    },
    "scrolled": true
   },
   "outputs": [
    {
     "data": {
      "application/vnd.jupyter.widget-view+json": {
       "model_id": "0a985c346a7b4e4596220e9351bcd422",
       "version_major": 2,
       "version_minor": 0
      },
      "text/plain": [
       "HBox(children=(IntProgress(value=0, description='Training', style=ProgressStyle(description_width='initial')),…"
      ]
     },
     "metadata": {},
     "output_type": "display_data"
    },
    {
     "data": {
      "application/vnd.jupyter.widget-view+json": {
       "model_id": "3e7acb6a921b471e9cd22fb613a67704",
       "version_major": 2,
       "version_minor": 0
      },
      "text/plain": [
       "HBox(children=(IntProgress(value=0, description='Epoch 11', max=10876, style=ProgressStyle(description_width='…"
      ]
     },
     "metadata": {},
     "output_type": "display_data"
    },
    {
     "data": {
      "application/vnd.jupyter.widget-view+json": {
       "model_id": "5d6e8b91e5bc4558b501a518eac3c437",
       "version_major": 2,
       "version_minor": 0
      },
      "text/plain": [
       "HBox(children=(IntProgress(value=0, description='Epoch 12', max=10876, style=ProgressStyle(description_width='…"
      ]
     },
     "metadata": {},
     "output_type": "display_data"
    },
    {
     "data": {
      "application/vnd.jupyter.widget-view+json": {
       "model_id": "ff36f458d433442392e341ee66794397",
       "version_major": 2,
       "version_minor": 0
      },
      "text/plain": [
       "HBox(children=(IntProgress(value=0, description='Epoch 13', max=10876, style=ProgressStyle(description_width='…"
      ]
     },
     "metadata": {},
     "output_type": "display_data"
    },
    {
     "data": {
      "application/vnd.jupyter.widget-view+json": {
       "model_id": "96f85e07bc1b4226918e979d6c241756",
       "version_major": 2,
       "version_minor": 0
      },
      "text/plain": [
       "HBox(children=(IntProgress(value=0, description='Epoch 14', max=10876, style=ProgressStyle(description_width='…"
      ]
     },
     "metadata": {},
     "output_type": "display_data"
    },
    {
     "data": {
      "application/vnd.jupyter.widget-view+json": {
       "model_id": "a1fa1cf9d06c4d46a179dfcf4217f753",
       "version_major": 2,
       "version_minor": 0
      },
      "text/plain": [
       "HBox(children=(IntProgress(value=0, description='Epoch 15', max=10876, style=ProgressStyle(description_width='…"
      ]
     },
     "metadata": {},
     "output_type": "display_data"
    },
    {
     "data": {
      "application/vnd.jupyter.widget-view+json": {
       "model_id": "08845cde85d04904b2b008c6a403b60b",
       "version_major": 2,
       "version_minor": 0
      },
      "text/plain": [
       "HBox(children=(IntProgress(value=0, description='Epoch 16', max=10876, style=ProgressStyle(description_width='…"
      ]
     },
     "metadata": {},
     "output_type": "display_data"
    },
    {
     "data": {
      "application/vnd.jupyter.widget-view+json": {
       "model_id": "cec72d334c3d40dca6b6dac4371e3248",
       "version_major": 2,
       "version_minor": 0
      },
      "text/plain": [
       "HBox(children=(IntProgress(value=0, description='Epoch 17', max=10876, style=ProgressStyle(description_width='…"
      ]
     },
     "metadata": {},
     "output_type": "display_data"
    },
    {
     "data": {
      "application/vnd.jupyter.widget-view+json": {
       "model_id": "ea15aaf49dae4d6899f7d815f794b8bc",
       "version_major": 2,
       "version_minor": 0
      },
      "text/plain": [
       "HBox(children=(IntProgress(value=0, description='Epoch 18', max=10876, style=ProgressStyle(description_width='…"
      ]
     },
     "metadata": {},
     "output_type": "display_data"
    },
    {
     "data": {
      "application/vnd.jupyter.widget-view+json": {
       "model_id": "51ec4d22dd5743c59410000f5a8312b1",
       "version_major": 2,
       "version_minor": 0
      },
      "text/plain": [
       "HBox(children=(IntProgress(value=0, description='Epoch 19', max=10876, style=ProgressStyle(description_width='…"
      ]
     },
     "metadata": {},
     "output_type": "display_data"
    },
    {
     "data": {
      "application/vnd.jupyter.widget-view+json": {
       "model_id": "ae3d2c20e7a246a5b27c29121bfeed3a",
       "version_major": 2,
       "version_minor": 0
      },
      "text/plain": [
       "HBox(children=(IntProgress(value=0, description='Epoch 20', max=10876, style=ProgressStyle(description_width='…"
      ]
     },
     "metadata": {},
     "output_type": "display_data"
    },
    {
     "data": {
      "application/vnd.jupyter.widget-view+json": {
       "model_id": "b51223ce417f4e108c506ca6b4acb8e3",
       "version_major": 2,
       "version_minor": 0
      },
      "text/plain": [
       "HBox(children=(IntProgress(value=0, description='Epoch 21', max=10876, style=ProgressStyle(description_width='…"
      ]
     },
     "metadata": {},
     "output_type": "display_data"
    },
    {
     "data": {
      "application/vnd.jupyter.widget-view+json": {
       "model_id": "ad0797527e5f4fa5824fe190d029eae4",
       "version_major": 2,
       "version_minor": 0
      },
      "text/plain": [
       "HBox(children=(IntProgress(value=0, description='Epoch 22', max=10876, style=ProgressStyle(description_width='…"
      ]
     },
     "metadata": {},
     "output_type": "display_data"
    },
    {
     "data": {
      "application/vnd.jupyter.widget-view+json": {
       "model_id": "cb99ef0f1ea44b4bb027eda75ab59c13",
       "version_major": 2,
       "version_minor": 0
      },
      "text/plain": [
       "HBox(children=(IntProgress(value=0, description='Epoch 23', max=10876, style=ProgressStyle(description_width='…"
      ]
     },
     "metadata": {},
     "output_type": "display_data"
    },
    {
     "data": {
      "application/vnd.jupyter.widget-view+json": {
       "model_id": "2846c3e57d414aee95ac9136f6ed749d",
       "version_major": 2,
       "version_minor": 0
      },
      "text/plain": [
       "HBox(children=(IntProgress(value=0, description='Epoch 24', max=10876, style=ProgressStyle(description_width='…"
      ]
     },
     "metadata": {},
     "output_type": "display_data"
    },
    {
     "data": {
      "application/vnd.jupyter.widget-view+json": {
       "model_id": "46137f4baa5242fcb4e8643ba7047267",
       "version_major": 2,
       "version_minor": 0
      },
      "text/plain": [
       "HBox(children=(IntProgress(value=0, description='Epoch 25', max=10876, style=ProgressStyle(description_width='…"
      ]
     },
     "metadata": {},
     "output_type": "display_data"
    },
    {
     "data": {
      "application/vnd.jupyter.widget-view+json": {
       "model_id": "9fdedb83646d4bdeab080eb945a8982b",
       "version_major": 2,
       "version_minor": 0
      },
      "text/plain": [
       "HBox(children=(IntProgress(value=0, description='Epoch 26', max=10876, style=ProgressStyle(description_width='…"
      ]
     },
     "metadata": {},
     "output_type": "display_data"
    },
    {
     "data": {
      "application/vnd.jupyter.widget-view+json": {
       "model_id": "b7c43d75457f4b8581a23eb9b7c50259",
       "version_major": 2,
       "version_minor": 0
      },
      "text/plain": [
       "HBox(children=(IntProgress(value=0, description='Epoch 27', max=10876, style=ProgressStyle(description_width='…"
      ]
     },
     "metadata": {},
     "output_type": "display_data"
    },
    {
     "data": {
      "application/vnd.jupyter.widget-view+json": {
       "model_id": "61d56126ff554595bcc626c3b9c40d5b",
       "version_major": 2,
       "version_minor": 0
      },
      "text/plain": [
       "HBox(children=(IntProgress(value=0, description='Epoch 28', max=10876, style=ProgressStyle(description_width='…"
      ]
     },
     "metadata": {},
     "output_type": "display_data"
    },
    {
     "data": {
      "application/vnd.jupyter.widget-view+json": {
       "model_id": "7a2c8806ff6445d3b75e0a275007c467",
       "version_major": 2,
       "version_minor": 0
      },
      "text/plain": [
       "HBox(children=(IntProgress(value=0, description='Epoch 29', max=10876, style=ProgressStyle(description_width='…"
      ]
     },
     "metadata": {},
     "output_type": "display_data"
    },
    {
     "data": {
      "application/vnd.jupyter.widget-view+json": {
       "model_id": "eb119ddb6a1040229dbd47585507b187",
       "version_major": 2,
       "version_minor": 0
      },
      "text/plain": [
       "HBox(children=(IntProgress(value=0, description='Epoch 30', max=10876, style=ProgressStyle(description_width='…"
      ]
     },
     "metadata": {},
     "output_type": "display_data"
    },
    {
     "data": {
      "application/vnd.jupyter.widget-view+json": {
       "model_id": "25d983c85091478e8fc91c77c08a6e09",
       "version_major": 2,
       "version_minor": 0
      },
      "text/plain": [
       "HBox(children=(IntProgress(value=0, description='Epoch 31', max=10876, style=ProgressStyle(description_width='…"
      ]
     },
     "metadata": {},
     "output_type": "display_data"
    },
    {
     "data": {
      "application/vnd.jupyter.widget-view+json": {
       "model_id": "f2ee4176848f4468926d9c347336fa68",
       "version_major": 2,
       "version_minor": 0
      },
      "text/plain": [
       "HBox(children=(IntProgress(value=0, description='Epoch 32', max=10876, style=ProgressStyle(description_width='…"
      ]
     },
     "metadata": {},
     "output_type": "display_data"
    },
    {
     "data": {
      "application/vnd.jupyter.widget-view+json": {
       "model_id": "866d2614c61e47c8ae8ce587c6548368",
       "version_major": 2,
       "version_minor": 0
      },
      "text/plain": [
       "HBox(children=(IntProgress(value=0, description='Epoch 33', max=10876, style=ProgressStyle(description_width='…"
      ]
     },
     "metadata": {},
     "output_type": "display_data"
    },
    {
     "data": {
      "application/vnd.jupyter.widget-view+json": {
       "model_id": "9787225c6e9745f685dfd78a4cd6e55b",
       "version_major": 2,
       "version_minor": 0
      },
      "text/plain": [
       "HBox(children=(IntProgress(value=0, description='Epoch 34', max=10876, style=ProgressStyle(description_width='…"
      ]
     },
     "metadata": {},
     "output_type": "display_data"
    },
    {
     "data": {
      "application/vnd.jupyter.widget-view+json": {
       "model_id": "eaec6b724d7940d0831326d9a27e31ba",
       "version_major": 2,
       "version_minor": 0
      },
      "text/plain": [
       "HBox(children=(IntProgress(value=0, description='Epoch 35', max=10876, style=ProgressStyle(description_width='…"
      ]
     },
     "metadata": {},
     "output_type": "display_data"
    },
    {
     "data": {
      "application/vnd.jupyter.widget-view+json": {
       "model_id": "57fcd08603364abe88f2365504014006",
       "version_major": 2,
       "version_minor": 0
      },
      "text/plain": [
       "HBox(children=(IntProgress(value=0, description='Epoch 36', max=10876, style=ProgressStyle(description_width='…"
      ]
     },
     "metadata": {},
     "output_type": "display_data"
    },
    {
     "data": {
      "application/vnd.jupyter.widget-view+json": {
       "model_id": "cb3f3c888a234948824c54a8b23fc4c6",
       "version_major": 2,
       "version_minor": 0
      },
      "text/plain": [
       "HBox(children=(IntProgress(value=0, description='Epoch 37', max=10876, style=ProgressStyle(description_width='…"
      ]
     },
     "metadata": {},
     "output_type": "display_data"
    },
    {
     "data": {
      "application/vnd.jupyter.widget-view+json": {
       "model_id": "d8df7d40fd584237a2a57a335c799831",
       "version_major": 2,
       "version_minor": 0
      },
      "text/plain": [
       "HBox(children=(IntProgress(value=0, description='Epoch 38', max=10876, style=ProgressStyle(description_width='…"
      ]
     },
     "metadata": {},
     "output_type": "display_data"
    },
    {
     "data": {
      "application/vnd.jupyter.widget-view+json": {
       "model_id": "69693ea80e504dfea39fd1c2c2468177",
       "version_major": 2,
       "version_minor": 0
      },
      "text/plain": [
       "HBox(children=(IntProgress(value=0, description='Epoch 39', max=10876, style=ProgressStyle(description_width='…"
      ]
     },
     "metadata": {},
     "output_type": "display_data"
    },
    {
     "data": {
      "application/vnd.jupyter.widget-view+json": {
       "model_id": "2b334e5cf05a40f0a911c586d2510b44",
       "version_major": 2,
       "version_minor": 0
      },
      "text/plain": [
       "HBox(children=(IntProgress(value=0, description='Epoch 40', max=10876, style=ProgressStyle(description_width='…"
      ]
     },
     "metadata": {},
     "output_type": "display_data"
    },
    {
     "data": {
      "application/vnd.jupyter.widget-view+json": {
       "model_id": "61bf3292416a457da7288845da0aa757",
       "version_major": 2,
       "version_minor": 0
      },
      "text/plain": [
       "HBox(children=(IntProgress(value=0, description='Epoch 41', max=10876, style=ProgressStyle(description_width='…"
      ]
     },
     "metadata": {},
     "output_type": "display_data"
    },
    {
     "data": {
      "application/vnd.jupyter.widget-view+json": {
       "model_id": "8ca18f5b1868435b81769b018eec9d8a",
       "version_major": 2,
       "version_minor": 0
      },
      "text/plain": [
       "HBox(children=(IntProgress(value=0, description='Epoch 42', max=10876, style=ProgressStyle(description_width='…"
      ]
     },
     "metadata": {},
     "output_type": "display_data"
    },
    {
     "data": {
      "application/vnd.jupyter.widget-view+json": {
       "model_id": "a7bb24b3916447f0ad87acd3e3108fd1",
       "version_major": 2,
       "version_minor": 0
      },
      "text/plain": [
       "HBox(children=(IntProgress(value=0, description='Epoch 43', max=10876, style=ProgressStyle(description_width='…"
      ]
     },
     "metadata": {},
     "output_type": "display_data"
    },
    {
     "data": {
      "application/vnd.jupyter.widget-view+json": {
       "model_id": "0a615c3f7c14449c8762c93a7ac4c806",
       "version_major": 2,
       "version_minor": 0
      },
      "text/plain": [
       "HBox(children=(IntProgress(value=0, description='Epoch 44', max=10876, style=ProgressStyle(description_width='…"
      ]
     },
     "metadata": {},
     "output_type": "display_data"
    },
    {
     "data": {
      "application/vnd.jupyter.widget-view+json": {
       "model_id": "ccf9700101e847fa8279834e0a2b35d4",
       "version_major": 2,
       "version_minor": 0
      },
      "text/plain": [
       "HBox(children=(IntProgress(value=0, description='Epoch 45', max=10876, style=ProgressStyle(description_width='…"
      ]
     },
     "metadata": {},
     "output_type": "display_data"
    },
    {
     "data": {
      "application/vnd.jupyter.widget-view+json": {
       "model_id": "8f7bfcca364c473eab11b1fd704f3e74",
       "version_major": 2,
       "version_minor": 0
      },
      "text/plain": [
       "HBox(children=(IntProgress(value=0, description='Epoch 46', max=10876, style=ProgressStyle(description_width='…"
      ]
     },
     "metadata": {},
     "output_type": "display_data"
    },
    {
     "data": {
      "application/vnd.jupyter.widget-view+json": {
       "model_id": "096f6e74e57846d88f192786dd206866",
       "version_major": 2,
       "version_minor": 0
      },
      "text/plain": [
       "HBox(children=(IntProgress(value=0, description='Epoch 47', max=10876, style=ProgressStyle(description_width='…"
      ]
     },
     "metadata": {},
     "output_type": "display_data"
    },
    {
     "data": {
      "application/vnd.jupyter.widget-view+json": {
       "model_id": "c0826a529a3445028e2236ae33b793e4",
       "version_major": 2,
       "version_minor": 0
      },
      "text/plain": [
       "HBox(children=(IntProgress(value=0, description='Epoch 48', max=10876, style=ProgressStyle(description_width='…"
      ]
     },
     "metadata": {},
     "output_type": "display_data"
    },
    {
     "data": {
      "application/vnd.jupyter.widget-view+json": {
       "model_id": "68def4db85a34c89beae4a84d626cd20",
       "version_major": 2,
       "version_minor": 0
      },
      "text/plain": [
       "HBox(children=(IntProgress(value=0, description='Epoch 49', max=10876, style=ProgressStyle(description_width='…"
      ]
     },
     "metadata": {},
     "output_type": "display_data"
    },
    {
     "data": {
      "application/vnd.jupyter.widget-view+json": {
       "model_id": "1e0e30e70d6744d580f2d895fc224c2d",
       "version_major": 2,
       "version_minor": 0
      },
      "text/plain": [
       "HBox(children=(IntProgress(value=0, description='Epoch 50', max=10876, style=ProgressStyle(description_width='…"
      ]
     },
     "metadata": {},
     "output_type": "display_data"
    },
    {
     "data": {
      "application/vnd.jupyter.widget-view+json": {
       "model_id": "4ee578ea49b44a799e7a0bca1b5236ed",
       "version_major": 2,
       "version_minor": 0
      },
      "text/plain": [
       "HBox(children=(IntProgress(value=0, description='Epoch 51', max=10876, style=ProgressStyle(description_width='…"
      ]
     },
     "metadata": {},
     "output_type": "display_data"
    },
    {
     "data": {
      "application/vnd.jupyter.widget-view+json": {
       "model_id": "424c8022445d4adf881f91abb76294a6",
       "version_major": 2,
       "version_minor": 0
      },
      "text/plain": [
       "HBox(children=(IntProgress(value=0, description='Epoch 52', max=10876, style=ProgressStyle(description_width='…"
      ]
     },
     "metadata": {},
     "output_type": "display_data"
    },
    {
     "data": {
      "application/vnd.jupyter.widget-view+json": {
       "model_id": "5f590139ebbd44f8bce95595b95bcf72",
       "version_major": 2,
       "version_minor": 0
      },
      "text/plain": [
       "HBox(children=(IntProgress(value=0, description='Epoch 53', max=10876, style=ProgressStyle(description_width='…"
      ]
     },
     "metadata": {},
     "output_type": "display_data"
    },
    {
     "data": {
      "application/vnd.jupyter.widget-view+json": {
       "model_id": "a87624755e2046b588804e322c7902a2",
       "version_major": 2,
       "version_minor": 0
      },
      "text/plain": [
       "HBox(children=(IntProgress(value=0, description='Epoch 54', max=10876, style=ProgressStyle(description_width='…"
      ]
     },
     "metadata": {},
     "output_type": "display_data"
    },
    {
     "data": {
      "application/vnd.jupyter.widget-view+json": {
       "model_id": "1a2b2bd20a394d58acfe9184954c8032",
       "version_major": 2,
       "version_minor": 0
      },
      "text/plain": [
       "HBox(children=(IntProgress(value=0, description='Epoch 55', max=10876, style=ProgressStyle(description_width='…"
      ]
     },
     "metadata": {},
     "output_type": "display_data"
    },
    {
     "data": {
      "application/vnd.jupyter.widget-view+json": {
       "model_id": "dd76e495002543a0bc4a5bad808a5989",
       "version_major": 2,
       "version_minor": 0
      },
      "text/plain": [
       "HBox(children=(IntProgress(value=0, description='Epoch 56', max=10876, style=ProgressStyle(description_width='…"
      ]
     },
     "metadata": {},
     "output_type": "display_data"
    },
    {
     "data": {
      "application/vnd.jupyter.widget-view+json": {
       "model_id": "f36624168d744325bf4c3788cf0cdad6",
       "version_major": 2,
       "version_minor": 0
      },
      "text/plain": [
       "HBox(children=(IntProgress(value=0, description='Epoch 57', max=10876, style=ProgressStyle(description_width='…"
      ]
     },
     "metadata": {},
     "output_type": "display_data"
    },
    {
     "data": {
      "application/vnd.jupyter.widget-view+json": {
       "model_id": "0d61ea781419451296d0d55066b2cdef",
       "version_major": 2,
       "version_minor": 0
      },
      "text/plain": [
       "HBox(children=(IntProgress(value=0, description='Epoch 58', max=10876, style=ProgressStyle(description_width='…"
      ]
     },
     "metadata": {},
     "output_type": "display_data"
    },
    {
     "data": {
      "application/vnd.jupyter.widget-view+json": {
       "model_id": "254a5a8dea1346418ffb08676983a074",
       "version_major": 2,
       "version_minor": 0
      },
      "text/plain": [
       "HBox(children=(IntProgress(value=0, description='Epoch 59', max=10876, style=ProgressStyle(description_width='…"
      ]
     },
     "metadata": {},
     "output_type": "display_data"
    },
    {
     "data": {
      "application/vnd.jupyter.widget-view+json": {
       "model_id": "c397833b53464b7d9df200aef5c00eb3",
       "version_major": 2,
       "version_minor": 0
      },
      "text/plain": [
       "HBox(children=(IntProgress(value=0, description='Epoch 60', max=10876, style=ProgressStyle(description_width='…"
      ]
     },
     "metadata": {},
     "output_type": "display_data"
    },
    {
     "data": {
      "application/vnd.jupyter.widget-view+json": {
       "model_id": "048924b2d9f04928b6daa4dd9165fbfe",
       "version_major": 2,
       "version_minor": 0
      },
      "text/plain": [
       "HBox(children=(IntProgress(value=0, description='Epoch 61', max=10876, style=ProgressStyle(description_width='…"
      ]
     },
     "metadata": {},
     "output_type": "display_data"
    },
    {
     "data": {
      "application/vnd.jupyter.widget-view+json": {
       "model_id": "5e3f15beebe44d44aca052aba5abfbd7",
       "version_major": 2,
       "version_minor": 0
      },
      "text/plain": [
       "HBox(children=(IntProgress(value=0, description='Epoch 62', max=10876, style=ProgressStyle(description_width='…"
      ]
     },
     "metadata": {},
     "output_type": "display_data"
    },
    {
     "data": {
      "application/vnd.jupyter.widget-view+json": {
       "model_id": "0af44b9635b845499a24f187621a874f",
       "version_major": 2,
       "version_minor": 0
      },
      "text/plain": [
       "HBox(children=(IntProgress(value=0, description='Epoch 63', max=10876, style=ProgressStyle(description_width='…"
      ]
     },
     "metadata": {},
     "output_type": "display_data"
    },
    {
     "data": {
      "application/vnd.jupyter.widget-view+json": {
       "model_id": "01f4d0a632aa4b8f93bc62f4eb85b019",
       "version_major": 2,
       "version_minor": 0
      },
      "text/plain": [
       "HBox(children=(IntProgress(value=0, description='Epoch 64', max=10876, style=ProgressStyle(description_width='…"
      ]
     },
     "metadata": {},
     "output_type": "display_data"
    },
    {
     "data": {
      "application/vnd.jupyter.widget-view+json": {
       "model_id": "0a6515decb9d41b5b933136151cae1d9",
       "version_major": 2,
       "version_minor": 0
      },
      "text/plain": [
       "HBox(children=(IntProgress(value=0, description='Epoch 65', max=10876, style=ProgressStyle(description_width='…"
      ]
     },
     "metadata": {},
     "output_type": "display_data"
    },
    {
     "data": {
      "application/vnd.jupyter.widget-view+json": {
       "model_id": "51336829b8be4f59900534f15727625a",
       "version_major": 2,
       "version_minor": 0
      },
      "text/plain": [
       "HBox(children=(IntProgress(value=0, description='Epoch 66', max=10876, style=ProgressStyle(description_width='…"
      ]
     },
     "metadata": {},
     "output_type": "display_data"
    },
    {
     "data": {
      "application/vnd.jupyter.widget-view+json": {
       "model_id": "fe3a2aa19a3247c096e33909a059ba79",
       "version_major": 2,
       "version_minor": 0
      },
      "text/plain": [
       "HBox(children=(IntProgress(value=0, description='Epoch 67', max=10876, style=ProgressStyle(description_width='…"
      ]
     },
     "metadata": {},
     "output_type": "display_data"
    },
    {
     "data": {
      "application/vnd.jupyter.widget-view+json": {
       "model_id": "5053a9bdfc8347ed9aa772e29fafabbe",
       "version_major": 2,
       "version_minor": 0
      },
      "text/plain": [
       "HBox(children=(IntProgress(value=0, description='Epoch 68', max=10876, style=ProgressStyle(description_width='…"
      ]
     },
     "metadata": {},
     "output_type": "display_data"
    },
    {
     "data": {
      "application/vnd.jupyter.widget-view+json": {
       "model_id": "172cf7ec8e924d0e9c5f1d6dc476d844",
       "version_major": 2,
       "version_minor": 0
      },
      "text/plain": [
       "HBox(children=(IntProgress(value=0, description='Epoch 69', max=10876, style=ProgressStyle(description_width='…"
      ]
     },
     "metadata": {},
     "output_type": "display_data"
    },
    {
     "data": {
      "application/vnd.jupyter.widget-view+json": {
       "model_id": "4a815c783124415c9b4089d791cd6713",
       "version_major": 2,
       "version_minor": 0
      },
      "text/plain": [
       "HBox(children=(IntProgress(value=0, description='Epoch 70', max=10876, style=ProgressStyle(description_width='…"
      ]
     },
     "metadata": {},
     "output_type": "display_data"
    },
    {
     "data": {
      "application/vnd.jupyter.widget-view+json": {
       "model_id": "69bb6e2e4eac4fe0aaf10be4182ff9b4",
       "version_major": 2,
       "version_minor": 0
      },
      "text/plain": [
       "HBox(children=(IntProgress(value=0, description='Epoch 71', max=10876, style=ProgressStyle(description_width='…"
      ]
     },
     "metadata": {},
     "output_type": "display_data"
    },
    {
     "data": {
      "application/vnd.jupyter.widget-view+json": {
       "model_id": "56810d79de5a4e558153039544d4a52f",
       "version_major": 2,
       "version_minor": 0
      },
      "text/plain": [
       "HBox(children=(IntProgress(value=0, description='Epoch 72', max=10876, style=ProgressStyle(description_width='…"
      ]
     },
     "metadata": {},
     "output_type": "display_data"
    },
    {
     "data": {
      "application/vnd.jupyter.widget-view+json": {
       "model_id": "6d577707899a456eb6b3329786f123f4",
       "version_major": 2,
       "version_minor": 0
      },
      "text/plain": [
       "HBox(children=(IntProgress(value=0, description='Epoch 73', max=10876, style=ProgressStyle(description_width='…"
      ]
     },
     "metadata": {},
     "output_type": "display_data"
    },
    {
     "name": "stdout",
     "output_type": "stream",
     "text": [
      "Error while trying to save the model: Unable to create file (unable to lock file, errno = 11, error message = 'Resource temporarily unavailable').\n",
      "Trying again...\n"
     ]
    },
    {
     "data": {
      "application/vnd.jupyter.widget-view+json": {
       "model_id": "11550821e1464f0480fc484eb54029ce",
       "version_major": 2,
       "version_minor": 0
      },
      "text/plain": [
       "HBox(children=(IntProgress(value=0, description='Epoch 74', max=10876, style=ProgressStyle(description_width='…"
      ]
     },
     "metadata": {},
     "output_type": "display_data"
    },
    {
     "data": {
      "application/vnd.jupyter.widget-view+json": {
       "model_id": "59de3e6a640844fcb66c9408061063f8",
       "version_major": 2,
       "version_minor": 0
      },
      "text/plain": [
       "HBox(children=(IntProgress(value=0, description='Epoch 75', max=10876, style=ProgressStyle(description_width='…"
      ]
     },
     "metadata": {},
     "output_type": "display_data"
    },
    {
     "data": {
      "application/vnd.jupyter.widget-view+json": {
       "model_id": "7ec2a6ee69634739a85bea8a46d890d5",
       "version_major": 2,
       "version_minor": 0
      },
      "text/plain": [
       "HBox(children=(IntProgress(value=0, description='Epoch 76', max=10876, style=ProgressStyle(description_width='…"
      ]
     },
     "metadata": {},
     "output_type": "display_data"
    },
    {
     "data": {
      "application/vnd.jupyter.widget-view+json": {
       "model_id": "b5f99e3c86784f5b9d700ee049bf967a",
       "version_major": 2,
       "version_minor": 0
      },
      "text/plain": [
       "HBox(children=(IntProgress(value=0, description='Epoch 77', max=10876, style=ProgressStyle(description_width='…"
      ]
     },
     "metadata": {},
     "output_type": "display_data"
    },
    {
     "data": {
      "application/vnd.jupyter.widget-view+json": {
       "model_id": "5b4cd8c128a845bb88519c286eafa395",
       "version_major": 2,
       "version_minor": 0
      },
      "text/plain": [
       "HBox(children=(IntProgress(value=0, description='Epoch 78', max=10876, style=ProgressStyle(description_width='…"
      ]
     },
     "metadata": {},
     "output_type": "display_data"
    },
    {
     "data": {
      "application/vnd.jupyter.widget-view+json": {
       "model_id": "a8e9c68abbad419097494cf2a790ac70",
       "version_major": 2,
       "version_minor": 0
      },
      "text/plain": [
       "HBox(children=(IntProgress(value=0, description='Epoch 79', max=10876, style=ProgressStyle(description_width='…"
      ]
     },
     "metadata": {},
     "output_type": "display_data"
    },
    {
     "data": {
      "application/vnd.jupyter.widget-view+json": {
       "model_id": "a2f99597c5204ae1be5f16fd9d97fbf7",
       "version_major": 2,
       "version_minor": 0
      },
      "text/plain": [
       "HBox(children=(IntProgress(value=0, description='Epoch 80', max=10876, style=ProgressStyle(description_width='…"
      ]
     },
     "metadata": {},
     "output_type": "display_data"
    },
    {
     "data": {
      "application/vnd.jupyter.widget-view+json": {
       "model_id": "d91ef51e27d34e9cbf6f7706f5e9811b",
       "version_major": 2,
       "version_minor": 0
      },
      "text/plain": [
       "HBox(children=(IntProgress(value=0, description='Epoch 81', max=10876, style=ProgressStyle(description_width='…"
      ]
     },
     "metadata": {},
     "output_type": "display_data"
    },
    {
     "data": {
      "application/vnd.jupyter.widget-view+json": {
       "model_id": "5f3a8f37a9674250b0b7cd860a043d49",
       "version_major": 2,
       "version_minor": 0
      },
      "text/plain": [
       "HBox(children=(IntProgress(value=0, description='Epoch 82', max=10876, style=ProgressStyle(description_width='…"
      ]
     },
     "metadata": {},
     "output_type": "display_data"
    },
    {
     "data": {
      "application/vnd.jupyter.widget-view+json": {
       "model_id": "1f79076f9c804295af8cdddc982a1e37",
       "version_major": 2,
       "version_minor": 0
      },
      "text/plain": [
       "HBox(children=(IntProgress(value=0, description='Epoch 83', max=10876, style=ProgressStyle(description_width='…"
      ]
     },
     "metadata": {},
     "output_type": "display_data"
    },
    {
     "data": {
      "application/vnd.jupyter.widget-view+json": {
       "model_id": "564a6090e20545e69ac38e6b87c432d7",
       "version_major": 2,
       "version_minor": 0
      },
      "text/plain": [
       "HBox(children=(IntProgress(value=0, description='Epoch 84', max=10876, style=ProgressStyle(description_width='…"
      ]
     },
     "metadata": {},
     "output_type": "display_data"
    },
    {
     "data": {
      "application/vnd.jupyter.widget-view+json": {
       "model_id": "12ac25ddfee5454eb94c81a13826ea8d",
       "version_major": 2,
       "version_minor": 0
      },
      "text/plain": [
       "HBox(children=(IntProgress(value=0, description='Epoch 85', max=10876, style=ProgressStyle(description_width='…"
      ]
     },
     "metadata": {},
     "output_type": "display_data"
    },
    {
     "data": {
      "application/vnd.jupyter.widget-view+json": {
       "model_id": "90547c67c299460d8ec8dccf1f3b6fcb",
       "version_major": 2,
       "version_minor": 0
      },
      "text/plain": [
       "HBox(children=(IntProgress(value=0, description='Epoch 86', max=10876, style=ProgressStyle(description_width='…"
      ]
     },
     "metadata": {},
     "output_type": "display_data"
    },
    {
     "data": {
      "application/vnd.jupyter.widget-view+json": {
       "model_id": "327b51d559ee488f8824c8c9ad1e4da9",
       "version_major": 2,
       "version_minor": 0
      },
      "text/plain": [
       "HBox(children=(IntProgress(value=0, description='Epoch 87', max=10876, style=ProgressStyle(description_width='…"
      ]
     },
     "metadata": {},
     "output_type": "display_data"
    },
    {
     "data": {
      "application/vnd.jupyter.widget-view+json": {
       "model_id": "70a7635a9a9c4969957bb113c97ea195",
       "version_major": 2,
       "version_minor": 0
      },
      "text/plain": [
       "HBox(children=(IntProgress(value=0, description='Epoch 88', max=10876, style=ProgressStyle(description_width='…"
      ]
     },
     "metadata": {},
     "output_type": "display_data"
    },
    {
     "data": {
      "application/vnd.jupyter.widget-view+json": {
       "model_id": "6f565861be244adf8182d6f27325bbee",
       "version_major": 2,
       "version_minor": 0
      },
      "text/plain": [
       "HBox(children=(IntProgress(value=0, description='Epoch 89', max=10876, style=ProgressStyle(description_width='…"
      ]
     },
     "metadata": {},
     "output_type": "display_data"
    },
    {
     "data": {
      "application/vnd.jupyter.widget-view+json": {
       "model_id": "1726a4b02f434d9ca4e432c3297e4d7d",
       "version_major": 2,
       "version_minor": 0
      },
      "text/plain": [
       "HBox(children=(IntProgress(value=0, description='Epoch 90', max=10876, style=ProgressStyle(description_width='…"
      ]
     },
     "metadata": {},
     "output_type": "display_data"
    },
    {
     "data": {
      "application/vnd.jupyter.widget-view+json": {
       "model_id": "a7de9a53aab846feb75cdb71cf88c393",
       "version_major": 2,
       "version_minor": 0
      },
      "text/plain": [
       "HBox(children=(IntProgress(value=0, description='Epoch 91', max=10876, style=ProgressStyle(description_width='…"
      ]
     },
     "metadata": {},
     "output_type": "display_data"
    },
    {
     "name": "stdout",
     "output_type": "stream",
     "text": [
      "Error while trying to save the model: Unable to create file (unable to lock file, errno = 11, error message = 'Resource temporarily unavailable').\n",
      "Trying again...\n"
     ]
    },
    {
     "data": {
      "application/vnd.jupyter.widget-view+json": {
       "model_id": "1e62e550c00546c9aa27108a0f65dc9e",
       "version_major": 2,
       "version_minor": 0
      },
      "text/plain": [
       "HBox(children=(IntProgress(value=0, description='Epoch 92', max=10876, style=ProgressStyle(description_width='…"
      ]
     },
     "metadata": {},
     "output_type": "display_data"
    },
    {
     "data": {
      "application/vnd.jupyter.widget-view+json": {
       "model_id": "0f28931a1c2e4faf9af89f0df9175421",
       "version_major": 2,
       "version_minor": 0
      },
      "text/plain": [
       "HBox(children=(IntProgress(value=0, description='Epoch 93', max=10876, style=ProgressStyle(description_width='…"
      ]
     },
     "metadata": {},
     "output_type": "display_data"
    },
    {
     "data": {
      "application/vnd.jupyter.widget-view+json": {
       "model_id": "6be81ce5171042a3b6556002ccdd3393",
       "version_major": 2,
       "version_minor": 0
      },
      "text/plain": [
       "HBox(children=(IntProgress(value=0, description='Epoch 94', max=10876, style=ProgressStyle(description_width='…"
      ]
     },
     "metadata": {},
     "output_type": "display_data"
    },
    {
     "data": {
      "application/vnd.jupyter.widget-view+json": {
       "model_id": "9d5fa8c3209d404ba732945f7b6e0e09",
       "version_major": 2,
       "version_minor": 0
      },
      "text/plain": [
       "HBox(children=(IntProgress(value=0, description='Epoch 95', max=10876, style=ProgressStyle(description_width='…"
      ]
     },
     "metadata": {},
     "output_type": "display_data"
    },
    {
     "data": {
      "application/vnd.jupyter.widget-view+json": {
       "model_id": "7b2ed24be7234ed3bc236e580e147942",
       "version_major": 2,
       "version_minor": 0
      },
      "text/plain": [
       "HBox(children=(IntProgress(value=0, description='Epoch 96', max=10876, style=ProgressStyle(description_width='…"
      ]
     },
     "metadata": {},
     "output_type": "display_data"
    },
    {
     "data": {
      "application/vnd.jupyter.widget-view+json": {
       "model_id": "9cacb60a4f094f4fa5a1c24c6211da3f",
       "version_major": 2,
       "version_minor": 0
      },
      "text/plain": [
       "HBox(children=(IntProgress(value=0, description='Epoch 97', max=10876, style=ProgressStyle(description_width='…"
      ]
     },
     "metadata": {},
     "output_type": "display_data"
    },
    {
     "data": {
      "application/vnd.jupyter.widget-view+json": {
       "model_id": "64953bec042d42089041d097759ca642",
       "version_major": 2,
       "version_minor": 0
      },
      "text/plain": [
       "HBox(children=(IntProgress(value=0, description='Epoch 98', max=10876, style=ProgressStyle(description_width='…"
      ]
     },
     "metadata": {},
     "output_type": "display_data"
    },
    {
     "data": {
      "application/vnd.jupyter.widget-view+json": {
       "model_id": "a04abff2ccb6414ba94ceaecf116b2f5",
       "version_major": 2,
       "version_minor": 0
      },
      "text/plain": [
       "HBox(children=(IntProgress(value=0, description='Epoch 99', max=10876, style=ProgressStyle(description_width='…"
      ]
     },
     "metadata": {},
     "output_type": "display_data"
    }
   ],
   "source": [
    "import os, re\n",
    "\n",
    "def purge(dir, pattern):\n",
    "    for f in os.listdir(dir):\n",
    "        if re.search(pattern, f):\n",
    "            os.remove(os.path.join(dir, f))\n",
    "\n",
    "#purge(osp.join(data_path, img_path, train_path), \"^X_[0-9]{7}[13579].tif$\")\n",
    "#purge(osp.join(data_path, img_path, train_path, \"gt\"), \"^X_[0-9]{7}[13579].tif$\")\n",
    "#purge(osp.join(data_path, img_path, val_path), \"^X_[0-9]{7}[13579].tif$\")\n",
    "#purge(osp.join(data_path, img_path, val_path, \"gt\"), \"^X_[0-9]{7}[13579].tif$\")\n",
    "\n",
    "train_generator = DataGenerator(\n",
    "    osp.join(data_path, img_path, train_path),\n",
    "    batch_size=BATCH_SIZE,\n",
    "    dim=(208, 208),\n",
    "    n_channels=3,\n",
    "    n_classes=num_class,\n",
    "    shuffle=True,\n",
    "    augmenter=True,\n",
    ")\n",
    "\n",
    "val_generator = DataGenerator(\n",
    "    osp.join(data_path, img_path, val_path),\n",
    "    batch_size=BATCH_SIZE,\n",
    "    dim=(208, 208),\n",
    "    n_channels=3,\n",
    "    n_classes=num_class,\n",
    "    shuffle=True,\n",
    "    augmenter=True,\n",
    ")\n",
    "\n",
    "history = model.fit_generator(\n",
    "    generator=train_generator,\n",
    "    epochs=100,\n",
    "    initial_epoch=11,\n",
    "    validation_data=val_generator,\n",
    "    use_multiprocessing=True,\n",
    "    workers=30,\n",
    "    verbose=VERBOSE,\n",
    "    callbacks=model_callbacks + opti_callbacks,\n",
    ")"
   ]
  },
  {
   "cell_type": "code",
   "execution_count": 19,
   "metadata": {},
   "outputs": [
    {
     "data": {
      "text/plain": [
       "(340, 449, 3)"
      ]
     },
     "execution_count": 19,
     "metadata": {},
     "output_type": "execute_result"
    },
    {
     "data": {
      "image/png": "[encoded data removed]",
      "text/plain": [
       "<Figure size 432x288 with 1 Axes>"
      ]
     },
     "metadata": {
      "needs_background": "light"
     },
     "output_type": "display_data"
    }
   ],
   "source": [
    "a = imread(\"./data/ADEChallengeData2016/images/training/ADE_train_00001701.jpg\")\n",
    "plt.imshow(a, cmap=\"gray\")\n",
    "a.shape\n",
    "b = np.stack((a,)*3, axis=-1)\n",
    "b.shape"
   ]
  },
  {
   "cell_type": "code",
   "execution_count": 15,
   "metadata": {},
   "outputs": [
    {
     "name": "stdout",
     "output_type": "stream",
     "text": [
      "path: ./data/ADEChallengeData2016/images/training/ADE_train_00001701.jpg\n",
      "actual shape: (340, 449)\n",
      "path: ./data/ADEChallengeData2016/images/training/ADE_train_00003020.jpg\n",
      "actual shape: (216, 216)\n",
      "path: ./data/ADEChallengeData2016/images/training/ADE_train_00008455.jpg\n",
      "actual shape: (512, 686)\n",
      "path: ./data/ADEChallengeData2016/images/training/ADE_train_00013508.jpg\n",
      "actual shape: (455, 700)\n",
      "Done!\n"
     ]
    }
   ],
   "source": [
    "files = sorted(glob(osp.join(data_path, img_path, train_path, \"*.jpg\")), key=str.lower)\n",
    "\n",
    "for file in files:\n",
    "    img = imread(file)\n",
    "    if len(img.shape) != 3:\n",
    "        print(\"path: {}\".format(file))\n",
    "        print(\"actual shape: {}\".format(img.shape))\n",
    "print(\"Done!\")"
   ]
  },
  {
   "cell_type": "code",
   "execution_count": 30,
   "metadata": {},
   "outputs": [
    {
     "data": {
      "text/plain": [
       "{'val_loss': [2.0383654946270706,\n",
       "  1.8595609805635318,\n",
       "  1.70548054490312,\n",
       "  1.6416993811325282,\n",
       "  1.581998532400525,\n",
       "  1.5785167608109154,\n",
       "  1.5798824719777014],\n",
       " 'val_acc': [0.4746045197629415,\n",
       "  0.5117727090843704,\n",
       "  0.5444471126077847,\n",
       "  0.5556073971962159,\n",
       "  0.5708089579612391,\n",
       "  0.5692585475167637,\n",
       "  0.5686792852206547],\n",
       " 'loss': [2.5305749942465816,\n",
       "  2.005576080798182,\n",
       "  1.8037207607087917,\n",
       "  1.6707491717771272,\n",
       "  1.5694327293190689,\n",
       "  1.4892524225390797,\n",
       "  1.4185654278657072],\n",
       " 'acc': [0.39428879182543597,\n",
       "  0.4821443026652913,\n",
       "  0.5239765376163582,\n",
       "  0.5516891845921147,\n",
       "  0.5727867747221203,\n",
       "  0.5896382626542189,\n",
       "  0.6050836267249039]}"
      ]
     },
     "execution_count": 30,
     "metadata": {},
     "output_type": "execute_result"
    }
   ],
   "source": [
    "model.history.history"
   ]
  },
  {
   "cell_type": "code",
   "execution_count": 37,
   "metadata": {},
   "outputs": [
    {
     "data": {
      "text/plain": [
       "[2.0861957075886925, 0.572938495146736]"
      ]
     },
     "execution_count": 37,
     "metadata": {},
     "output_type": "execute_result"
    }
   ],
   "source": [
    "model.evaluate_generator(val_generator)"
   ]
  },
  {
   "cell_type": "code",
   "execution_count": 66,
   "metadata": {},
   "outputs": [
    {
     "name": "stdout",
     "output_type": "stream",
     "text": [
      "./data/ADEChallengeData2016/images/validation/\n"
     ]
    }
   ],
   "source": [
    "def get_list_IDs(path):\n",
    "    list_IDs = [\n",
    "        osp.splitext(osp.basename(i))[0]\n",
    "        for i in glob(osp.join(path, \"*.tif\"))\n",
    "    ]\n",
    "    indexes = np.arange(len(list_IDs))\n",
    "    return list_IDs, indexes\n",
    "\n",
    "def create_test_pair(list_IDs, indexes, path):\n",
    "    list_IDs_temp = [list_IDs[k] for k in indexes]\n",
    "    \n",
    "    input_img, target_img = generate_pair(list_IDs_temp, path)\n",
    "    return input_img, target_img\n",
    "\n",
    "def generate_pair(list_IDs_temp, path):\n",
    "    ID = list_IDs_temp[0]\n",
    "    input_img = imread(path + ID + \".tif\").astype(\"float\")\n",
    "    target_img = imread(path + \"gt/\" + ID + \".tif\").astype(\"uint8\")\n",
    "    target_img = to_categorical(target_img, num_classes=151)\n",
    "    return input_img, target_img\n",
    "\n",
    "training_path = osp.join(data_path,img_path, train_path)\n",
    "predict_path = osp.join(data_path,img_path, val_path)\n",
    "print(predict_path)\n",
    "list_IDs, indexes = get_list_IDs(training_path)"
   ]
  },
  {
   "cell_type": "code",
   "execution_count": 76,
   "metadata": {},
   "outputs": [
    {
     "data": {
      "text/plain": [
       "Text(0.5, 1.0, 'predicted image')"
      ]
     },
     "execution_count": 76,
     "metadata": {},
     "output_type": "execute_result"
    },
    {
     "data": {
      "image/png": "[encoded data removed]",
      "text/plain": [
       "<Figure size 1440x1152 with 3 Axes>"
      ]
     },
     "metadata": {
      "needs_background": "light"
     },
     "output_type": "display_data"
    }
   ],
   "source": [
    "np.random.shuffle(indexes)\n",
    "input_img, target_img = create_test_pair(list_IDs, indexes, training_path)\n",
    "predict_img = model.predict(np.expand_dims(input_img, axis=0))\n",
    "predict_img = np.squeeze(predict_img)\n",
    "plt.rcParams[\"figure.figsize\"] = (20.0, 16.0)\n",
    "plt.subplot(1, 3, 1)\n",
    "plt.imshow(input_img)\n",
    "plt.title(\"input image\")\n",
    "plt.subplot(1, 3, 2)\n",
    "plt.imshow(np.argmax(target_img, axis =-1))\n",
    "plt.title(\"target image\")\n",
    "plt.subplot(1, 3, 3)\n",
    "plt.imshow(np.argmax(predict_img, axis =-1))\n",
    "plt.title(\"predicted image\")"
   ]
  },
  {
   "cell_type": "code",
   "execution_count": 54,
   "metadata": {},
   "outputs": [
    {
     "data": {
      "text/plain": [
       "<Figure size 1440x1152 with 0 Axes>"
      ]
     },
     "metadata": {},
     "output_type": "display_data"
    }
   ],
   "source": [
    "plt.savefig(\"ADE_example2.png\")"
   ]
  },
  {
   "cell_type": "code",
   "execution_count": null,
   "metadata": {},
   "outputs": [],
   "source": []
  }
 ],
 "metadata": {
  "kernelspec": {
   "display_name": "Miniconda3-4.3.0 Tensorflow 1.13",
   "language": "python",
   "name": "tf_gpu"
  },
  "language_info": {
   "codemirror_mode": {
    "name": "ipython",
    "version": 3
   },
   "file_extension": ".py",
   "mimetype": "text/x-python",
   "name": "python",
   "nbconvert_exporter": "python",
   "pygments_lexer": "ipython3",
   "version": "3.6.8"
  }
 },
 "nbformat": 4,
 "nbformat_minor": 4
}
